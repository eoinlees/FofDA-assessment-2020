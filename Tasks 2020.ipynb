{
 "cells": [
  {
   "cell_type": "markdown",
   "metadata": {},
   "source": [
    "# <p style=\"text-align: center;\">Fundamentals of Data Analytics: Tasks 2020 </p>\n",
    "<img src=\"https://i0.wp.com/www.creatingentrepreneursinfood.eu/wp-content/uploads/2017/02/GMIT-logo.png\" alt=\"gmit\" style=\"width: 200px;\"/>\n",
    "\n",
    "\n",
    "\n",
    "**<p style=\"text-align: center;\">Eoin Lees - G00387888 - December 18th 2020</p>**\n",
    "\n",
    "--------------\n"
   ]
  },
  {
   "cell_type": "markdown",
   "metadata": {},
   "source": [
    "# Task 1: Counts function\n",
    "---------------------\n",
    "\n",
    "**October 5th, 2020:** Write a Python function called counts that takes a list as\n",
    "input and returns a dictionary of unique items in the list as keys and the number of\n",
    "times each item appears as values. So, the input `['A', 'A', 'B', 'C', 'A']`\n",
    "should have output `{'A': 3, 'B': 1, 'C': 1}`. Your code should not depend\n",
    "on any module from the standard library1 or otherwise. You should research\n",
    "the task first and include a description with references of your algorithm in the\n",
    "notebook.\n",
    "\n",
    "--------------------"
   ]
  },
  {
   "cell_type": "markdown",
   "metadata": {},
   "source": [
    "## Define Function"
   ]
  },
  {
   "cell_type": "code",
   "execution_count": 1,
   "metadata": {},
   "outputs": [],
   "source": [
    "# Define Function\n",
    "\n",
    "def counts(x):\n",
    "    # create final list(dict) to be filled in for loop\n",
    "    finalList = {}\n",
    "    # Iterate\n",
    "    for i in x:\n",
    "        # see if i is already in finalList\n",
    "        if i in finalList:\n",
    "            # add one to i count if so\n",
    "            finalList[i] += 1\n",
    "        else:\n",
    "            # create i in finalList and set its value to 1 \n",
    "            finalList[i] = 1\n",
    "    \n",
    "    return finalList    "
   ]
  },
  {
   "cell_type": "markdown",
   "metadata": {},
   "source": [
    "This is how the `counts(x)` function works:\n",
    "\n",
    "* It takes a list as an input \"x\". \n",
    "* It creates a dictionary `finalList` to store all of the inputs.[[2]](https://realpython.com/python-dicts/)\n",
    "* It checks if each item \"i\" in the input list \"x\" is in the `finalList`\n",
    "    * If it is, it adds 1 to its count.\n",
    "    * if it's not, it creates the item \"i\" in the `finalList` and sets its count to 1. [[3]](https://stackabuse.com/python-get-number-of-elements-in-a-list/)\n",
    "* Once all items are iterated through it returns the `finalList` with each element counted in the correct format. \n",
    "\n",
    "Examples of how this function works are shown below.\n"
   ]
  },
  {
   "cell_type": "markdown",
   "metadata": {},
   "source": [
    "## Test function"
   ]
  },
  {
   "cell_type": "code",
   "execution_count": 2,
   "metadata": {},
   "outputs": [],
   "source": [
    "#Define Lists\n",
    "testListOne = [\"A\", \"A\", \"B\", \"C\", \"A\"]\n",
    "testListTwo = [\"Car\", \"Bar\", \"Toy\", \"Car\", \"Car\", \"Bar\"]\n",
    "testListThree = [\"12\", \"4\", \"12\", \"15\", \"4\", \"4\", \"4\",\"4\"]\n",
    "testListFour = [1,2,3,4,3,2,3,4,5,6,4,3,2]"
   ]
  },
  {
   "cell_type": "code",
   "execution_count": 3,
   "metadata": {},
   "outputs": [
    {
     "data": {
      "text/plain": [
       "{'A': 3, 'B': 1, 'C': 1}"
      ]
     },
     "execution_count": 3,
     "metadata": {},
     "output_type": "execute_result"
    }
   ],
   "source": [
    "# Test list 1\n",
    "counts(testListOne)"
   ]
  },
  {
   "cell_type": "code",
   "execution_count": 4,
   "metadata": {},
   "outputs": [
    {
     "data": {
      "text/plain": [
       "{'Car': 3, 'Bar': 2, 'Toy': 1}"
      ]
     },
     "execution_count": 4,
     "metadata": {},
     "output_type": "execute_result"
    }
   ],
   "source": [
    "# Test list 2\n",
    "counts(testListTwo)"
   ]
  },
  {
   "cell_type": "code",
   "execution_count": 5,
   "metadata": {},
   "outputs": [
    {
     "data": {
      "text/plain": [
       "{'12': 2, '4': 5, '15': 1}"
      ]
     },
     "execution_count": 5,
     "metadata": {},
     "output_type": "execute_result"
    }
   ],
   "source": [
    "# Test list 3\n",
    "counts(testListThree)"
   ]
  },
  {
   "cell_type": "code",
   "execution_count": 6,
   "metadata": {},
   "outputs": [
    {
     "data": {
      "text/plain": [
       "{1: 1, 2: 3, 3: 4, 4: 3, 5: 1, 6: 1}"
      ]
     },
     "execution_count": 6,
     "metadata": {},
     "output_type": "execute_result"
    }
   ],
   "source": [
    "# Test list 4\n",
    "counts(testListFour)"
   ]
  },
  {
   "cell_type": "markdown",
   "metadata": {},
   "source": [
    "### Input function\n",
    "\n",
    "Below is a cell that calls for an input list to be given.[[4]](https://pynative.com/python-accept-list-input-from-user/) It allows for the `counts(x)` function to be tested in real time. It takes the input and splits each word or number into a seperate item in the list. [[5]](https://www.w3schools.com/python/ref_string_split.asp)\n",
    "\n",
    "To run it hit \"shift + return\" and it will request an input. \n",
    "\n",
    "For convience here is a sample list to copy and past as input:\n",
    "\n",
    "                        Eoin Eoin Eoin Bob Bob Mary Mary Sue Eoin Mary 1 1 2 45 45 45 45\n",
    "                       \n",
    "You will recieve an output of the following:\n",
    "\n",
    "                        {'Eoin': 4, 'Bob': 2, 'Mary': 3, 'Sue': 1, '1': 2, '2': 1, '45': 4}"
   ]
  },
  {
   "cell_type": "code",
   "execution_count": 7,
   "metadata": {},
   "outputs": [
    {
     "name": "stdout",
     "output_type": "stream",
     "text": [
      "Enter a number of letters, numbers or words seperated by a space: 12\n"
     ]
    },
    {
     "data": {
      "text/plain": [
       "{'12': 1}"
      ]
     },
     "execution_count": 7,
     "metadata": {},
     "output_type": "execute_result"
    }
   ],
   "source": [
    "# Test List from input [1]\n",
    "List = input(\"Enter a number of letters, numbers or words seperated by a space: \")\n",
    "inputList = List.split()\n",
    "\n",
    "#print(userList)\n",
    "counts(inputList)"
   ]
  },
  {
   "cell_type": "markdown",
   "metadata": {},
   "source": [
    "## Alternate method\n",
    "----------------"
   ]
  },
  {
   "cell_type": "code",
   "execution_count": 8,
   "metadata": {},
   "outputs": [
    {
     "name": "stdout",
     "output_type": "stream",
     "text": [
      "{'Car': 3, 'Bar': 2, 'Toy': 1}\n"
     ]
    }
   ],
   "source": [
    "num = [\"Car\", \"Bar\", \"Toy\", \"Car\", \"Car\", \"Bar\"]\n",
    "\n",
    "def countsAlt(L):\n",
    "    print(dict((i, L.count(i)) for i in L))\n",
    "countsAlt(num)"
   ]
  },
  {
   "cell_type": "code",
   "execution_count": 9,
   "metadata": {},
   "outputs": [
    {
     "name": "stdout",
     "output_type": "stream",
     "text": [
      "{'A': 3, 'B': 1, 'C': 1}\n"
     ]
    }
   ],
   "source": [
    "countsAlt(testListOne)"
   ]
  },
  {
   "cell_type": "markdown",
   "metadata": {},
   "source": [
    "This alternate method uses the count() function built into python. [[1]](https://docs.python.org/3/tutorial/datastructures.html) \n",
    "\n",
    "* list.count(x)\n",
    "        Return the number of times x appears in the list.\n",
    "\n",
    "It is much more straight forward. It functions the same as the above method. "
   ]
  },
  {
   "cell_type": "markdown",
   "metadata": {},
   "source": [
    "## Results\n",
    "\n",
    "Both of the methods take an input list and return an output of unique items with the number of occurances of each item.\n",
    "\n",
    "This was achieved without calling and external functions. \n",
    "\n",
    "They fulfill the brief. \n",
    "\n",
    "## Conclusions\n",
    "\n",
    "Both of these functions achieve the brief. Testing has been undertaken to see if there are any issues with inpuit types,but no issues were discovered.  \n",
    "\n",
    "It is possible to achieve the same results by calling external functions like `numpy.unique` [[6]](https://numpy.org/devdocs/reference/generated/numpy.unique.html) or `collections.Counter()` [[7]](https://docs.python.org/3/library/collections.html#collections.Counter). However it was specifically stated that this was not allowed in the brief. \n",
    "\n",
    "Further work:\n",
    "* Further extensive testing on limits of function may be needed.\n",
    "* A seperate function could be created to have an input without calling for it. \n",
    "\n",
    "Either function can now be called anywhere else on this jupyter workbook. eg. Task 2. \n",
    "\n",
    "---------------------"
   ]
  },
  {
   "cell_type": "markdown",
   "metadata": {},
   "source": [
    "\n",
    "# References - Task 1\n",
    "\n",
    "[1] More on Lists; Python Software Foundation; https://docs.python.org/3/tutorial/datastructures.html\n",
    "\n",
    "[2] Dictionaries in Python; Real Python; https://realpython.com/python-dicts/\n",
    "\n",
    "[3] Python: Get Number of Elements in a List; Stack Abuse; https://stackabuse.com/python-get-number-of-elements-in-a-list/\n",
    "\n",
    "[4] Python Accept list as an input from a user; pynative.com; https://pynative.com/python-accept-list-input-from-user/\n",
    "\n",
    "[5] Python String split() Method; Refsnes Data; https://www.w3schools.com/python/ref_string_split.asp\n",
    "\n",
    "[6] numpy.unique; The SciPy community; https://numpy.org/devdocs/reference/generated/numpy.unique.html\n",
    "\n",
    "[7] collections.Counter; Python Software Foundation; https://docs.python.org/3/library/collections.html#collections.Counter\n",
    "\n",
    "--------------------\n"
   ]
  },
  {
   "cell_type": "markdown",
   "metadata": {},
   "source": [
    "## Task 2: Dicerolls function\n",
    "-------------\n",
    "\n",
    "**November 2nd, 2020:** Write a Python function called dicerolls that simulates\n",
    "rolling dice. Your function should take two parameters: the number of dice k and\n",
    "the number of times to roll the dice n. The function should simulate randomly\n",
    "rolling k dice n times, keeping track of each total face value. It should then return\n",
    "a dictionary with the number of times each possible total face value occurred. So,\n",
    "calling the function as diceroll(k=2, n=1000) should return a dictionary like:\n",
    "`{2:19,3:50,4:82,5:112,6:135,7:174,8:133,9:114,10:75,11:70,12:36}`\n",
    "\n",
    "\n",
    "\n",
    "\n",
    "\n",
    "-------------"
   ]
  },
  {
   "cell_type": "markdown",
   "metadata": {},
   "source": [
    "## Introduction\n",
    "\n",
    "This task can be broken down into three parts: \n",
    "\n",
    "1. Create function to for dice rolls: \n",
    "    * Create function ro return random number between 1 and 6 (dice roll)\n",
    "    * Add ability to roll multiple dice\n",
    "    * Sum total of dice rolled\n",
    "    * Add ability to run function \"n\" times \n",
    "    * Return list of added dice\n",
    "    \n",
    "2. Integrate counts function from task 1. \n",
    "3. Print results to screen in correct format. \n",
    "\n",
    "#### Distribution\n",
    "\n",
    "It is important to ensure that the function matches a dice roll as closely as possible. \n",
    "\n",
    "Therefore it is necessary to investigare the distribution of a  \"fair dice\".  In mathematics we say \"fair dice\" when we mean that there is an equally likely chance of landing on any face. [[10]](https://www.mathsisfun.com/geometry/fair-dice.html)\n",
    "\n",
    "**Uniform distribution - discrete**\n",
    "\n",
    "The uniform distribution (discrete) is one of the simplest probability distributions in statistics. It is a\n",
    "discrete distribution, this means that it takes a finite set of possible, e.g. 1, 2, 3, 4, 5 and 6.[[15]](https://www.ucd.ie/msc/t4media/Uniform%20Distribution.pdf)\n",
    "\n",
    "The values are equally likely to be observed; every one of n values has equal probability 1/n. Another way of saying \"discrete uniform distribution\" would be \"a known, finite number of outcomes equally likely to happen\". [[12]](https://en.wikipedia.org/wiki/Discrete_uniform_distribution)\n",
    "\n",
    "Numpy function: [[11]](https://numpy.org/doc/stable/reference/random/generated/numpy.random.randint.html)\n",
    "    numpy.random.randint(low, high=None, size=None, dtype=int)\n",
    "        * return random integers from low (inclusive) to high (exclusive).\n",
    "        * Return random integers from the “discrete uniform” distribution of the specified dtype in the “half-open” interval [low, high). If high is None (the default), then results are from [0, low).\n",
    "     \n",
    "This distribution seems reasonable to use for this function. \n",
    "\n",
    "**Normal distribution**\n",
    "\n",
    "A normal distribution is a type of probability distribution for a real valued random variable. They are often used in natural or social sciences as they can represent real valued random variables that are not known. It is aslo known as the Gaussian distribution. [[13]](https://en.wikipedia.org/wiki/Normal_distribution)\n",
    "\n",
    "\n",
    "Numpy Function: [[14]](https://docs.scipy.org/doc//numpy-1.10.4/reference/generated/numpy.random.normal.html)\n",
    "    numpy.random.normal(loc=0.0, scale=1.0, size=None)\n",
    "        * Draw random samples from a normal (Gaussian) distribution.\n",
    "        \n",
    "This distribution does not seem reasonable to use for this function. \n",
    "\n",
    "**Binomial distribution**\n",
    "\n",
    "It seems logical to suggest that rolling 2 dice would follow a binomial distribution. But a quick search proves this false. [[9]](https://math.stackexchange.com/questions/1204396/why-is-the-sum-of-the-rolls-of-two-dices-a-binomial-distribution-what-is-define) \n",
    "\n",
    "#### Real wrold\n",
    "\n",
    "In a casino setting the fairness of a dice is taken very seriously. They are classed as casino grade and \"very fair dice\".\n",
    "\n",
    "They have the following features:\n",
    "* partly transparent so you can see any bubbles or weights inside\n",
    "* as close as possible to exact cubes\n",
    "* sharp edges and corners\n",
    "* dots filled in, so the weight is the same on each side\n",
    "\n",
    "\n",
    "For the purpose of this exercise we will attempt to model this class of dice as closely as possible. \n",
    "\n",
    "**Choice:**\n",
    "\n",
    "It seems like the distribution that most closely modely this dice is the uniform distribution (discrete). \n",
    "\n"
   ]
  },
  {
   "cell_type": "markdown",
   "metadata": {},
   "source": [
    "## Import functions"
   ]
  },
  {
   "cell_type": "code",
   "execution_count": 10,
   "metadata": {},
   "outputs": [],
   "source": [
    "# Import all functions necessary\n",
    "import seaborn as sns\n",
    "import numpy as np\n",
    "import random\n",
    "import matplotlib.pyplot as plt"
   ]
  },
  {
   "cell_type": "markdown",
   "metadata": {},
   "source": [
    "## Define Function"
   ]
  },
  {
   "cell_type": "code",
   "execution_count": 11,
   "metadata": {},
   "outputs": [],
   "source": [
    "#Define `dice_roll(k)` for a \"k\" number rolls of a dice\n",
    "\n",
    "def dice_roll(k):\n",
    "    sum = 0\n",
    "    for i in range(0,k):\n",
    "        dice = np.random.randint(1,6)\n",
    "        #print(dice) # To test function\n",
    "        sum = sum + dice\n",
    "    return(sum)\n",
    "\n",
    "#Define `dice_rolls(k, n)` for a multiple rolls of the same number of dice. \n",
    "def dice_rolls(k, n):\n",
    "    myList = [dice_roll(k) for _ in range(n)]\n",
    "    return(myList)"
   ]
  },
  {
   "cell_type": "markdown",
   "metadata": {},
   "source": [
    "The above function used the `numpy.random.randint` function. [[11]](https://numpy.org/doc/stable/reference/random/generated/numpy.random.randint.html)\n",
    "\n",
    "    \n",
    " https://numpy.org/doc/stable/reference/random/generated/numpy.random.randint.html\n",
    "    \n",
    " "
   ]
  },
  {
   "cell_type": "markdown",
   "metadata": {},
   "source": [
    "\n",
    "# References - Task 2\n",
    "\n",
    "[8] Generate pseudo-random numbers; https://docs.python.org/3/library/random.html\n",
    "\n",
    "[9] Why is the sum of the rolls of two dices a Binomial Distribution?;  Stack Exchange Inc; https://math.stackexchange.com/questions/1204396/why-is-the-sum-of-the-rolls-of-two-dices-a-binomial-distribution-what-is-define\n",
    "\n",
    "[10] Fair Dice; MathsIsFun.com; https://www.mathsisfun.com/geometry/fair-dice.html\n",
    "\n",
    "[11] numpy.random.randint; The SciPy community; https://numpy.org/doc/stable/reference/random/generated/numpy.random.randint.html\n",
    "\n",
    "[12] Discrete uniform distribution; Wikipedia; https://en.wikipedia.org/wiki/Discrete_uniform_distribution\n",
    "\n",
    "[13] Normal Distribution;  Wikipedia;  https://en.wikipedia.org/wiki/Normal_distribution\n",
    "\n",
    "[14] numpy.random.normal; The SciPy community; https://docs.scipy.org/doc//numpy-1.10.4/reference/generated/numpy.random.normal.html\n",
    "\n",
    "[15] Uniform Distribution (Discrete); UCD Maths support centre; https://www.ucd.ie/msc/t4media/Uniform%20Distribution.pdf\n",
    "\n",
    "[16] \n",
    "\n",
    "\n",
    "\n",
    "\n",
    "\n",
    "https://numpy.org/doc/stable/reference/random/generated/numpy.random.randint.html\n",
    "\n",
    "Research:\n",
    "\n",
    "https://en.wikibooks.org/wiki/Probability/Important_Distributions#:~:text=The%20uniform%20distribution%20is%20a,number%20would%20be%201%2F6.&text=It%20mirrors%20the%20type%20of,dice%2C%20or%20flipping%20a%20coin.\n",
    "\n",
    "---------------------------"
   ]
  },
  {
   "cell_type": "markdown",
   "metadata": {},
   "source": [
    "## Test function"
   ]
  },
  {
   "cell_type": "code",
   "execution_count": 12,
   "metadata": {},
   "outputs": [
    {
     "data": {
      "text/plain": [
       "17"
      ]
     },
     "execution_count": 12,
     "metadata": {},
     "output_type": "execute_result"
    }
   ],
   "source": [
    "# Test function\n",
    "dice_roll(5)"
   ]
  },
  {
   "cell_type": "markdown",
   "metadata": {},
   "source": [
    "returns total sum of 5 dice rolled. "
   ]
  },
  {
   "cell_type": "code",
   "execution_count": 13,
   "metadata": {},
   "outputs": [
    {
     "data": {
      "text/plain": [
       "[7, 5, 9, 7, 6, 2, 6, 6, 6, 7]"
      ]
     },
     "execution_count": 13,
     "metadata": {},
     "output_type": "execute_result"
    }
   ],
   "source": [
    "#Test function\n",
    "dice_rolls(2, 10)"
   ]
  },
  {
   "cell_type": "markdown",
   "metadata": {},
   "source": [
    "returns list of total sum of 2 dice rolled, 10 times."
   ]
  },
  {
   "cell_type": "code",
   "execution_count": 14,
   "metadata": {},
   "outputs": [
    {
     "data": {
      "text/plain": [
       "{5: 1, 7: 2, 6: 4, 4: 2, 3: 1}"
      ]
     },
     "execution_count": 14,
     "metadata": {},
     "output_type": "execute_result"
    }
   ],
   "source": [
    "#Run dice_rolls with count\n",
    "counts(dice_rolls(2, 10))"
   ]
  },
  {
   "cell_type": "markdown",
   "metadata": {},
   "source": [
    "The above code achievs the desired results however calling the function like this is not what was requested. "
   ]
  },
  {
   "cell_type": "markdown",
   "metadata": {},
   "source": [
    "## Define diceroll() function"
   ]
  },
  {
   "cell_type": "code",
   "execution_count": 15,
   "metadata": {},
   "outputs": [],
   "source": [
    "# Define final Function:\n",
    "def diceroll(k, n):\n",
    "    count = counts(dice_rolls(k, n))\n",
    "    return(count)"
   ]
  },
  {
   "cell_type": "code",
   "execution_count": 16,
   "metadata": {},
   "outputs": [
    {
     "data": {
      "text/plain": [
       "{4: 2, 6: 2, 7: 2, 8: 3, 5: 1}"
      ]
     },
     "execution_count": 16,
     "metadata": {},
     "output_type": "execute_result"
    }
   ],
   "source": [
    "# Test the function\n",
    "diceroll(2,10)"
   ]
  },
  {
   "cell_type": "code",
   "execution_count": 17,
   "metadata": {},
   "outputs": [],
   "source": [
    "# define input function - Get input from user\n",
    "def input_diceroll():\n",
    "    k = int(input(\"Enter the number of dice you wish to roll: \"))\n",
    "    n = int(input(\"Enter the number of times you wish to do this: \"))\n",
    "    #return function\n",
    "    return diceroll(k,n)"
   ]
  },
  {
   "cell_type": "code",
   "execution_count": 36,
   "metadata": {},
   "outputs": [
    {
     "name": "stdout",
     "output_type": "stream",
     "text": [
      "Enter the number of dice you wish to roll: 2\n",
      "Enter the number of times you wish to do this: 1000\n"
     ]
    },
    {
     "data": {
      "text/plain": [
       "{6: 206, 7: 162, 10: 39, 2: 36, 4: 118, 8: 116, 3: 73, 5: 160, 9: 90}"
      ]
     },
     "execution_count": 36,
     "metadata": {},
     "output_type": "execute_result"
    }
   ],
   "source": [
    "# test function\n",
    "x = input_diceroll()\n",
    "x"
   ]
  },
  {
   "cell_type": "markdown",
   "metadata": {},
   "source": [
    "The above function allows the user to call the function and input any integer they may need. "
   ]
  },
  {
   "cell_type": "markdown",
   "metadata": {},
   "source": [
    "## Plot results"
   ]
  },
  {
   "cell_type": "code",
   "execution_count": 43,
   "metadata": {},
   "outputs": [
    {
     "ename": "TypeError",
     "evalue": "distplot() got an unexpected keyword argument 'discrete'",
     "output_type": "error",
     "traceback": [
      "\u001b[1;31m---------------------------------------------------------------------------\u001b[0m",
      "\u001b[1;31mTypeError\u001b[0m                                 Traceback (most recent call last)",
      "\u001b[1;32m<ipython-input-43-ba0cc79b4ff4>\u001b[0m in \u001b[0;36m<module>\u001b[1;34m\u001b[0m\n\u001b[0;32m      4\u001b[0m \u001b[1;33m\u001b[0m\u001b[0m\n\u001b[0;32m      5\u001b[0m \u001b[1;31m# create the plot\u001b[0m\u001b[1;33m\u001b[0m\u001b[1;33m\u001b[0m\u001b[1;33m\u001b[0m\u001b[0m\n\u001b[1;32m----> 6\u001b[1;33m \u001b[0msns\u001b[0m\u001b[1;33m.\u001b[0m\u001b[0mdistplot\u001b[0m\u001b[1;33m(\u001b[0m\u001b[0mdice_rolls\u001b[0m\u001b[1;33m(\u001b[0m\u001b[1;36m2\u001b[0m\u001b[1;33m,\u001b[0m\u001b[1;36m1000\u001b[0m\u001b[1;33m)\u001b[0m\u001b[1;33m,\u001b[0m \u001b[0mdiscrete\u001b[0m\u001b[1;33m=\u001b[0m\u001b[1;32mTrue\u001b[0m\u001b[1;33m,\u001b[0m \u001b[0mkde\u001b[0m\u001b[1;33m=\u001b[0m\u001b[1;32mTrue\u001b[0m\u001b[1;33m,\u001b[0m \u001b[0mcolor\u001b[0m\u001b[1;33m=\u001b[0m\u001b[1;34m'green'\u001b[0m\u001b[1;33m)\u001b[0m\u001b[1;33m\u001b[0m\u001b[1;33m\u001b[0m\u001b[0m\n\u001b[0m\u001b[0;32m      7\u001b[0m \u001b[0mplt\u001b[0m\u001b[1;33m.\u001b[0m\u001b[0mxlabel\u001b[0m\u001b[1;33m(\u001b[0m\u001b[1;34m\"sum of flips\"\u001b[0m\u001b[1;33m)\u001b[0m\u001b[1;33m\u001b[0m\u001b[1;33m\u001b[0m\u001b[0m\n\u001b[0;32m      8\u001b[0m \u001b[0mplt\u001b[0m\u001b[1;33m.\u001b[0m\u001b[0mylabel\u001b[0m\u001b[1;33m(\u001b[0m\u001b[1;34m\"Number of results in each\"\u001b[0m\u001b[1;33m)\u001b[0m\u001b[1;33m\u001b[0m\u001b[1;33m\u001b[0m\u001b[0m\n",
      "\u001b[1;31mTypeError\u001b[0m: distplot() got an unexpected keyword argument 'discrete'"
     ]
    }
   ],
   "source": [
    "# set the style\n",
    "sns.set_style(\"white\")\n",
    "\n",
    "\n",
    "# create the plot\n",
    "sns.distplot(dice_rolls(2,1000), discrete=True, kde=True, color='green')\n",
    "plt.xlabel(\"sum of flips\") \n",
    "plt.ylabel(\"Number of results in each\")\n",
    "plt.title(\"Dice_rolls function\", fontsize=15)"
   ]
  },
  {
   "cell_type": "markdown",
   "metadata": {},
   "source": [
    "research why distribution is high at 12. https://seaborn.pydata.org/generated/seaborn.distplot.html"
   ]
  },
  {
   "cell_type": "markdown",
   "metadata": {},
   "source": [
    "## Results\n",
    "\n",
    "\n",
    "\n",
    "## Conclusions\n",
    "\n",
    "\n"
   ]
  },
  {
   "cell_type": "markdown",
   "metadata": {},
   "source": [
    "## Task 3: numpy.random.binomial\n",
    "-------------\n"
   ]
  },
  {
   "cell_type": "markdown",
   "metadata": {},
   "source": [
    "The following is ............."
   ]
  },
  {
   "cell_type": "code",
   "execution_count": 20,
   "metadata": {},
   "outputs": [],
   "source": [
    "# Import all functions necessary\n",
    "import numpy as np\n"
   ]
  },
  {
   "cell_type": "code",
   "execution_count": 21,
   "metadata": {
    "scrolled": true
   },
   "outputs": [
    {
     "data": {
      "text/plain": [
       "array([44, 48, 49, 53, 42, 58, 43, 53, 48, 46, 46, 51, 51, 45, 53, 45, 46,\n",
       "       47, 47, 57, 52, 45, 45, 50, 46, 53, 47, 46, 49, 50, 54, 47, 50, 40,\n",
       "       50, 61, 45, 46, 46, 57, 55, 42, 49, 61, 46, 48, 40, 46, 50, 57, 45,\n",
       "       56, 60, 49, 49, 44, 50, 58, 53, 54, 44, 47, 54, 50, 53, 54, 50, 55,\n",
       "       41, 48, 34, 48, 52, 59, 62, 56, 51, 45, 58, 37, 46, 48, 54, 53, 59,\n",
       "       49, 59, 54, 53, 41, 46, 55, 50, 46, 53, 47, 54, 44, 46, 54, 44, 53,\n",
       "       45, 51, 51, 42, 48, 54, 48, 48, 53, 60, 55, 47, 52, 65, 39, 56, 49,\n",
       "       51, 46, 50, 51, 50, 50, 48, 57, 41, 48, 54, 47, 53, 47, 55, 53, 51,\n",
       "       46, 51, 44, 45, 54, 47, 50, 56, 49, 54, 49, 43, 54, 49, 47, 57, 51,\n",
       "       62, 50, 44, 44, 49, 57, 53, 53, 48, 47, 50, 49, 55, 46, 49, 53, 43,\n",
       "       50, 51, 51, 53, 50, 52, 53, 59, 54, 55, 47, 48, 54, 52, 52, 48, 54,\n",
       "       52, 39, 42, 40, 55, 50, 53, 44, 48, 47, 49, 49, 47, 49, 57, 57, 51,\n",
       "       40, 44, 53, 42, 50, 50, 44, 41, 42, 50, 46, 56, 50, 53, 55, 52, 57,\n",
       "       50, 56, 46, 56, 48, 42, 53, 48, 46, 47, 49, 57, 56, 48, 51, 45, 48,\n",
       "       52, 58, 45, 51, 45, 55, 56, 50, 54, 40, 49, 48, 49, 43, 56, 47, 46,\n",
       "       52, 52, 46, 51, 44, 55, 53, 54, 50, 44, 59, 55, 47, 53, 47, 43, 48,\n",
       "       49, 42, 55, 41, 41, 51, 50, 53, 42, 46, 54, 42, 46, 47, 50, 33, 56,\n",
       "       60, 43, 52, 53, 44, 62, 47, 48, 43, 57, 51, 45, 51, 51, 55, 56, 56,\n",
       "       52, 51, 43, 48, 45, 54, 46, 50, 47, 45, 58, 47, 51, 42, 53, 48, 49,\n",
       "       41, 52, 42, 53, 44, 48, 52, 51, 44, 41, 54, 52, 57, 46, 51, 45, 45,\n",
       "       47, 50, 47, 55, 50, 51, 51, 46, 58, 54, 55, 51, 44, 47, 47, 57, 46,\n",
       "       46, 52, 52, 57, 42, 44, 47, 56, 50, 43, 52, 53, 51, 52, 45, 51, 48,\n",
       "       54, 43, 50, 53, 52, 44, 48, 60, 51, 51, 48, 56, 48, 44, 54, 46, 53,\n",
       "       54, 44, 54, 51, 52, 47, 56, 50, 43, 45, 48, 36, 50, 50, 50, 53, 48,\n",
       "       54, 51, 50, 48, 54, 58, 47, 44, 58, 42, 45, 54, 51, 48, 47, 54, 56,\n",
       "       53, 45, 49, 49, 59, 53, 43, 48, 49, 53, 45, 39, 46, 53, 59, 53, 51,\n",
       "       57, 49, 55, 44, 46, 49, 47, 48, 57, 51, 39, 66, 44, 53, 62, 57, 50,\n",
       "       44, 55, 53, 51, 48, 54, 59, 47, 58, 46, 57, 54, 58, 49, 58, 50, 44,\n",
       "       55, 49, 46, 51, 55, 55, 51, 59, 51, 42, 47, 52, 63, 54, 52, 46, 46,\n",
       "       47, 52, 44, 45, 49, 41, 50, 54, 56, 57, 43, 52, 53, 56, 48, 54, 53,\n",
       "       48, 40, 54, 50, 50, 48, 53, 47, 51, 61, 55, 55, 45, 57, 53, 60, 44,\n",
       "       56, 58, 47, 52, 47, 53, 52, 55, 41, 48, 48, 47, 46, 48, 57, 47, 55,\n",
       "       52, 50, 51, 44, 59, 44, 49, 59, 56, 48, 47, 48, 50, 44, 43, 49, 44,\n",
       "       57, 53, 55, 49, 44, 59, 60, 46, 47, 54, 49, 55, 55, 50, 59, 48, 40,\n",
       "       51, 60, 60, 49, 48, 45, 41, 43, 52, 46, 47, 52, 50, 49, 55, 53, 54,\n",
       "       50, 45, 50, 44, 47, 49, 48, 52, 56, 48, 57, 52, 54, 50, 56, 54, 55,\n",
       "       50, 47, 51, 49, 58, 54, 48, 48, 47, 52, 42, 50, 45, 41, 52, 52, 47,\n",
       "       56, 46, 48, 54, 49, 47, 55, 55, 44, 50, 51, 47, 49, 53, 50, 46, 45,\n",
       "       53, 45, 41, 42, 51, 51, 54, 53, 48, 47, 55, 50, 54, 53, 38, 39, 46,\n",
       "       47, 54, 51, 52, 52, 54, 52, 52, 44, 56, 48, 55, 50, 51, 46, 53, 56,\n",
       "       46, 50, 50, 53, 52, 51, 48, 53, 55, 46, 47, 48, 48, 50, 44, 56, 52,\n",
       "       48, 52, 47, 48, 64, 51, 50, 50, 50, 52, 57, 37, 50, 51, 51, 54, 49,\n",
       "       59, 36, 50, 47, 47, 46, 52, 53, 58, 46, 60, 54, 50, 53, 48, 49, 43,\n",
       "       49, 44, 55, 50, 49, 58, 53, 51, 46, 46, 50, 48, 48, 60, 56, 45, 42,\n",
       "       52, 43, 47, 42, 44, 54, 49, 49, 53, 47, 48, 56, 51, 52, 40, 53, 59,\n",
       "       53, 55, 57, 49, 45, 43, 47, 52, 46, 54, 44, 43, 49, 40, 50, 38, 43,\n",
       "       54, 55, 47, 46, 49, 58, 47, 51, 53, 56, 50, 46, 41, 44, 49, 47, 47,\n",
       "       58, 50, 57, 56, 48, 58, 53, 48, 45, 41, 45, 51, 56, 48, 51, 57, 52,\n",
       "       44, 57, 53, 45, 51, 52, 54, 57, 46, 53, 54, 46, 44, 52, 52, 45, 57,\n",
       "       46, 46, 61, 52, 55, 43, 52, 52, 45, 43, 46, 55, 54, 49, 51, 56, 52,\n",
       "       51, 46, 47, 61, 53, 48, 44, 63, 52, 45, 50, 54, 42, 59, 43, 50, 52,\n",
       "       46, 55, 52, 56, 43, 40, 53, 45, 49, 46, 51, 50, 53, 45, 41, 51, 48,\n",
       "       52, 57, 51, 46, 45, 47, 50, 54, 53, 61, 61, 48, 51, 52, 55, 52, 55,\n",
       "       48, 48, 56, 50, 47, 46, 54, 43, 47, 50, 47, 57, 41, 45, 45, 50, 51,\n",
       "       53, 46, 42, 45, 51, 47, 46, 47, 48, 46, 52, 41, 55, 55, 53, 50, 54,\n",
       "       57, 49, 56, 42, 48, 44, 47, 44, 48, 53, 50, 54, 53, 51, 51, 44, 46,\n",
       "       55, 57, 52, 48, 52, 38, 59, 46, 48, 49, 53, 50, 53, 52, 48, 46, 54,\n",
       "       52, 48, 50, 47, 49, 50, 52, 44, 52, 50, 53, 54, 50, 53, 49, 58, 52,\n",
       "       58, 52, 45, 51, 57, 40, 53, 54, 47, 47, 50, 56, 52, 44],\n",
       "      dtype=int64)"
      ]
     },
     "execution_count": 21,
     "metadata": {},
     "output_type": "execute_result"
    }
   ],
   "source": [
    "rng = np.random.default_rng()\n",
    "n, p = 100, .5  # number of trials, probability of each trial\n",
    "s = rng.binomial(n, p, 1000)\n",
    "# result of flipping a coin 10 times, tested 10000 times.\n",
    "s\n",
    "# plt.hist(s, bins=10, range=None, rwidth=None, color=None, label=\"tEST\")\n"
   ]
  },
  {
   "cell_type": "code",
   "execution_count": 22,
   "metadata": {},
   "outputs": [
    {
     "data": {
      "text/plain": [
       "Text(0.5, 1.0, 'Binomial Distribution')"
      ]
     },
     "execution_count": 22,
     "metadata": {},
     "output_type": "execute_result"
    },
    {
     "data": {
      "image/png": "[encoded data removed]",
      "text/plain": [
       "<Figure size 432x288 with 1 Axes>"
      ]
     },
     "metadata": {},
     "output_type": "display_data"
    }
   ],
   "source": [
    "# set the style\n",
    "sns.set_style(\"white\")\n",
    "\n",
    "\n",
    "# create the plot\n",
    "sns.distplot(s, kde=True, color='green')\n",
    "plt.xlabel(\"Distribution\") \n",
    "plt.ylabel(\"Density\")\n",
    "plt.title(\"Binomial Distribution\", fontsize=15)\n"
   ]
  },
  {
   "cell_type": "markdown",
   "metadata": {},
   "source": [
    "The above graph plots the number of successful trialls against the number of trialls totally. It shows that the distribution is normally distributed when the probability is 0.5.\n",
    "\n",
    "There are many real word instances of binomial distributions. e.g drug trial - it works or doesnt, lottery ticket - you win or dont. It can be used to predict any situation in which success or failure are an option.\n",
    "\n",
    "https://seaborn.pydata.org/generated/seaborn.set_style.html"
   ]
  },
  {
   "cell_type": "markdown",
   "metadata": {},
   "source": [
    "## Results\n",
    "\n",
    "\n",
    "\n",
    "## Conclusions\n",
    "\n"
   ]
  },
  {
   "cell_type": "markdown",
   "metadata": {},
   "source": [
    "\n",
    "# References - Task 3\n",
    "\n",
    "\n",
    "-----------------\n",
    "[1] python-accept-list-input-from-user; pynative; https://pynative.com/python-accept-list-input-from-user/\n",
    "\n",
    "\n",
    "\n",
    "\n",
    "------------------------"
   ]
  },
  {
   "cell_type": "markdown",
   "metadata": {},
   "source": [
    "## Task 4: Simpsons Paradox\n",
    "-------------\n",
    "\n",
    "\"Simpsons Paradox is a phenomenon in probability and statistics, in which a trend appears in several different groups of data but disappears or reverses when these groups are combined.\" https://en.wikipedia.org/wiki/Simpson%27s_paradox\n",
    "\n",
    "It is named after Edward H. Simpson after he described it in a paper in 1951. It had been previously observed. \n",
    "\n",
    "It is a common phenomonon in statistics. One of the best known examples is the \"UC Berkley gender bias\" where if you take the percentage of applicants accempted into the university it seems as if Women are discriminated against. However if you take a more detailed look into individual departments it shows that this is actually a result of more women choosing compettivie programs and the pooled and corrected data showed a \"small but statistically significant bias in favor of women\" https://homepage.stat.uiowa.edu/~mbognar/1030/Bickel-Berkeley.pdf\n",
    "\n",
    "\n",
    "Below is some data and plots to explain the phenomenon. \n"
   ]
  },
  {
   "cell_type": "markdown",
   "metadata": {},
   "source": [
    "First we will plot a set of values and find its "
   ]
  },
  {
   "cell_type": "code",
   "execution_count": 23,
   "metadata": {},
   "outputs": [],
   "source": [
    "# Set style\n",
    "plt.style.use(\"ggplot\")"
   ]
  },
  {
   "cell_type": "code",
   "execution_count": 24,
   "metadata": {},
   "outputs": [
    {
     "data": {
      "text/plain": [
       "array([ 0.        ,  0.34482759,  0.68965517,  1.03448276,  1.37931034,\n",
       "        1.72413793,  2.06896552,  2.4137931 ,  2.75862069,  3.10344828,\n",
       "        3.44827586,  3.79310345,  4.13793103,  4.48275862,  4.82758621,\n",
       "        5.17241379,  5.51724138,  5.86206897,  6.20689655,  6.55172414,\n",
       "        6.89655172,  7.24137931,  7.5862069 ,  7.93103448,  8.27586207,\n",
       "        8.62068966,  8.96551724,  9.31034483,  9.65517241, 10.        ])"
      ]
     },
     "execution_count": 24,
     "metadata": {},
     "output_type": "execute_result"
    }
   ],
   "source": [
    "# Create points\n",
    "\n",
    "N = 30 # Number of points created\n",
    "x1 = np.linspace(0, 10, N) # create x values\n",
    "a = -1 # generate negative slope\n",
    "b = 1\n",
    "y1 = a*x1 + b # create corrosponding y values\n",
    "\n",
    "\n",
    "x1 # Show x1 values\n"
   ]
  },
  {
   "cell_type": "code",
   "execution_count": 25,
   "metadata": {},
   "outputs": [
    {
     "data": {
      "text/plain": [
       "array([ 1.        ,  0.65517241,  0.31034483, -0.03448276, -0.37931034,\n",
       "       -0.72413793, -1.06896552, -1.4137931 , -1.75862069, -2.10344828,\n",
       "       -2.44827586, -2.79310345, -3.13793103, -3.48275862, -3.82758621,\n",
       "       -4.17241379, -4.51724138, -4.86206897, -5.20689655, -5.55172414,\n",
       "       -5.89655172, -6.24137931, -6.5862069 , -6.93103448, -7.27586207,\n",
       "       -7.62068966, -7.96551724, -8.31034483, -8.65517241, -9.        ])"
      ]
     },
     "execution_count": 25,
     "metadata": {},
     "output_type": "execute_result"
    }
   ],
   "source": [
    "y1 # show y values"
   ]
  },
  {
   "cell_type": "code",
   "execution_count": 26,
   "metadata": {},
   "outputs": [
    {
     "data": {
      "image/png": "[encoded data removed]",
      "text/plain": [
       "<Figure size 432x288 with 1 Axes>"
      ]
     },
     "metadata": {},
     "output_type": "display_data"
    }
   ],
   "source": [
    "# plot data\n",
    "\n",
    "plt.plot(x1, y1, 'gx')\n",
    "plt.show()\n"
   ]
  },
  {
   "cell_type": "markdown",
   "metadata": {},
   "source": [
    "The plot above shows a posotive slope on the x axis. \n",
    "https://numpy.org/doc/stable/reference/generated/numpy.linspace.html\n",
    "\n",
    "--------------"
   ]
  },
  {
   "cell_type": "code",
   "execution_count": 27,
   "metadata": {},
   "outputs": [
    {
     "data": {
      "image/png": "[encoded data removed]",
      "text/plain": [
       "<Figure size 432x288 with 1 Axes>"
      ]
     },
     "metadata": {},
     "output_type": "display_data"
    }
   ],
   "source": [
    "# Create points\n",
    "\n",
    "x1 = np.linspace(0, 10, 30) # create x values\n",
    "a = -1 # generate negative slope\n",
    "b = 1\n",
    "y = (a * x1) + b # create corrosponding y values\n",
    "noise = np.random.normal(0, 0.2, len(x1))\n",
    "y1 = y + noise \n",
    "\n",
    "\n",
    "plt.plot(x1, y1, 'gx', label=\"plot 1\")\n",
    "\n",
    "plt.show()\n"
   ]
  },
  {
   "cell_type": "markdown",
   "metadata": {},
   "source": [
    "Adding in random noise using `numpy.random.normal` we can create a more realistic data set for a better demonstration of the effect. It gives a data set that is more representive of the realworld. "
   ]
  },
  {
   "cell_type": "code",
   "execution_count": 28,
   "metadata": {},
   "outputs": [
    {
     "data": {
      "text/plain": [
       "[<matplotlib.lines.Line2D at 0x1744545e6a0>]"
      ]
     },
     "execution_count": 28,
     "metadata": {},
     "output_type": "execute_result"
    },
    {
     "data": {
      "image/png": "[encoded data removed]",
      "text/plain": [
       "<Figure size 432x288 with 1 Axes>"
      ]
     },
     "metadata": {},
     "output_type": "display_data"
    }
   ],
   "source": [
    "coeffs1 = np.polyfit(x1, y1, 1)\n",
    "plt.plot(x1, y1, 'gx', label=\"plot 1\")\n",
    "plt.plot(x1, coeffs1[0] * x1 + coeffs1[1], \"g-\", label=\"Best fit\")"
   ]
  },
  {
   "cell_type": "markdown",
   "metadata": {},
   "source": [
    "Using `np.polyfit()` we can get the coeffeciants of x and y and use them to plot the best fit line of the data as shown above. "
   ]
  },
  {
   "cell_type": "code",
   "execution_count": 29,
   "metadata": {},
   "outputs": [
    {
     "data": {
      "text/plain": [
       "array([ 1.2206907 ,  0.62771356,  0.3856493 , -0.02350935, -0.03735723,\n",
       "       -1.19102895, -1.08051555, -1.81034064, -1.75100968, -1.97872223,\n",
       "       -2.72274546, -2.75579496, -3.23222911, -3.52333119, -3.69681762,\n",
       "       -4.01757447, -4.45113469, -4.6990916 , -5.02355999, -5.68194754,\n",
       "       -5.88228089, -5.97359008, -6.4346119 , -7.08264229, -6.89291294,\n",
       "       -7.36477741, -7.64618482, -8.12722751, -8.62243436, -8.83977772])"
      ]
     },
     "execution_count": 29,
     "metadata": {},
     "output_type": "execute_result"
    }
   ],
   "source": [
    "y1"
   ]
  },
  {
   "cell_type": "markdown",
   "metadata": {},
   "source": [
    "check y values to see where next a value needs to be. For the correct phenomen the first y2 value will need to be above -1. \n",
    "\n",
    "Set \"a\" as -0.1. "
   ]
  },
  {
   "cell_type": "code",
   "execution_count": 30,
   "metadata": {},
   "outputs": [
    {
     "data": {
      "text/plain": [
       "[<matplotlib.lines.Line2D at 0x1744552f0a0>]"
      ]
     },
     "execution_count": 30,
     "metadata": {},
     "output_type": "execute_result"
    },
    {
     "data": {
      "image/png": "[encoded data removed]",
      "text/plain": [
       "<Figure size 1440x432 with 3 Axes>"
      ]
     },
     "metadata": {},
     "output_type": "display_data"
    }
   ],
   "source": [
    "# Graph 3 more functions \n",
    "\n",
    "plt.figure(figsize=(20,6)) # set figure size\n",
    "\n",
    "plt.subplot(1,3,1) \n",
    "N = 30 # Number of points created\n",
    "x2 = np.linspace(10, 20, N) # create x values\n",
    "a = -0.1 # generate negative slope\n",
    "b = 2\n",
    "y = a * x2 + b # create corrosponding y values\n",
    "noise = np.random.normal(0, 0.2, len(x2))\n",
    "y2 = y + noise \n",
    "\n",
    "coeffs2 = np.polyfit(x2, y2, 1)\n",
    "plt.plot(x2, y2, 'yx', label=\"plot 2\")\n",
    "plt.plot(x2, coeffs2[0] * x2 + coeffs2[1], \"y-\", label=\"Best fit\")\n",
    "\n",
    "\n",
    "\n",
    "plt.subplot(1,3,2) \n",
    "\n",
    "N = 30 # Number of points created\n",
    "x3 = np.linspace(20, 30, N) # create x values\n",
    "a = -0.3 # generate negative slope\n",
    "b = 10\n",
    "y = a * x3 + b # create corrosponding y values\n",
    "noise = np.random.normal(0, 0.2, len(x3))\n",
    "y3 = y + noise\n",
    "\n",
    "coeffs3 = np.polyfit(x3, y3, 1)\n",
    "plt.plot(x3, y3, 'bx', label=\"plot 3\")\n",
    "plt.plot(x3, coeffs3[0] * x3 + coeffs3[1], \"b-\", label=\"Best fit\")\n",
    "\n",
    "plt.subplot(1,3,3) \n",
    "\n",
    "N = 30 # Number of points created\n",
    "x4 = np.linspace(30, 40, N) # create x values\n",
    "a = -0.4 # generate negative slope\n",
    "b = 25\n",
    "y = a * x4 + b # create corrosponding y values\n",
    "noise = np.random.normal(0, 0.2, len(x4))\n",
    "y4 = y + noise \n",
    "\n",
    "coeffs4 = np.polyfit(x4, y4, 1)\n",
    "plt.plot(x4, y4, 'cx', label=\"plot 4\")\n",
    "plt.plot(x4, coeffs4[0] * x4 + coeffs4[1], \"c-\", label=\"Best fit\")"
   ]
  },
  {
   "cell_type": "markdown",
   "metadata": {},
   "source": [
    "This shows all 3 graphs, each showing similar slopes. It would be possible to comclude that this is...."
   ]
  },
  {
   "cell_type": "code",
   "execution_count": 31,
   "metadata": {},
   "outputs": [
    {
     "data": {
      "text/plain": [
       "<matplotlib.legend.Legend at 0x174459c30d0>"
      ]
     },
     "execution_count": 31,
     "metadata": {},
     "output_type": "execute_result"
    },
    {
     "data": {
      "image/png": "[encoded data removed]",
      "text/plain": [
       "<Figure size 1440x720 with 1 Axes>"
      ]
     },
     "metadata": {},
     "output_type": "display_data"
    }
   ],
   "source": [
    "# Graph all data on one graph\n",
    "plt.figure(figsize=(20,10)) \n",
    "\n",
    "\n",
    "plt.plot(x1, y1, 'gx', label=\"x1,y1\")\n",
    "plt.plot(x2, y2, 'yx', label=\"x2,y2\")\n",
    "plt.plot(x3, y3, 'bx', label=\"x3,y3\")\n",
    "plt.plot(x4, y4, 'cx', label=\"x4,y4\")\n",
    "plt.legend()"
   ]
  },
  {
   "cell_type": "markdown",
   "metadata": {},
   "source": [
    "<b>\n",
    "\n",
    "#### Combine data sets"
   ]
  },
  {
   "cell_type": "code",
   "execution_count": 32,
   "metadata": {},
   "outputs": [
    {
     "data": {
      "text/plain": [
       "array([ 0.4062123 , -5.63501763])"
      ]
     },
     "execution_count": 32,
     "metadata": {},
     "output_type": "execute_result"
    }
   ],
   "source": [
    "# Concatenate all x and y values\n",
    "x_con = np.concatenate((x1, x2, x3, x4))\n",
    "y_con = np.concatenate((y1, y2, y3, y4))\n",
    "\n",
    "# Calculate coefficients\n",
    "coeffs = np.polyfit(x_con, y_con, 1)\n",
    "coeffs"
   ]
  },
  {
   "cell_type": "code",
   "execution_count": 33,
   "metadata": {},
   "outputs": [
    {
     "ename": "NameError",
     "evalue": "name 'x_array' is not defined",
     "output_type": "error",
     "traceback": [
      "\u001b[1;31m---------------------------------------------------------------------------\u001b[0m",
      "\u001b[1;31mNameError\u001b[0m                                 Traceback (most recent call last)",
      "\u001b[1;32m<ipython-input-33-9bf804eb77a7>\u001b[0m in \u001b[0;36m<module>\u001b[1;34m\u001b[0m\n\u001b[0;32m     12\u001b[0m \u001b[1;33m\u001b[0m\u001b[0m\n\u001b[0;32m     13\u001b[0m \u001b[1;31m# create combined best fit line\u001b[0m\u001b[1;33m\u001b[0m\u001b[1;33m\u001b[0m\u001b[1;33m\u001b[0m\u001b[0m\n\u001b[1;32m---> 14\u001b[1;33m \u001b[0mplt\u001b[0m\u001b[1;33m.\u001b[0m\u001b[0mplot\u001b[0m\u001b[1;33m(\u001b[0m\u001b[0mx_array\u001b[0m\u001b[1;33m,\u001b[0m \u001b[0mcoeffs\u001b[0m\u001b[1;33m[\u001b[0m\u001b[1;36m0\u001b[0m\u001b[1;33m]\u001b[0m \u001b[1;33m*\u001b[0m \u001b[0mx_array\u001b[0m \u001b[1;33m+\u001b[0m \u001b[0mcoeffs\u001b[0m\u001b[1;33m[\u001b[0m\u001b[1;36m1\u001b[0m\u001b[1;33m]\u001b[0m\u001b[1;33m,\u001b[0m \u001b[1;34m'm-'\u001b[0m\u001b[1;33m,\u001b[0m \u001b[0mlabel\u001b[0m\u001b[1;33m=\u001b[0m\u001b[1;34m'Best fit Combined'\u001b[0m\u001b[1;33m)\u001b[0m\u001b[1;33m\u001b[0m\u001b[1;33m\u001b[0m\u001b[0m\n\u001b[0m\u001b[0;32m     15\u001b[0m \u001b[0mplt\u001b[0m\u001b[1;33m.\u001b[0m\u001b[0mlegend\u001b[0m\u001b[1;33m(\u001b[0m\u001b[1;33m)\u001b[0m\u001b[1;33m;\u001b[0m\u001b[1;33m\u001b[0m\u001b[1;33m\u001b[0m\u001b[0m\n",
      "\u001b[1;31mNameError\u001b[0m: name 'x_array' is not defined"
     ]
    },
    {
     "data": {
      "image/png": "[encoded data removed]",
      "text/plain": [
       "<Figure size 1440x720 with 1 Axes>"
      ]
     },
     "metadata": {},
     "output_type": "display_data"
    }
   ],
   "source": [
    "#Plot all data sets with combined best fit line\n",
    "plt.figure(figsize=(20,10))\n",
    "\n",
    "plt.plot(x1, y1, 'gx', label=\"x1,y1\")\n",
    "plt.plot(x1, coeffs1[0] * x1 + coeffs1[1], \"g-\", label=\"Best fit 1\")\n",
    "plt.plot(x2, y2, 'yx', label=\"x2,y2\")\n",
    "plt.plot(x2, coeffs2[0] * x2 + coeffs2[1], \"y-\", label=\"Best fit 2\")\n",
    "plt.plot(x3, y3, 'bx', label=\"x3,y3\")\n",
    "plt.plot(x3, coeffs3[0] * x3 + coeffs3[1], \"b-\", label=\"Best fit 3\")\n",
    "plt.plot(x4, y4, 'cx', label=\"x4,y4\")\n",
    "plt.plot(x4, coeffs4[0] * x4 + coeffs4[1], \"c-\", label=\"Best fit 4\")\n",
    "\n",
    "# create combined best fit line\n",
    "plt.plot(x_array, coeffs[0] * x_array + coeffs[1], 'm-', label='Best fit Combined')\n",
    "plt.legend();"
   ]
  },
  {
   "cell_type": "code",
   "execution_count": null,
   "metadata": {},
   "outputs": [],
   "source": [
    "# Add best fit line. "
   ]
  },
  {
   "cell_type": "markdown",
   "metadata": {},
   "source": [
    "## Results\n",
    "\n",
    "Reversal of trend. \n",
    "\n",
    "Proof of simpsons paradox. \n",
    "\n",
    "Posotive corrolation vs negative correlation\n",
    "\n",
    "mirrors results of paper..... \n",
    "\n",
    "\n",
    "\n",
    "## Conclusions\n"
   ]
  },
  {
   "cell_type": "markdown",
   "metadata": {},
   "source": [
    "\n",
    "# References - Task 4\n",
    "\n",
    "\n",
    "-----------------\n",
    "[1] python-accept-list-input-from-user; pynative; https://pynative.com/python-accept-list-input-from-user/\n",
    "\n",
    "\n",
    "\n",
    "\n",
    "------------------------"
   ]
  }
 ],
 "metadata": {
  "kernelspec": {
   "display_name": "Python 3",
   "language": "python",
   "name": "python3"
  },
  "language_info": {
   "codemirror_mode": {
    "name": "ipython",
    "version": 3
   },
   "file_extension": ".py",
   "mimetype": "text/x-python",
   "name": "python",
   "nbconvert_exporter": "python",
   "pygments_lexer": "ipython3",
   "version": "3.8.3"
  }
 },
 "nbformat": 4,
 "nbformat_minor": 4
}
