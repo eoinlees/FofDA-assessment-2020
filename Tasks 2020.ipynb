{
 "cells": [
  {
   "cell_type": "markdown",
   "metadata": {},
   "source": [
    "# Tasks 2020\n",
    "\n",
    "These are my solutions to the tasks assessments. The Author is Eoin Lees (G00387888@gmit.ie)\n",
    "\n",
    "-----"
   ]
  },
  {
   "cell_type": "code",
   "execution_count": 1,
   "metadata": {},
   "outputs": [],
   "source": [
    "# Import all functions necessary for each task\n",
    "import numpy as np\n",
    "import random\n",
    "import matplotlib.pyplot as plt"
   ]
  },
  {
   "cell_type": "markdown",
   "metadata": {},
   "source": [
    "## Task 1: Counts function\n",
    "\n",
    "This function takes a list as input and returns a dictionary of unique items in the list and teh number of times each item appears as values. \n",
    "\n",
    "Ideas: For Loops? do research\n",
    "\n",
    "Question:\n",
    "\n",
    "October 5th, 2020: Write a Python function called counts that takes a list as\n",
    "input and returns a dictionary of unique items in the list as keys and the number of\n",
    "times each item appears as values. So, the input ['A', 'A', 'B', 'C', 'A']\n",
    "should have output  {'A': 3, 'B': 1, 'C': 1}  . Your code should not depend\n",
    "on any module from the standard library or otherwise. You should research the task\n",
    "first and include a description with references of your algorithm in the notebook.\n",
    "\n"
   ]
  },
  {
   "cell_type": "code",
   "execution_count": null,
   "metadata": {},
   "outputs": [],
   "source": []
  },
  {
   "cell_type": "code",
   "execution_count": 2,
   "metadata": {},
   "outputs": [
    {
     "name": "stdout",
     "output_type": "stream",
     "text": [
      "Enter a number of letters, numbers or words seperated by a space: 15\n",
      "{'15': 1}\n"
     ]
    }
   ],
   "source": [
    "List = input(\"Enter a number of letters, numbers or words seperated by a space: \")\n",
    "userList = List.split()\n",
    "\n",
    "#print(List)\n",
    "def counts(List):\n",
    "    print(dict((i, userList.count(i)) for i in userList))\n",
    "counts(userList)"
   ]
  },
  {
   "cell_type": "code",
   "execution_count": 3,
   "metadata": {},
   "outputs": [
    {
     "name": "stdout",
     "output_type": "stream",
     "text": [
      "{'15': 1}\n"
     ]
    }
   ],
   "source": [
    "counts(\"5 9 4 6 Bus Bus bus\")"
   ]
  },
  {
   "cell_type": "code",
   "execution_count": null,
   "metadata": {},
   "outputs": [],
   "source": []
  },
  {
   "cell_type": "markdown",
   "metadata": {},
   "source": [
    "\n",
    "##### References\n",
    "\n",
    "[1] https://pynative.com/python-accept-list-input-from-user/\n",
    "\n",
    "[2] https://stackoverflow.com/questions/2600191/how-can-i-count-the-occurrences-of-a-list-item\n",
    "\n",
    "[3] https://realpython.com/python-dicts/"
   ]
  },
  {
   "cell_type": "markdown",
   "metadata": {},
   "source": [
    "## Task 2: Dicerolls function\n",
    "-------------"
   ]
  },
  {
   "cell_type": "code",
   "execution_count": 4,
   "metadata": {},
   "outputs": [
    {
     "data": {
      "text/plain": [
       "[16, 21, 14, 15, 23, 14, 15, 16, 21, 20]"
      ]
     },
     "execution_count": 4,
     "metadata": {},
     "output_type": "execute_result"
    }
   ],
   "source": [
    "import random\n",
    "\n",
    "def dice_roll(k):\n",
    "    sum = 0\n",
    "    for i in range(0,k):\n",
    "        dice = random.randint(1,6)\n",
    "        #print(dice) # To test function\n",
    "        sum = sum + dice\n",
    "    return(sum)\n",
    "\n",
    "\n",
    "def dicerolls(k, n):\n",
    "    myList = [dice_roll(k) for _ in range(n)]\n",
    "    return(myList)\n",
    "\n",
    "dicerolls(5, 10)\n",
    "\n",
    "#counts(dice_rolls(15,10))\n",
    "# def dicerolls(k, n):\n",
    "   # k = numOfDice\n",
    "   #n = numOfRolls\n",
    "    \n",
    "# numOfDice = int(input(\"How many dice ?\"))\n",
    "# numOfRolls    = int(input(\"How many rolls?\"))"
   ]
  },
  {
   "cell_type": "code",
   "execution_count": 5,
   "metadata": {},
   "outputs": [
    {
     "name": "stdout",
     "output_type": "stream",
     "text": [
      "{'15': 1}\n"
     ]
    }
   ],
   "source": [
    "counts(dicerolls(2, 1000))"
   ]
  },
  {
   "cell_type": "code",
   "execution_count": null,
   "metadata": {},
   "outputs": [],
   "source": []
  },
  {
   "cell_type": "code",
   "execution_count": null,
   "metadata": {},
   "outputs": [],
   "source": []
  },
  {
   "cell_type": "markdown",
   "metadata": {},
   "source": [
    "## Task 3: numpy.random.binomial\n",
    "-------------\n",
    "\n",
    "Pull numpy.random.binomial summary from Programming for Data Analytics project"
   ]
  },
  {
   "cell_type": "markdown",
   "metadata": {},
   "source": [
    "#### Task\n",
    "\n",
    "November 16th, 2020: The `numpy.random.binomial` function can be used to\n",
    "simulate flipping a coin with a 50/50 chance of heads or tails. \n",
    "\n",
    "Interestingly, if a coin is flipped many times then the number of heads is well approximated by a bell-shaped curve. For instance, if we flip a coin 100 times in a row the chance of getting 50 heads is relatively high, the chances of getting 0 or 100 heads is relatively low, and the chances of getting any other number of heads decreases as you move away from 50 in either direction towards 0 or 100. \n",
    "\n",
    "Write some python code that simulates flipping a coin 100 times. Then run this code 1,000 times, keeping track of the number of heads in each of the 1,000 simulations. Select an appropriate plot to depict the resulting list of 1,000 numbers, showing that it roughly follows a bell-shaped curve. You should explain your work in a Markdown cell above the code.\n"
   ]
  },
  {
   "cell_type": "markdown",
   "metadata": {},
   "source": [
    "* ### Distribution 2: binomial\n",
    "\n",
    "**Generator.binomial(n, p, size=None)**\n",
    " \n",
    "Creates a sample from a binomial distributon. The specific paramaters are; n, the number of trialls, and  p, the probability of sucess. \n",
    "\n",
    "\"A binomial distribution can be thought of as simply the probability of a SUCCESS or FAILURE outcome in an experiment or survey that is repeated multiple times.\" [\\[18\\]][18] It is a type of distribution that has two possible outcomes. e.g coin toss - heads or tails. \n",
    "\n",
    "* Parameters \n",
    "    * n: trialls - paramater of the distribution greater than or equal to zero.\n",
    "    * p: probability of success, in the interval [1,0]\n",
    "    * size: output shape\n",
    "\n",
    "* Returns\n",
    "    * out: ndarray or scalar - Drawn samples from the parameterized binomial distribution, where each sample is equal to the number of successes over the n trials.\n",
    "    \n",
    "Note: for more information on this function see numpy documentation. [\\[17\\]][17]\n",
    "\n",
    "Examples\n",
    "\n",
    "\n",
    "\n",
    "\n",
    "[18]: https://www.statisticshowto.com/probability-and-statistics/binomial-theorem/binomial-distribution-formula/\n",
    "\n",
    "\n",
    "[17]: https://numpy.org/doc/stable/reference/random/generated/numpy.random.Generator.binomial.html#numpy.random.Generator.binomial"
   ]
  },
  {
   "cell_type": "code",
   "execution_count": 8,
   "metadata": {
    "scrolled": true
   },
   "outputs": [
    {
     "data": {
      "text/plain": [
       "array([57, 52, 53, 50, 51, 35, 44, 38, 50, 46, 60, 46, 53, 46, 56, 49, 51,\n",
       "       55, 47, 58, 45, 48, 54, 43, 47, 47, 49, 37, 44, 53, 53, 46, 53, 57,\n",
       "       54, 54, 49, 44, 47, 46, 50, 43, 59, 44, 53, 37, 51, 50, 48, 54, 50,\n",
       "       54, 54, 57, 53, 45, 56, 51, 51, 51, 53, 55, 53, 43, 53, 46, 52, 49,\n",
       "       48, 51, 52, 46, 48, 46, 57, 55, 54, 51, 44, 46, 58, 63, 52, 44, 55,\n",
       "       56, 45, 48, 55, 43, 42, 55, 45, 44, 54, 57, 48, 50, 57, 52, 58, 53,\n",
       "       54, 52, 56, 52, 50, 52, 49, 49, 56, 45, 41, 53, 51, 50, 48, 54, 47,\n",
       "       53, 39, 44, 47, 59, 48, 56, 43, 53, 45, 50, 54, 47, 51, 44, 52, 49,\n",
       "       47, 51, 46, 53, 45, 47, 50, 46, 50, 43, 49, 45, 53, 51, 52, 57, 50,\n",
       "       57, 59, 51, 45, 54, 45, 54, 49, 50, 51, 56, 46, 50, 46, 58, 51, 40,\n",
       "       58, 38, 37, 60, 52, 58, 48, 56, 52, 48, 51, 54, 51, 46, 42, 36, 48,\n",
       "       46, 49, 44, 46, 56, 48, 48, 49, 55, 47, 51, 56, 56, 47, 52, 52, 53,\n",
       "       53, 45, 46, 45, 53, 57, 52, 47, 52, 47, 43, 43, 47, 50, 56, 47, 50,\n",
       "       45, 48, 46, 48, 47, 50, 48, 53, 44, 42, 48, 53, 57, 49, 48, 54, 51,\n",
       "       47, 47, 50, 53, 41, 48, 42, 47, 52, 61, 48, 53, 42, 46, 48, 53, 54,\n",
       "       48, 42, 51, 38, 53, 56, 50, 49, 55, 51, 46, 41, 61, 55, 56, 50, 40,\n",
       "       49, 45, 52, 51, 52, 48, 59, 46, 45, 49, 48, 38, 50, 52, 52, 50, 54,\n",
       "       51, 49, 47, 55, 55, 55, 52, 50, 50, 59, 40, 53, 54, 52, 47, 51, 50,\n",
       "       57, 57, 56, 61, 55, 48, 48, 45, 53, 42, 48, 54, 53, 48, 46, 55, 46,\n",
       "       42, 55, 51, 43, 52, 50, 48, 50, 52, 49, 43, 43, 47, 46, 59, 57, 55,\n",
       "       55, 57, 44, 54, 48, 40, 47, 51, 51, 56, 53, 50, 61, 49, 41, 62, 51,\n",
       "       55, 39, 54, 60, 52, 58, 49, 57, 46, 57, 50, 50, 51, 50, 52, 50, 45,\n",
       "       53, 56, 46, 52, 51, 45, 56, 54, 54, 45, 55, 54, 47, 53, 49, 51, 42,\n",
       "       52, 53, 42, 60, 57, 52, 47, 48, 46, 60, 54, 47, 55, 50, 52, 46, 47,\n",
       "       55, 43, 50, 48, 50, 50, 52, 57, 51, 57, 47, 60, 47, 51, 47, 63, 54,\n",
       "       45, 39, 51, 48, 50, 46, 53, 53, 47, 49, 43, 42, 42, 55, 59, 50, 57,\n",
       "       44, 55, 50, 63, 54, 48, 46, 56, 61, 53, 53, 48, 54, 45, 45, 46, 50,\n",
       "       49, 43, 52, 51, 43, 39, 50, 55, 45, 52, 49, 53, 61, 50, 56, 41, 47,\n",
       "       53, 45, 45, 50, 51, 54, 48, 52, 49, 55, 50, 53, 48, 50, 45, 49, 44,\n",
       "       54, 49, 48, 52, 52, 44, 53, 46, 50, 49, 57, 42, 52, 54, 42, 49, 49,\n",
       "       48, 49, 50, 49, 55, 47, 51, 57, 52, 46, 53, 56, 48, 51, 48, 53, 50,\n",
       "       54, 52, 49, 47, 48, 53, 49, 42, 52, 52, 51, 51, 52, 51, 40, 44, 52,\n",
       "       47, 50, 46, 49, 52, 43, 48, 44, 51, 58, 42, 52, 53, 58, 45, 49, 57,\n",
       "       54, 61, 37, 42, 54, 43, 57, 34, 51, 49, 48, 44, 54, 51, 56, 53, 51,\n",
       "       57, 48, 51, 49, 44, 53, 56, 52, 47, 56, 59, 59, 45, 44, 38, 44, 55,\n",
       "       55, 48, 57, 53, 52, 49, 52, 56, 52, 43, 47, 48, 47, 51, 59, 51, 49,\n",
       "       51, 41, 47, 59, 56, 50, 44, 55, 42, 50, 47, 45, 37, 51, 41, 49, 50,\n",
       "       53, 45, 46, 51, 47, 48, 47, 45, 52, 48, 42, 58, 48, 51, 61, 39, 50,\n",
       "       38, 49, 44, 51, 46, 48, 45, 44, 53, 47, 55, 35, 55, 41, 52, 51, 47,\n",
       "       57, 53, 61, 43, 51, 48, 51, 42, 46, 43, 53, 53, 43, 49, 52, 53, 53,\n",
       "       50, 52, 50, 49, 49, 51, 48, 53, 43, 54, 50, 55, 59, 48, 47, 51, 53,\n",
       "       45, 56, 51, 57, 57, 49, 56, 47, 53, 49, 47, 54, 48, 48, 47, 52, 55,\n",
       "       48, 53, 41, 58, 60, 58, 56, 43, 53, 49, 42, 50, 52, 56, 48, 43, 53,\n",
       "       59, 53, 47, 48, 50, 45, 50, 62, 51, 46, 48, 47, 57, 59, 50, 41, 54,\n",
       "       41, 44, 50, 50, 50, 54, 59, 55, 46, 60, 46, 51, 58, 47, 48, 53, 56,\n",
       "       53, 53, 50, 58, 38, 44, 42, 46, 55, 42, 45, 49, 40, 49, 54, 49, 54,\n",
       "       46, 46, 46, 48, 59, 44, 53, 54, 49, 55, 49, 46, 47, 49, 43, 50, 51,\n",
       "       43, 54, 51, 49, 49, 52, 50, 47, 51, 48, 42, 53, 57, 50, 48, 52, 43,\n",
       "       41, 48, 46, 51, 45, 52, 59, 48, 43, 60, 55, 46, 48, 55, 51, 45, 49,\n",
       "       43, 34, 49, 49, 51, 50, 57, 50, 44, 50, 47, 55, 48, 41, 54, 54, 53,\n",
       "       48, 41, 52, 49, 50, 52, 52, 52, 49, 52, 53, 52, 48, 51, 52, 50, 47,\n",
       "       41, 58, 58, 48, 50, 53, 52, 48, 51, 52, 56, 57, 48, 46, 52, 56, 51,\n",
       "       51, 52, 44, 43, 42, 51, 52, 46, 45, 55, 58, 48, 48, 47, 46, 35, 54,\n",
       "       48, 64, 42, 48, 52, 53, 56, 44, 47, 53, 46, 49, 58, 49, 52, 51, 45,\n",
       "       45, 45, 53, 46, 50, 52, 56, 51, 50, 46, 44, 45, 48, 51, 51, 47, 47,\n",
       "       54, 55, 49, 51, 48, 60, 51, 48, 52, 49, 51, 58, 50, 52, 51, 52, 47,\n",
       "       51, 56, 56, 45, 46, 50, 42, 44, 55, 57, 56, 50, 45, 48, 50, 57, 56,\n",
       "       50, 46, 54, 49, 46, 46, 50, 51, 47, 42, 57, 51, 50, 49, 51, 53, 56,\n",
       "       42, 51, 55, 39, 42, 51, 44, 52, 53, 53, 50, 44, 46, 58],\n",
       "      dtype=int64)"
      ]
     },
     "execution_count": 8,
     "metadata": {},
     "output_type": "execute_result"
    }
   ],
   "source": [
    "rng = np.random.default_rng()\n",
    "n, p = 100, .5  # number of trials, probability of each trial\n",
    "s = rng.binomial(n, p, 1000)\n",
    "# result of flipping a coin 10 times, tested 10000 times.\n",
    "s\n",
    "# plt.hist(s, bins=10, range=None, rwidth=None, color=None, label=\"tEST\")\n"
   ]
  },
  {
   "cell_type": "code",
   "execution_count": 9,
   "metadata": {},
   "outputs": [
    {
     "data": {
      "text/plain": [
       "(array([  6.,  18.,  51., 108., 200., 235., 201., 119.,  47.,  15.]),\n",
       " array([34., 37., 40., 43., 46., 49., 52., 55., 58., 61., 64.]),\n",
       " <a list of 10 Patch objects>)"
      ]
     },
     "execution_count": 9,
     "metadata": {},
     "output_type": "execute_result"
    },
    {
     "data": {
      "image/png": "[encoded data removed]",
      "text/plain": [
       "<Figure size 432x288 with 1 Axes>"
      ]
     },
     "metadata": {
      "needs_background": "light"
     },
     "output_type": "display_data"
    }
   ],
   "source": [
    "plt.hist(s, bins=10, range=None, rwidth=None, color=None, label=\"tEST\")\n",
    "\n",
    "# matplotlib.pyplot.hist(x, bins=2 range=None, rwidth=None, color=None, label=tEST)"
   ]
  },
  {
   "cell_type": "markdown",
   "metadata": {},
   "source": [
    "The above graph plots the number of successful trialls against the number of trialls totally. It shows that the distribution is normally distributed when the probability is 0.5.\n",
    "\n",
    "There are many real word instances of binomial distributions. e.g drug trial - it works or doesnt, lottery ticket - you win or dont. It can be used to predict any situation in which success or failure are an option."
   ]
  },
  {
   "cell_type": "code",
   "execution_count": null,
   "metadata": {},
   "outputs": [],
   "source": []
  }
 ],
 "metadata": {
  "kernelspec": {
   "display_name": "Python 3",
   "language": "python",
   "name": "python3"
  },
  "language_info": {
   "codemirror_mode": {
    "name": "ipython",
    "version": 3
   },
   "file_extension": ".py",
   "mimetype": "text/x-python",
   "name": "python",
   "nbconvert_exporter": "python",
   "pygments_lexer": "ipython3",
   "version": "3.8.3"
  }
 },
 "nbformat": 4,
 "nbformat_minor": 4
}
