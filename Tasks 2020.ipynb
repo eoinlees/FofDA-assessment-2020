{
 "cells": [
  {
   "cell_type": "markdown",
   "metadata": {},
   "source": [
    "# <p style=\"text-align: center;\">Fundamentals of Data Analytics: Tasks 2020 </p>\n",
    "<img src=\"https://i0.wp.com/www.creatingentrepreneursinfood.eu/wp-content/uploads/2017/02/GMIT-logo.png\" alt=\"gmit\" style=\"width: 200px;\"/>\n",
    "\n",
    "\n",
    "\n",
    "**<p style=\"text-align: center;\">Eoin Lees - G00387888 - December 18th 2020</p>**\n",
    "\n",
    "--------------\n"
   ]
  },
  {
   "cell_type": "markdown",
   "metadata": {},
   "source": [
    "# Task 1: Counts function\n",
    "---------------------\n",
    "\n",
    "**October 5th, 2020:** Write a Python function called counts that takes a list as\n",
    "input and returns a dictionary of unique items in the list as keys and the number of\n",
    "times each item appears as values. So, the input `['A', 'A', 'B', 'C', 'A']`\n",
    "should have output `{'A': 3, 'B': 1, 'C': 1}`. Your code should not depend\n",
    "on any module from the standard library1 or otherwise. You should research\n",
    "the task first and include a description with references of your algorithm in the\n",
    "notebook.\n",
    "\n",
    "--------------------"
   ]
  },
  {
   "cell_type": "markdown",
   "metadata": {},
   "source": [
    "## Define Function"
   ]
  },
  {
   "cell_type": "code",
   "execution_count": 8,
   "metadata": {},
   "outputs": [],
   "source": [
    "# Define Function\n",
    "\n",
    "def counts(x):\n",
    "    # create final list(dict) to be filled in for loop\n",
    "    finalList = {}\n",
    "    # Iterate\n",
    "    for i in x:\n",
    "        # see if i is already in finalList\n",
    "        if i in finalList:\n",
    "            # add one to i count if so\n",
    "            finalList[i] += 1\n",
    "        else:\n",
    "            # create i in finalList and set its value to 1 \n",
    "            finalList[i] = 1\n",
    "    \n",
    "    return finalList    "
   ]
  },
  {
   "cell_type": "markdown",
   "metadata": {},
   "source": [
    "This is how the `counts(x)` function works:\n",
    "\n",
    "* It takes a list as an input \"x\". \n",
    "* It creates a dictionary `finalList` to store all of the inputs.[[2]](https://realpython.com/python-dicts/)\n",
    "* It checks if each item \"i\" in the input list \"x\" is in the `finalList`\n",
    "    * If it is, it adds 1 to its count.\n",
    "    * if it's not, it creates the item \"i\" in the `finalList` and sets its count to 1. [[3]](https://stackabuse.com/python-get-number-of-elements-in-a-list/)\n",
    "* Once all items are iterated through it returns the `finalList` with each element counted in the correct format. \n",
    "\n",
    "Examples of how this function works are shown below.\n"
   ]
  },
  {
   "cell_type": "markdown",
   "metadata": {},
   "source": [
    "## Test function"
   ]
  },
  {
   "cell_type": "code",
   "execution_count": 9,
   "metadata": {},
   "outputs": [],
   "source": [
    "#Define Lists\n",
    "testListOne = [\"A\", \"A\", \"B\", \"C\", \"A\"]\n",
    "testListTwo = [\"Car\", \"Bar\", \"Toy\", \"Car\", \"Car\", \"Bar\"]\n",
    "testListThree = [\"12\", \"4\", \"12\", \"15\", \"4\", \"4\", \"4\",\"4\"]\n",
    "testListFour = [1,2,3,4,3,2,3,4,5,6,4,3,2]"
   ]
  },
  {
   "cell_type": "code",
   "execution_count": 10,
   "metadata": {},
   "outputs": [
    {
     "data": {
      "text/plain": [
       "{'A': 3, 'B': 1, 'C': 1}"
      ]
     },
     "execution_count": 10,
     "metadata": {},
     "output_type": "execute_result"
    }
   ],
   "source": [
    "# Test list 1\n",
    "counts(testListOne)"
   ]
  },
  {
   "cell_type": "code",
   "execution_count": 11,
   "metadata": {},
   "outputs": [
    {
     "data": {
      "text/plain": [
       "{'Car': 3, 'Bar': 2, 'Toy': 1}"
      ]
     },
     "execution_count": 11,
     "metadata": {},
     "output_type": "execute_result"
    }
   ],
   "source": [
    "# Test list 2\n",
    "counts(testListTwo)"
   ]
  },
  {
   "cell_type": "code",
   "execution_count": 12,
   "metadata": {},
   "outputs": [
    {
     "data": {
      "text/plain": [
       "{'12': 2, '4': 5, '15': 1}"
      ]
     },
     "execution_count": 12,
     "metadata": {},
     "output_type": "execute_result"
    }
   ],
   "source": [
    "# Test list 3\n",
    "counts(testListThree)"
   ]
  },
  {
   "cell_type": "code",
   "execution_count": 7,
   "metadata": {},
   "outputs": [
    {
     "data": {
      "text/plain": [
       "{1: 1, 2: 3, 3: 4, 4: 3, 5: 1, 6: 1}"
      ]
     },
     "execution_count": 7,
     "metadata": {},
     "output_type": "execute_result"
    }
   ],
   "source": [
    "# Test list 4\n",
    "counts(testListFour)"
   ]
  },
  {
   "cell_type": "markdown",
   "metadata": {},
   "source": [
    "### Input function\n",
    "\n",
    "Below is a cell that calls for an input list to be given.[[4]](https://pynative.com/python-accept-list-input-from-user/) It allows for the `counts(x)` function to be tested in real time. It takes the input and splits each word or number into a seperate item in the list. [[5]](https://www.w3schools.com/python/ref_string_split.asp)\n",
    "\n",
    "To run it hit \"shift + return\" and it will request an input. \n",
    "\n",
    "For convience here is a sample list to copy and past as input:\n",
    "\n",
    "                        Eoin Eoin Eoin Bob Bob Mary Mary Sue Eoin Mary 1 1 2 45 45 45 45\n",
    "                       \n",
    "You will recieve an output of the following:\n",
    "\n",
    "                        {'Eoin': 4, 'Bob': 2, 'Mary': 3, 'Sue': 1, '1': 2, '2': 1, '45': 4}"
   ]
  },
  {
   "cell_type": "code",
   "execution_count": 8,
   "metadata": {},
   "outputs": [
    {
     "name": "stdout",
     "output_type": "stream",
     "text": [
      "Enter a number of letters, numbers or words seperated by a space: 1234 1234 56 56 56 56\n"
     ]
    },
    {
     "data": {
      "text/plain": [
       "{'1234': 2, '56': 4}"
      ]
     },
     "execution_count": 8,
     "metadata": {},
     "output_type": "execute_result"
    }
   ],
   "source": [
    "# Test List from input [1]\n",
    "List = input(\"Enter a number of letters, numbers or words seperated by a space: \")\n",
    "inputList = List.split()\n",
    "\n",
    "#print(userList)\n",
    "counts(inputList)"
   ]
  },
  {
   "cell_type": "markdown",
   "metadata": {},
   "source": [
    "## Alternate method\n",
    "----------------"
   ]
  },
  {
   "cell_type": "code",
   "execution_count": 9,
   "metadata": {},
   "outputs": [
    {
     "name": "stdout",
     "output_type": "stream",
     "text": [
      "{'Car': 3, 'Bar': 2, 'Toy': 1}\n"
     ]
    }
   ],
   "source": [
    "num = [\"Car\", \"Bar\", \"Toy\", \"Car\", \"Car\", \"Bar\"]\n",
    "\n",
    "def countsAlt(L):\n",
    "    print(dict((i, L.count(i)) for i in L))\n",
    "countsAlt(num)"
   ]
  },
  {
   "cell_type": "code",
   "execution_count": 10,
   "metadata": {},
   "outputs": [
    {
     "name": "stdout",
     "output_type": "stream",
     "text": [
      "{'A': 3, 'B': 1, 'C': 1}\n"
     ]
    }
   ],
   "source": [
    "countsAlt(testListOne)"
   ]
  },
  {
   "cell_type": "markdown",
   "metadata": {},
   "source": [
    "This alternate method uses the count() function built into python. [[1]](https://docs.python.org/3/tutorial/datastructures.html) \n",
    "\n",
    "* list.count(x)\n",
    "        Return the number of times x appears in the list.\n",
    "\n",
    "It is much more straight forward. It functions the same as the above method. "
   ]
  },
  {
   "cell_type": "markdown",
   "metadata": {},
   "source": [
    "## Results\n",
    "\n",
    "Both of the methods take an input list and return an output of unique items with the number of occurances of each item.\n",
    "\n",
    "This was achieved without calling and external functions. \n",
    "\n",
    "They fulfill the brief. \n",
    "\n",
    "## Conclusions\n",
    "\n",
    "Both of these functions achieve the brief. Testing has been undertaken to see if there are any issues with inpuit types,but no issues were discovered.  \n",
    "\n",
    "It is possible to achieve the same results by calling external functions like `numpy.unique` [[6]](https://numpy.org/devdocs/reference/generated/numpy.unique.html) or `collections.Counter()` [[7]](https://docs.python.org/3/library/collections.html#collections.Counter). However it was specifically stated that this was not allowed in the brief. \n",
    "\n",
    "Further work:\n",
    "* Further extensive testing on limits of function may be needed.\n",
    "* A seperate function could be created to have an input without calling for it. \n",
    "\n",
    "Either function can now be called anywhere else on this jupyter workbook. eg. Task 2. \n",
    "\n",
    "---------------------"
   ]
  },
  {
   "cell_type": "markdown",
   "metadata": {},
   "source": [
    "\n",
    "# References - Task 1\n",
    "\n",
    "[1] More on Lists; Python Software Foundation; https://docs.python.org/3/tutorial/datastructures.html\n",
    "\n",
    "[2] Dictionaries in Python; Real Python; https://realpython.com/python-dicts/\n",
    "\n",
    "[3] Python: Get Number of Elements in a List; Stack Abuse; https://stackabuse.com/python-get-number-of-elements-in-a-list/\n",
    "\n",
    "[4] Python Accept list as an input from a user; pynative.com; https://pynative.com/python-accept-list-input-from-user/\n",
    "\n",
    "[5] Python String split() Method; Refsnes Data; https://www.w3schools.com/python/ref_string_split.asp\n",
    "\n",
    "[6] numpy.unique; The SciPy community; https://numpy.org/devdocs/reference/generated/numpy.unique.html\n",
    "\n",
    "[7] collections.Counter; Python Software Foundation; https://docs.python.org/3/library/collections.html#collections.Counter\n",
    "\n",
    "--------------------\n"
   ]
  },
  {
   "cell_type": "markdown",
   "metadata": {},
   "source": [
    "## Task 2: Dicerolls function\n",
    "-------------\n",
    "\n",
    "**November 2nd, 2020:** Write a Python function called dicerolls that simulates\n",
    "rolling dice. Your function should take two parameters: the number of dice k and\n",
    "the number of times to roll the dice n. The function should simulate randomly\n",
    "rolling k dice n times, keeping track of each total face value. It should then return\n",
    "a dictionary with the number of times each possible total face value occurred. So,\n",
    "calling the function as diceroll(k=2, n=1000) should return a dictionary like:\n",
    "`{2:19,3:50,4:82,5:112,6:135,7:174,8:133,9:114,10:75,11:70,12:36}`\n",
    "\n",
    "\n",
    "\n",
    "\n",
    "\n",
    "-------------"
   ]
  },
  {
   "cell_type": "markdown",
   "metadata": {},
   "source": [
    "## Introduction\n",
    "\n",
    "This task can be broken down into ____ parts. \n",
    "\n",
    "1. Create function to return random value between 1 - 6 \n",
    "2. \n",
    "\n",
    "#### Distribution\n",
    "\n",
    "It is important to ensure that the function matches a dice roll as closely as possible. \n",
    "\n",
    "Therefore it is necessary to investigare the distribution of a  \"fair dice\".  In mathematics we say \"fair dice\" when we mean that there is an equally likely chance of landing on any face. [[]](https://www.mathsisfun.com/geometry/fair-dice.html)\n",
    "\n",
    "**Uniform distribution**\n",
    "https://en.wikipedia.org/wiki/Continuous_uniform_distribution#Standard_uniform\n",
    "\n",
    "\n",
    "https://numpy.org/doc/stable/reference/random/generated/numpy.random.randint.html\n",
    "**Normal distribution**\n",
    "https://en.wikipedia.org/wiki/Normal_distribution\n",
    "\n",
    "\n",
    "https://numpy.org/doc/stable/reference/random/generated/numpy.random.random_integers.html#numpy.random.random_integers\n",
    "https://numpy.org/doc/stable/reference/random/generated/numpy.random.uniform.html\n",
    "\n",
    "**Binomial distribution**\n",
    "\n",
    "It seems logical to suggest that rolling 2 dice would follow a binomial distribution. But a quick search proves this false. [[9]](https://math.stackexchange.com/questions/1204396/why-is-the-sum-of-the-rolls-of-two-dices-a-binomial-distribution-what-is-define) \n",
    "\n",
    "#### Real wrold\n",
    "\n",
    "In a casino setting the fairness of a dice is taken very seriously. They are classed as casino grade and \"very fair dice\".\n",
    "\n",
    "They have the following features:\n",
    "* partly transparent so you can see any bubbles or weights inside\n",
    "* as close as possible to exact cubes\n",
    "* sharp edges and corners\n",
    "* dots filled in, so the weight is the same on each side\n",
    "\n",
    "For the purpose of this exercise we will attempt to model this class of dice as closely as possible. "
   ]
  },
  {
   "cell_type": "markdown",
   "metadata": {},
   "source": [
    "## Import functions"
   ]
  },
  {
   "cell_type": "code",
   "execution_count": 3,
   "metadata": {},
   "outputs": [],
   "source": [
    "# Import all functions necessary\n",
    "import seaborn as sns\n",
    "import random\n",
    "import matplotlib.pyplot as plt"
   ]
  },
  {
   "cell_type": "markdown",
   "metadata": {},
   "source": [
    "\n",
    "# References - Task 2\n",
    "\n",
    "[8] Generate pseudo-random numbers; https://docs.python.org/3/library/random.html\n",
    "\n",
    "[9] Why is the sum of the rolls of two dices a Binomial Distribution?;  Stack Exchange Inc; https://math.stackexchange.com/questions/1204396/why-is-the-sum-of-the-rolls-of-two-dices-a-binomial-distribution-what-is-define\n",
    "\n",
    "[10] Fair Dice; MathsIsFun.com; https://www.mathsisfun.com/geometry/fair-dice.html\n",
    "\n",
    "[11] numpy.random.randint; The SciPy community; https://numpy.org/doc/stable/reference/random/generated/numpy.random.randint.html\n",
    "\n",
    "\n",
    "https://numpy.org/doc/stable/reference/random/generated/numpy.random.randint.html\n",
    "\n",
    "Research:\n",
    "\n",
    "https://en.wikibooks.org/wiki/Probability/Important_Distributions#:~:text=The%20uniform%20distribution%20is%20a,number%20would%20be%201%2F6.&text=It%20mirrors%20the%20type%20of,dice%2C%20or%20flipping%20a%20coin.\n",
    "\n",
    "---------------------------"
   ]
  },
  {
   "cell_type": "markdown",
   "metadata": {},
   "source": [
    "## Define Function"
   ]
  },
  {
   "cell_type": "code",
   "execution_count": 4,
   "metadata": {},
   "outputs": [],
   "source": [
    "#Define `dice_roll(k)` for a \"k\" number rolls of a dice\n",
    "\n",
    "def dice_roll(k):\n",
    "    sum = 0\n",
    "    for i in range(0,k):\n",
    "        dice = random.randint(1,6)\n",
    "        #print(dice) # To test function\n",
    "        sum = sum + dice\n",
    "    return(sum)\n",
    "\n",
    "#Define `dice_rolls(k, n)` for a multiple rolls of the same number of dice. \n",
    "def dice_rolls(k, n):\n",
    "    myList = [dice_roll(k) for _ in range(n)]\n",
    "    return(myList)"
   ]
  },
  {
   "cell_type": "markdown",
   "metadata": {},
   "source": [
    "The above function used the `random.randint` [[8]](https://docs.python.org/3/library/random.html)\n",
    "\n",
    "* random.randint(a, b)\n",
    "    Return a random integer N such that a <= N <= b. Alias for randrange(a, b+1)\n",
    "    \n",
    " https://numpy.org/doc/stable/reference/random/generated/numpy.random.randint.html\n",
    "    \n",
    " "
   ]
  },
  {
   "cell_type": "markdown",
   "metadata": {},
   "source": [
    "## Test function"
   ]
  },
  {
   "cell_type": "code",
   "execution_count": 5,
   "metadata": {},
   "outputs": [
    {
     "data": {
      "text/plain": [
       "14"
      ]
     },
     "execution_count": 5,
     "metadata": {},
     "output_type": "execute_result"
    }
   ],
   "source": [
    "# Test function\n",
    "dice_roll(5)"
   ]
  },
  {
   "cell_type": "code",
   "execution_count": 33,
   "metadata": {},
   "outputs": [
    {
     "data": {
      "text/plain": [
       "(array([0., 0., 0., 0., 0., 1., 0., 0., 0., 0.]),\n",
       " array([356.5, 356.6, 356.7, 356.8, 356.9, 357. , 357.1, 357.2, 357.3,\n",
       "        357.4, 357.5]),\n",
       " <a list of 10 Patch objects>)"
      ]
     },
     "execution_count": 33,
     "metadata": {},
     "output_type": "execute_result"
    },
    {
     "data": {
      "image/png": "[encoded data removed]",
      "text/plain": [
       "<Figure size 432x288 with 1 Axes>"
      ]
     },
     "metadata": {},
     "output_type": "display_data"
    }
   ],
   "source": [
    "plt.hist(dice_roll(100))"
   ]
  },
  {
   "cell_type": "markdown",
   "metadata": {},
   "source": [
    "returns total sum of 5 dice rolled. "
   ]
  },
  {
   "cell_type": "code",
   "execution_count": 6,
   "metadata": {},
   "outputs": [
    {
     "data": {
      "text/plain": [
       "[6, 6, 4, 6, 5, 4, 7, 7, 6, 5]"
      ]
     },
     "execution_count": 6,
     "metadata": {},
     "output_type": "execute_result"
    }
   ],
   "source": [
    "#Test function\n",
    "dice_rolls(2, 10)"
   ]
  },
  {
   "cell_type": "markdown",
   "metadata": {},
   "source": [
    "returns list of total sum of 2 dice rolled, 10 times."
   ]
  },
  {
   "cell_type": "code",
   "execution_count": 13,
   "metadata": {},
   "outputs": [
    {
     "data": {
      "text/plain": [
       "{4: 2, 8: 2, 10: 1, 5: 1, 6: 2, 7: 1, 9: 1}"
      ]
     },
     "execution_count": 13,
     "metadata": {},
     "output_type": "execute_result"
    }
   ],
   "source": [
    "#Run dice_rolls with count\n",
    "counts(dice_rolls(2, 10))"
   ]
  },
  {
   "cell_type": "markdown",
   "metadata": {},
   "source": [
    "The above code achievs the desired results however calling the function like this is not what was requested. "
   ]
  },
  {
   "cell_type": "markdown",
   "metadata": {},
   "source": [
    "## Define diceroll() function"
   ]
  },
  {
   "cell_type": "code",
   "execution_count": 14,
   "metadata": {},
   "outputs": [],
   "source": [
    "# Define final Function:\n",
    "def diceroll(k, n):\n",
    "    count = counts(dice_rolls(k, n))\n",
    "    return(count)"
   ]
  },
  {
   "cell_type": "code",
   "execution_count": 15,
   "metadata": {},
   "outputs": [
    {
     "data": {
      "text/plain": [
       "{9: 2, 10: 1, 6: 3, 2: 2, 8: 1, 7: 1}"
      ]
     },
     "execution_count": 15,
     "metadata": {},
     "output_type": "execute_result"
    }
   ],
   "source": [
    "# Test the function\n",
    "diceroll(2,10)"
   ]
  },
  {
   "cell_type": "code",
   "execution_count": 16,
   "metadata": {},
   "outputs": [],
   "source": [
    "# define input function - Get input from user\n",
    "def input_diceroll():\n",
    "    k = int(input(\"Enter the number of dice you wish to roll: \"))\n",
    "    n = int(input(\"Enter the number of times you wish to do this: \"))\n",
    "    #return function\n",
    "    return diceroll(k,n)"
   ]
  },
  {
   "cell_type": "code",
   "execution_count": 23,
   "metadata": {},
   "outputs": [
    {
     "name": "stdout",
     "output_type": "stream",
     "text": [
      "Enter the number of dice you wish to roll: 12\n",
      "Enter the number of times you wish to do this: 12\n"
     ]
    },
    {
     "data": {
      "text/plain": [
       "{41: 3, 37: 1, 40: 1, 31: 1, 35: 1, 49: 1, 45: 1, 36: 1, 48: 1, 39: 1}"
      ]
     },
     "execution_count": 23,
     "metadata": {},
     "output_type": "execute_result"
    }
   ],
   "source": [
    "# test function\n",
    "x = input_diceroll()\n",
    "x"
   ]
  },
  {
   "cell_type": "markdown",
   "metadata": {},
   "source": [
    "The above function allows the user to call the function and input any integer they may need. "
   ]
  },
  {
   "cell_type": "markdown",
   "metadata": {},
   "source": [
    "## Plot results"
   ]
  },
  {
   "cell_type": "code",
   "execution_count": 32,
   "metadata": {},
   "outputs": [
    {
     "data": {
      "text/plain": [
       "Text(0.5, 1.0, 'Dice_rolls function')"
      ]
     },
     "execution_count": 32,
     "metadata": {},
     "output_type": "execute_result"
    },
    {
     "data": {
      "image/png": "[encoded data removed]",
      "text/plain": [
       "<Figure size 432x288 with 1 Axes>"
      ]
     },
     "metadata": {},
     "output_type": "display_data"
    }
   ],
   "source": [
    "# set the style\n",
    "sns.set_style(\"white\")\n",
    "\n",
    "\n",
    "# create the plot\n",
    "sns.distplot(dice_rolls(2,1000), bins=11, kde=True, color='green')\n",
    "plt.xlabel(\"sum of flips\") \n",
    "plt.ylabel(\"Number of results in each\")\n",
    "plt.title(\"Dice_rolls function\", fontsize=15)"
   ]
  },
  {
   "cell_type": "markdown",
   "metadata": {},
   "source": [
    "research why distribution is high at 12. https://seaborn.pydata.org/generated/seaborn.distplot.html"
   ]
  },
  {
   "cell_type": "markdown",
   "metadata": {},
   "source": [
    "## Results\n",
    "\n",
    "\n",
    "\n",
    "## Conclusions\n",
    "\n",
    "\n"
   ]
  },
  {
   "cell_type": "markdown",
   "metadata": {},
   "source": [
    "## Task 3: numpy.random.binomial\n",
    "-------------\n"
   ]
  },
  {
   "cell_type": "markdown",
   "metadata": {},
   "source": [
    "The following is ............."
   ]
  },
  {
   "cell_type": "code",
   "execution_count": null,
   "metadata": {},
   "outputs": [],
   "source": [
    "# Import all functions necessary\n",
    "import numpy as np\n"
   ]
  },
  {
   "cell_type": "code",
   "execution_count": 27,
   "metadata": {
    "scrolled": true
   },
   "outputs": [
    {
     "data": {
      "text/plain": [
       "array([49, 49, 48, 47, 44, 54, 58, 50, 49, 57, 58, 53, 48, 48, 57, 51, 54,\n",
       "       54, 45, 53, 48, 49, 57, 49, 54, 50, 51, 44, 53, 48, 48, 43, 61, 43,\n",
       "       47, 38, 48, 46, 46, 53, 53, 58, 48, 53, 45, 53, 42, 56, 42, 42, 44,\n",
       "       52, 62, 55, 55, 49, 44, 48, 51, 48, 51, 49, 50, 50, 50, 56, 54, 47,\n",
       "       45, 44, 49, 52, 44, 53, 51, 46, 60, 53, 49, 51, 44, 47, 50, 47, 48,\n",
       "       47, 42, 45, 46, 50, 48, 46, 45, 51, 49, 52, 51, 53, 63, 45, 55, 49,\n",
       "       38, 57, 51, 50, 47, 55, 55, 45, 49, 41, 54, 56, 56, 48, 55, 61, 52,\n",
       "       56, 51, 44, 45, 42, 51, 53, 56, 45, 42, 52, 44, 48, 47, 48, 49, 50,\n",
       "       46, 45, 46, 48, 40, 42, 53, 54, 47, 53, 48, 44, 50, 64, 55, 47, 50,\n",
       "       56, 49, 44, 52, 55, 49, 47, 49, 47, 50, 52, 52, 52, 52, 52, 54, 55,\n",
       "       47, 51, 50, 50, 49, 55, 44, 53, 54, 55, 47, 53, 52, 49, 52, 49, 48,\n",
       "       56, 44, 52, 56, 55, 49, 50, 55, 47, 54, 48, 51, 47, 50, 49, 53, 47,\n",
       "       43, 45, 51, 45, 54, 40, 50, 53, 54, 56, 49, 44, 48, 50, 51, 48, 49,\n",
       "       46, 44, 49, 47, 54, 44, 60, 52, 55, 55, 48, 57, 50, 50, 52, 50, 56,\n",
       "       50, 47, 61, 42, 46, 49, 45, 50, 52, 55, 46, 48, 53, 52, 48, 50, 52,\n",
       "       51, 49, 52, 51, 44, 49, 58, 52, 46, 48, 53, 46, 53, 54, 43, 40, 46,\n",
       "       51, 45, 48, 52, 49, 41, 47, 52, 53, 51, 46, 50, 39, 45, 67, 50, 59,\n",
       "       46, 41, 55, 45, 59, 48, 47, 55, 43, 50, 33, 58, 53, 41, 51, 51, 54,\n",
       "       40, 53, 52, 58, 47, 42, 46, 48, 48, 40, 51, 53, 52, 49, 45, 55, 54,\n",
       "       48, 53, 51, 47, 54, 49, 57, 46, 55, 46, 51, 55, 50, 47, 50, 55, 48,\n",
       "       53, 43, 50, 44, 52, 42, 54, 50, 54, 44, 47, 58, 50, 49, 59, 45, 45,\n",
       "       54, 63, 40, 52, 48, 52, 40, 46, 50, 55, 53, 52, 47, 58, 47, 54, 54,\n",
       "       50, 53, 57, 54, 49, 55, 51, 49, 48, 51, 46, 47, 57, 56, 54, 45, 57,\n",
       "       54, 47, 56, 48, 55, 47, 49, 46, 54, 59, 47, 58, 51, 43, 56, 49, 58,\n",
       "       51, 53, 49, 50, 43, 45, 49, 51, 56, 59, 54, 56, 53, 48, 44, 49, 50,\n",
       "       52, 47, 46, 50, 49, 56, 46, 51, 52, 41, 46, 54, 52, 52, 54, 54, 52,\n",
       "       46, 47, 50, 43, 49, 50, 42, 49, 53, 51, 57, 46, 45, 42, 47, 51, 54,\n",
       "       49, 45, 58, 44, 55, 52, 36, 55, 55, 41, 56, 50, 49, 48, 54, 55, 59,\n",
       "       45, 53, 47, 53, 43, 56, 60, 57, 55, 50, 46, 50, 40, 64, 51, 52, 47,\n",
       "       44, 45, 46, 53, 48, 60, 52, 56, 49, 52, 53, 57, 50, 60, 53, 46, 55,\n",
       "       52, 55, 41, 54, 51, 41, 48, 46, 54, 45, 46, 53, 43, 53, 47, 41, 48,\n",
       "       52, 45, 44, 44, 41, 51, 50, 44, 45, 47, 61, 52, 58, 57, 52, 47, 39,\n",
       "       45, 52, 50, 53, 45, 48, 52, 51, 54, 48, 46, 51, 50, 55, 45, 38, 49,\n",
       "       54, 45, 56, 53, 50, 52, 54, 53, 55, 48, 44, 51, 41, 50, 51, 59, 47,\n",
       "       48, 51, 42, 52, 49, 53, 58, 46, 46, 47, 49, 49, 56, 43, 50, 47, 51,\n",
       "       43, 43, 47, 47, 48, 54, 55, 45, 44, 55, 52, 54, 45, 48, 46, 56, 49,\n",
       "       58, 43, 52, 53, 49, 50, 45, 45, 51, 59, 49, 53, 43, 52, 48, 48, 51,\n",
       "       39, 58, 53, 49, 59, 54, 45, 53, 53, 45, 47, 58, 51, 50, 57, 52, 47,\n",
       "       52, 49, 53, 49, 45, 45, 56, 58, 35, 52, 49, 53, 55, 51, 49, 43, 46,\n",
       "       38, 54, 50, 44, 54, 56, 52, 53, 48, 49, 50, 48, 52, 49, 66, 50, 57,\n",
       "       49, 54, 48, 46, 49, 59, 53, 47, 51, 55, 46, 42, 59, 55, 46, 48, 49,\n",
       "       52, 46, 46, 40, 49, 53, 48, 39, 46, 46, 55, 52, 42, 59, 50, 49, 55,\n",
       "       58, 59, 45, 50, 48, 54, 49, 67, 48, 50, 49, 37, 41, 49, 51, 44, 44,\n",
       "       45, 58, 44, 49, 57, 54, 42, 55, 63, 51, 52, 53, 46, 44, 47, 50, 56,\n",
       "       46, 57, 54, 51, 52, 47, 50, 48, 53, 50, 43, 41, 58, 46, 49, 50, 46,\n",
       "       52, 49, 50, 55, 43, 43, 40, 50, 45, 42, 50, 60, 45, 38, 57, 52, 50,\n",
       "       51, 53, 57, 58, 47, 56, 46, 45, 46, 48, 49, 48, 48, 50, 48, 59, 48,\n",
       "       51, 53, 50, 38, 53, 58, 49, 53, 43, 55, 51, 53, 50, 58, 41, 49, 51,\n",
       "       49, 50, 51, 51, 54, 49, 46, 50, 56, 39, 53, 56, 55, 55, 50, 45, 53,\n",
       "       47, 43, 52, 50, 47, 44, 49, 50, 51, 47, 53, 45, 47, 54, 62, 52, 53,\n",
       "       52, 54, 52, 50, 41, 49, 57, 50, 57, 53, 57, 45, 50, 45, 48, 62, 58,\n",
       "       56, 50, 53, 56, 58, 45, 47, 48, 39, 51, 51, 49, 49, 48, 52, 45, 49,\n",
       "       42, 49, 48, 59, 56, 47, 39, 59, 53, 52, 46, 46, 53, 47, 45, 59, 49,\n",
       "       48, 62, 59, 50, 50, 59, 48, 58, 50, 51, 52, 52, 51, 49, 47, 57, 46,\n",
       "       51, 54, 51, 53, 53, 42, 51, 47, 56, 50, 55, 48, 50, 55, 49, 55, 54,\n",
       "       48, 52, 52, 55, 48, 57, 57, 49, 49, 39, 56, 54, 55, 43, 43, 50, 48,\n",
       "       40, 56, 46, 46, 46, 55, 53, 44, 41, 48, 51, 48, 53, 44, 49, 62, 55,\n",
       "       51, 53, 49, 56, 49, 46, 42, 59, 50, 45, 51, 45, 55, 55, 52, 46, 48,\n",
       "       42, 49, 50, 50, 53, 47, 48, 62, 51, 41, 50, 49, 49, 46],\n",
       "      dtype=int64)"
      ]
     },
     "execution_count": 27,
     "metadata": {},
     "output_type": "execute_result"
    }
   ],
   "source": [
    "rng = np.random.default_rng()\n",
    "n, p = 100, .5  # number of trials, probability of each trial\n",
    "s = rng.binomial(n, p, 1000)\n",
    "# result of flipping a coin 10 times, tested 10000 times.\n",
    "s\n",
    "# plt.hist(s, bins=10, range=None, rwidth=None, color=None, label=\"tEST\")\n"
   ]
  },
  {
   "cell_type": "code",
   "execution_count": 52,
   "metadata": {},
   "outputs": [
    {
     "data": {
      "text/plain": [
       "Text(0.5, 1.0, 'Binomial Distribution')"
      ]
     },
     "execution_count": 52,
     "metadata": {},
     "output_type": "execute_result"
    },
    {
     "data": {
      "image/png": "[encoded data removed]",
      "text/plain": [
       "<Figure size 684x468 with 1 Axes>"
      ]
     },
     "metadata": {},
     "output_type": "display_data"
    }
   ],
   "source": [
    "# set the style\n",
    "sns.set_style(\"white\")\n",
    "\n",
    "\n",
    "# create the plot\n",
    "sns.distplot(s, kde=True, color='green')\n",
    "plt.xlabel(\"Distribution\") \n",
    "plt.ylabel(\"Density\")\n",
    "plt.title(\"Binomial Distribution\", fontsize=15)\n"
   ]
  },
  {
   "cell_type": "markdown",
   "metadata": {},
   "source": [
    "The above graph plots the number of successful trialls against the number of trialls totally. It shows that the distribution is normally distributed when the probability is 0.5.\n",
    "\n",
    "There are many real word instances of binomial distributions. e.g drug trial - it works or doesnt, lottery ticket - you win or dont. It can be used to predict any situation in which success or failure are an option.\n",
    "\n",
    "https://seaborn.pydata.org/generated/seaborn.set_style.html"
   ]
  },
  {
   "cell_type": "markdown",
   "metadata": {},
   "source": [
    "## Results\n",
    "\n",
    "\n",
    "\n",
    "## Conclusions\n",
    "\n"
   ]
  },
  {
   "cell_type": "markdown",
   "metadata": {},
   "source": [
    "\n",
    "# References - Task 3\n",
    "\n",
    "\n",
    "-----------------\n",
    "[1] python-accept-list-input-from-user; pynative; https://pynative.com/python-accept-list-input-from-user/\n",
    "\n",
    "\n",
    "\n",
    "\n",
    "------------------------"
   ]
  },
  {
   "cell_type": "markdown",
   "metadata": {},
   "source": [
    "## Task 4: Simpsons Paradox\n",
    "-------------\n",
    "\n",
    "\"Simpsons Paradox is a phenomenon in probability and statistics, in which a trend appears in several different groups of data but disappears or reverses when these groups are combined.\" https://en.wikipedia.org/wiki/Simpson%27s_paradox\n",
    "\n",
    "It is named after Edward H. Simpson after he described it in a paper in 1951. It had been previously observed. \n",
    "\n",
    "It is a common phenomonon in statistics. One of the best known examples is the \"UC Berkley gender bias\" where if you take the percentage of applicants accempted into the university it seems as if Women are discriminated against. However if you take a more detailed look into individual departments it shows that this is actually a result of more women choosing compettivie programs and the pooled and corrected data showed a \"small but statistically significant bias in favor of women\" https://homepage.stat.uiowa.edu/~mbognar/1030/Bickel-Berkeley.pdf\n",
    "\n",
    "\n",
    "Below is some data and plots to explain the phenomenon. \n"
   ]
  },
  {
   "cell_type": "markdown",
   "metadata": {},
   "source": [
    "First we will plot a set of values and find its "
   ]
  },
  {
   "cell_type": "code",
   "execution_count": 56,
   "metadata": {},
   "outputs": [],
   "source": [
    "plt.style.use(\"ggplot\")"
   ]
  },
  {
   "cell_type": "code",
   "execution_count": 164,
   "metadata": {},
   "outputs": [
    {
     "data": {
      "text/plain": [
       "array([ 0.        ,  0.34482759,  0.68965517,  1.03448276,  1.37931034,\n",
       "        1.72413793,  2.06896552,  2.4137931 ,  2.75862069,  3.10344828,\n",
       "        3.44827586,  3.79310345,  4.13793103,  4.48275862,  4.82758621,\n",
       "        5.17241379,  5.51724138,  5.86206897,  6.20689655,  6.55172414,\n",
       "        6.89655172,  7.24137931,  7.5862069 ,  7.93103448,  8.27586207,\n",
       "        8.62068966,  8.96551724,  9.31034483,  9.65517241, 10.        ])"
      ]
     },
     "execution_count": 164,
     "metadata": {},
     "output_type": "execute_result"
    }
   ],
   "source": [
    "# Create points\n",
    "\n",
    "N = 30 # Number of points created\n",
    "x1 = np.linspace(0, 10, N) # create x values\n",
    "a = -1 # generate negative slope\n",
    "b = 1\n",
    "y1 = a*x1 + b # create corrosponding y values\n",
    "\n",
    "\n",
    "x1 # Show x1 values\n"
   ]
  },
  {
   "cell_type": "code",
   "execution_count": 165,
   "metadata": {},
   "outputs": [
    {
     "data": {
      "text/plain": [
       "array([ 1.        ,  0.65517241,  0.31034483, -0.03448276, -0.37931034,\n",
       "       -0.72413793, -1.06896552, -1.4137931 , -1.75862069, -2.10344828,\n",
       "       -2.44827586, -2.79310345, -3.13793103, -3.48275862, -3.82758621,\n",
       "       -4.17241379, -4.51724138, -4.86206897, -5.20689655, -5.55172414,\n",
       "       -5.89655172, -6.24137931, -6.5862069 , -6.93103448, -7.27586207,\n",
       "       -7.62068966, -7.96551724, -8.31034483, -8.65517241, -9.        ])"
      ]
     },
     "execution_count": 165,
     "metadata": {},
     "output_type": "execute_result"
    }
   ],
   "source": [
    "y1 # show y values"
   ]
  },
  {
   "cell_type": "code",
   "execution_count": 166,
   "metadata": {},
   "outputs": [
    {
     "data": {
      "image/png": "[encoded data removed]",
      "text/plain": [
       "<Figure size 432x288 with 1 Axes>"
      ]
     },
     "metadata": {},
     "output_type": "display_data"
    }
   ],
   "source": [
    "# plot data\n",
    "\n",
    "plt.plot(x1, y1, 'gx')\n",
    "plt.show()\n"
   ]
  },
  {
   "cell_type": "markdown",
   "metadata": {},
   "source": [
    "The plot above shows a posotive slope on the x axis. \n",
    "https://numpy.org/doc/stable/reference/generated/numpy.linspace.html\n",
    "\n",
    "--------------"
   ]
  },
  {
   "cell_type": "code",
   "execution_count": 246,
   "metadata": {},
   "outputs": [
    {
     "data": {
      "image/png": "[encoded data removed]",
      "text/plain": [
       "<Figure size 432x288 with 1 Axes>"
      ]
     },
     "metadata": {},
     "output_type": "display_data"
    }
   ],
   "source": [
    "# Create points\n",
    "\n",
    "x1 = np.linspace(0, 10, 30) # create x values\n",
    "a = -1 # generate negative slope\n",
    "b = 1\n",
    "y = (a * x1) + b # create corrosponding y values\n",
    "noise = np.random.normal(0, 0.2, len(x1))\n",
    "y1 = y + noise \n",
    "\n",
    "\n",
    "plt.plot(x1, y1, 'gx', label=\"plot 1\")\n",
    "\n",
    "plt.show()\n"
   ]
  },
  {
   "cell_type": "markdown",
   "metadata": {},
   "source": [
    "Adding in random noise using `numpy.random.normal` we can create a more realistic data set for a better demonstration of the effect. It gives a data set that is more representive of the realworld. "
   ]
  },
  {
   "cell_type": "code",
   "execution_count": 266,
   "metadata": {},
   "outputs": [
    {
     "data": {
      "text/plain": [
       "[<matplotlib.lines.Line2D at 0x2566d77a310>]"
      ]
     },
     "execution_count": 266,
     "metadata": {},
     "output_type": "execute_result"
    },
    {
     "data": {
      "image/png": "[encoded data removed]",
      "text/plain": [
       "<Figure size 432x288 with 1 Axes>"
      ]
     },
     "metadata": {},
     "output_type": "display_data"
    }
   ],
   "source": [
    "coeffs1 = np.polyfit(x1, y1, 1)\n",
    "plt.plot(x1, y1, 'gx', label=\"plot 1\")\n",
    "plt.plot(x1, coeffs1[0] * x1 + coeffs1[1], \"g-\", label=\"Best fit\")"
   ]
  },
  {
   "cell_type": "markdown",
   "metadata": {},
   "source": [
    "Using `np.polyfit()` we can get the coeffeciants of x and y and use them to plot the best fit line of the data as shown above. "
   ]
  },
  {
   "cell_type": "code",
   "execution_count": 221,
   "metadata": {},
   "outputs": [
    {
     "data": {
      "text/plain": [
       "array([ -1.25493555,  -1.24336631,  -1.83713637,  -1.84753874,\n",
       "        -2.4356233 ,  -3.15617162,  -2.86667884,  -3.25409458,\n",
       "        -3.8020459 ,  -3.86689288,  -4.36275699,  -4.70433654,\n",
       "        -5.0225496 ,  -5.16893407,  -6.00870654,  -6.23288146,\n",
       "        -6.78432645,  -6.81468016,  -6.91967973,  -7.40451747,\n",
       "        -8.0999598 ,  -8.33155643,  -8.49469396,  -9.21757282,\n",
       "        -9.60118483,  -9.6761535 ,  -9.9829473 , -10.14279989,\n",
       "       -10.84546115, -10.93871407])"
      ]
     },
     "execution_count": 221,
     "metadata": {},
     "output_type": "execute_result"
    }
   ],
   "source": [
    "y1"
   ]
  },
  {
   "cell_type": "markdown",
   "metadata": {},
   "source": [
    "check y values to see where next a value needs to be. For the correct phenomen the first y2 value will need to be above -1. \n",
    "\n",
    "Set \"a\" as -0.1. "
   ]
  },
  {
   "cell_type": "code",
   "execution_count": 268,
   "metadata": {},
   "outputs": [
    {
     "data": {
      "text/plain": [
       "[<matplotlib.lines.Line2D at 0x2566d792880>]"
      ]
     },
     "execution_count": 268,
     "metadata": {},
     "output_type": "execute_result"
    },
    {
     "data": {
      "image/png": "[encoded data removed]",
      "text/plain": [
       "<Figure size 1440x432 with 3 Axes>"
      ]
     },
     "metadata": {},
     "output_type": "display_data"
    }
   ],
   "source": [
    "# Graph 3 more functions \n",
    "\n",
    "plt.figure(figsize=(20,6)) # set figure size\n",
    "\n",
    "plt.subplot(1,3,1) \n",
    "N = 30 # Number of points created\n",
    "x2 = np.linspace(10, 20, N) # create x values\n",
    "a = -0.1 # generate negative slope\n",
    "b = 2\n",
    "y = a * x2 + b # create corrosponding y values\n",
    "noise = np.random.normal(0, 0.2, len(x2))\n",
    "y2 = y + noise \n",
    "\n",
    "coeffs2 = np.polyfit(x2, y2, 1)\n",
    "plt.plot(x2, y2, 'yx', label=\"plot 2\")\n",
    "plt.plot(x2, coeffs2[0] * x2 + coeffs2[1], \"y-\", label=\"Best fit\")\n",
    "\n",
    "\n",
    "\n",
    "plt.subplot(1,3,2) \n",
    "\n",
    "N = 30 # Number of points created\n",
    "x3 = np.linspace(20, 30, N) # create x values\n",
    "a = -0.3 # generate negative slope\n",
    "b = 10\n",
    "y = a * x3 + b # create corrosponding y values\n",
    "noise = np.random.normal(0, 0.2, len(x3))\n",
    "y3 = y + noise\n",
    "\n",
    "coeffs3 = np.polyfit(x3, y3, 1)\n",
    "plt.plot(x3, y3, 'bx', label=\"plot 3\")\n",
    "plt.plot(x3, coeffs3[0] * x3 + coeffs3[1], \"b-\", label=\"Best fit\")\n",
    "\n",
    "plt.subplot(1,3,3) \n",
    "\n",
    "N = 30 # Number of points created\n",
    "x4 = np.linspace(30, 40, N) # create x values\n",
    "a = -0.4 # generate negative slope\n",
    "b = 25\n",
    "y = a * x4 + b # create corrosponding y values\n",
    "noise = np.random.normal(0, 0.2, len(x4))\n",
    "y4 = y + noise \n",
    "\n",
    "coeffs4 = np.polyfit(x4, y4, 1)\n",
    "plt.plot(x4, y4, 'cx', label=\"plot 4\")\n",
    "plt.plot(x4, coeffs4[0] * x4 + coeffs4[1], \"c-\", label=\"Best fit\")"
   ]
  },
  {
   "cell_type": "markdown",
   "metadata": {},
   "source": [
    "This shows all 3 graphs, each showing similar slopes. It would be possible to comclude that this is...."
   ]
  },
  {
   "cell_type": "code",
   "execution_count": 284,
   "metadata": {},
   "outputs": [
    {
     "data": {
      "text/plain": [
       "<matplotlib.legend.Legend at 0x2566de491f0>"
      ]
     },
     "execution_count": 284,
     "metadata": {},
     "output_type": "execute_result"
    },
    {
     "data": {
      "image/png": "[encoded data removed]",
      "text/plain": [
       "<Figure size 1440x720 with 1 Axes>"
      ]
     },
     "metadata": {},
     "output_type": "display_data"
    }
   ],
   "source": [
    "# Graph all data on one graph\n",
    "plt.figure(figsize=(20,10)) \n",
    "\n",
    "\n",
    "plt.plot(x1, y1, 'gx', label=\"x1,y1\")\n",
    "plt.plot(x2, y2, 'yx', label=\"x2,y2\")\n",
    "plt.plot(x3, y3, 'bx', label=\"x3,y3\")\n",
    "plt.plot(x4, y4, 'cx', label=\"x4,y4\")\n",
    "plt.legend()"
   ]
  },
  {
   "cell_type": "markdown",
   "metadata": {},
   "source": [
    "<b>\n",
    "\n",
    "#### Combine data sets"
   ]
  },
  {
   "cell_type": "code",
   "execution_count": 271,
   "metadata": {},
   "outputs": [
    {
     "data": {
      "text/plain": [
       "array([ 0.40688316, -5.60547913])"
      ]
     },
     "execution_count": 271,
     "metadata": {},
     "output_type": "execute_result"
    }
   ],
   "source": [
    "# Concatenate all x and y values\n",
    "x_con = np.concatenate((x1, x2, x3, x4))\n",
    "y_con = np.concatenate((y1, y2, y3, y4))\n",
    "\n",
    "# Calculate coefficients\n",
    "coeffs = np.polyfit(x_con, y_con, 1)\n",
    "coeffs"
   ]
  },
  {
   "cell_type": "code",
   "execution_count": 283,
   "metadata": {},
   "outputs": [
    {
     "data": {
      "image/png": "[encoded data removed]",
      "text/plain": [
       "<Figure size 1440x720 with 1 Axes>"
      ]
     },
     "metadata": {},
     "output_type": "display_data"
    }
   ],
   "source": [
    "#Plot all data sets with combined best fit line\n",
    "plt.figure(figsize=(20,10))\n",
    "\n",
    "plt.plot(x1, y1, 'gx', label=\"x1,y1\")\n",
    "plt.plot(x1, coeffs1[0] * x1 + coeffs1[1], \"g-\", label=\"Best fit 1\")\n",
    "plt.plot(x2, y2, 'yx', label=\"x2,y2\")\n",
    "plt.plot(x2, coeffs2[0] * x2 + coeffs2[1], \"y-\", label=\"Best fit 2\")\n",
    "plt.plot(x3, y3, 'bx', label=\"x3,y3\")\n",
    "plt.plot(x3, coeffs3[0] * x3 + coeffs3[1], \"b-\", label=\"Best fit 3\")\n",
    "plt.plot(x4, y4, 'cx', label=\"x4,y4\")\n",
    "plt.plot(x4, coeffs4[0] * x4 + coeffs4[1], \"c-\", label=\"Best fit 4\")\n",
    "\n",
    "# create combined best fit line\n",
    "plt.plot(x_array, coeffs[0] * x_array + coeffs[1], 'm-', label='Best fit Combined')\n",
    "plt.legend();"
   ]
  },
  {
   "cell_type": "code",
   "execution_count": null,
   "metadata": {},
   "outputs": [],
   "source": [
    "# Add best fit line. "
   ]
  },
  {
   "cell_type": "markdown",
   "metadata": {},
   "source": [
    "## Results\n",
    "\n",
    "Reversal of trend. \n",
    "\n",
    "Proof of simpsons paradox. \n",
    "\n",
    "Posotive corrolation vs negative correlation\n",
    "\n",
    "mirrors results of paper..... \n",
    "\n",
    "\n",
    "\n",
    "## Conclusions\n"
   ]
  },
  {
   "cell_type": "markdown",
   "metadata": {},
   "source": [
    "\n",
    "# References - Task 4\n",
    "\n",
    "\n",
    "-----------------\n",
    "[1] python-accept-list-input-from-user; pynative; https://pynative.com/python-accept-list-input-from-user/\n",
    "\n",
    "\n",
    "\n",
    "\n",
    "------------------------"
   ]
  }
 ],
 "metadata": {
  "kernelspec": {
   "display_name": "Python 3",
   "language": "python",
   "name": "python3"
  },
  "language_info": {
   "codemirror_mode": {
    "name": "ipython",
    "version": 3
   },
   "file_extension": ".py",
   "mimetype": "text/x-python",
   "name": "python",
   "nbconvert_exporter": "python",
   "pygments_lexer": "ipython3",
   "version": "3.8.3"
  }
 },
 "nbformat": 4,
 "nbformat_minor": 4
}
