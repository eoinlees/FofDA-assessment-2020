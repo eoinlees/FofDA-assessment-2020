{
 "cells": [
  {
   "cell_type": "markdown",
   "metadata": {},
   "source": [
    "# Fundamentals of Data Analytics\n",
    "\n",
    "## Tasks 2020\n",
    "\n",
    "\n",
    "These are my solutions to the tasks assessments. The Author is Eoin Lees (G00387888@gmit.ie)\n",
    "\n",
    "-----"
   ]
  },
  {
   "cell_type": "code",
   "execution_count": 1,
   "metadata": {},
   "outputs": [],
   "source": [
    "# Import all functions necessary for each task\n",
    "import numpy as np\n",
    "import random\n",
    "import seaborn as sns\n",
    "import matplotlib.pyplot as plt"
   ]
  },
  {
   "cell_type": "markdown",
   "metadata": {},
   "source": [
    "---------------------"
   ]
  },
  {
   "cell_type": "markdown",
   "metadata": {},
   "source": [
    "## Task 1: Counts function\n",
    "\n",
    "This function takes a list as input and returns a dictionary of unique items in the list and the number of times each item appears as values. \n",
    "\n",
    "--------------------"
   ]
  },
  {
   "cell_type": "code",
   "execution_count": 2,
   "metadata": {},
   "outputs": [],
   "source": [
    "# Define Function\n",
    "\n",
    "def counts(x):\n",
    "    # create final list(dict) to be filled in for loop\n",
    "    finalList = {}\n",
    "    # Iterate\n",
    "    for i in x:\n",
    "        # see if i is already in finalList\n",
    "        if i in finalList:\n",
    "            # add one to i count if so\n",
    "            finalList[i] += 1\n",
    "        else:\n",
    "            # create i in finalList and set its value to 1 \n",
    "            finalList[i] = 1\n",
    "    \n",
    "    return finalList    "
   ]
  },
  {
   "cell_type": "markdown",
   "metadata": {},
   "source": [
    "This is how the `counts(x)` function works:\n",
    "\n",
    "* It takes a list as an input \"x\". \n",
    "* It creates a dictionary `finalList` to store all of the inputs.\n",
    "* It checks if each item \"i\" in the input list \"x\" is in the `finalList`\n",
    "    * If it is, it adds 1 to its count.\n",
    "    * if it's not, it creates the item \"i\" in the `finalList` and sets its count to 1.\n",
    "* Once all items are iterated through it returns the `finalList` with each element counted in the correct format. \n",
    "\n",
    "Examples of how this function works are shown below.\n",
    "\n",
    "https://docs.python.org/3/tutorial/datastructures.html\n",
    "\n",
    "https://realpython.com/python-dicts/\n",
    "\n",
    "https://stackabuse.com/python-get-number-of-elements-in-a-list/"
   ]
  },
  {
   "cell_type": "code",
   "execution_count": 3,
   "metadata": {},
   "outputs": [],
   "source": [
    "#Define Lists\n",
    "testListOne = [\"A\", \"A\", \"B\", \"C\", \"A\"]\n",
    "testListTwo = [\"Car\", \"Bar\", \"Toy\", \"Car\", \"Car\", \"Bar\"]\n",
    "testListThree = [\"12\", \"4\", \"12\", \"15\", \"4\", \"4\", \"4\",\"4\"]\n",
    "testListFour = [1,2,3,4,3,2,3,4,5,6,4,3,2]"
   ]
  },
  {
   "cell_type": "code",
   "execution_count": 4,
   "metadata": {},
   "outputs": [
    {
     "data": {
      "text/plain": [
       "{'A': 3, 'B': 1, 'C': 1}"
      ]
     },
     "execution_count": 4,
     "metadata": {},
     "output_type": "execute_result"
    }
   ],
   "source": [
    "# Test list 1\n",
    "counts(testListOne)"
   ]
  },
  {
   "cell_type": "code",
   "execution_count": 5,
   "metadata": {},
   "outputs": [
    {
     "data": {
      "text/plain": [
       "{'Car': 3, 'Bar': 2, 'Toy': 1}"
      ]
     },
     "execution_count": 5,
     "metadata": {},
     "output_type": "execute_result"
    }
   ],
   "source": [
    "# Test list 2\n",
    "counts(testListTwo)"
   ]
  },
  {
   "cell_type": "code",
   "execution_count": 6,
   "metadata": {},
   "outputs": [
    {
     "data": {
      "text/plain": [
       "{'12': 2, '4': 5, '15': 1}"
      ]
     },
     "execution_count": 6,
     "metadata": {},
     "output_type": "execute_result"
    }
   ],
   "source": [
    "# Test list 3\n",
    "counts(testListThree)"
   ]
  },
  {
   "cell_type": "code",
   "execution_count": 7,
   "metadata": {},
   "outputs": [
    {
     "data": {
      "text/plain": [
       "{1: 1, 2: 3, 3: 4, 4: 3, 5: 1, 6: 1}"
      ]
     },
     "execution_count": 7,
     "metadata": {},
     "output_type": "execute_result"
    }
   ],
   "source": [
    "# Test list 4\n",
    "counts(testListFour)"
   ]
  },
  {
   "cell_type": "markdown",
   "metadata": {},
   "source": [
    "### Test Function\n",
    "\n",
    "Below is a cell that calls for an input list to be given. It allows for the `counts(x)` function to be tested in real time. \n",
    "\n",
    "To run it hit \"shift + return\" and it will request an input. \n",
    "\n",
    "For convience here is a sample list to copy and past as input:\n",
    "\n",
    "                        Eoin Eoin Eoin Bob Bob Mary Mary Sue Eoin Mary 1 1 2 45 45 45 45\n",
    "                       \n",
    "You will recieve an output of the following:\n",
    "\n",
    "                        {'Eoin': 4, 'Bob': 2, 'Mary': 3, 'Sue': 1, '1': 2, '2': 1, '45': 4}"
   ]
  },
  {
   "cell_type": "code",
   "execution_count": 8,
   "metadata": {},
   "outputs": [
    {
     "name": "stdout",
     "output_type": "stream",
     "text": [
      "Enter a number of letters, numbers or words seperated by a space: 1234 1234 56 56 56 56\n"
     ]
    },
    {
     "data": {
      "text/plain": [
       "{'1234': 2, '56': 4}"
      ]
     },
     "execution_count": 8,
     "metadata": {},
     "output_type": "execute_result"
    }
   ],
   "source": [
    "# Test List from input [1]\n",
    "List = input(\"Enter a number of letters, numbers or words seperated by a space: \")\n",
    "inputList = List.split()\n",
    "\n",
    "#print(userList)\n",
    "counts(inputList)"
   ]
  },
  {
   "cell_type": "markdown",
   "metadata": {},
   "source": [
    "#### Alternate method\n",
    "----------------"
   ]
  },
  {
   "cell_type": "code",
   "execution_count": 9,
   "metadata": {},
   "outputs": [
    {
     "name": "stdout",
     "output_type": "stream",
     "text": [
      "{'Car': 3, 'Bar': 2, 'Toy': 1}\n"
     ]
    }
   ],
   "source": [
    "num = [\"Car\", \"Bar\", \"Toy\", \"Car\", \"Car\", \"Bar\"]\n",
    "\n",
    "def countsAlt(L):\n",
    "    print(dict((i, L.count(i)) for i in L))\n",
    "countsAlt(num)"
   ]
  },
  {
   "cell_type": "code",
   "execution_count": 10,
   "metadata": {},
   "outputs": [
    {
     "name": "stdout",
     "output_type": "stream",
     "text": [
      "{'A': 3, 'B': 1, 'C': 1}\n"
     ]
    }
   ],
   "source": [
    "countsAlt(testListOne)"
   ]
  },
  {
   "cell_type": "markdown",
   "metadata": {},
   "source": [
    "This alternate method uses the count() function built into python. It is mu"
   ]
  },
  {
   "cell_type": "markdown",
   "metadata": {},
   "source": [
    "Either function can now be called anywhere else on this jupyter workbook. eg. Task 2. \n",
    "\n",
    "---------------------"
   ]
  },
  {
   "cell_type": "markdown",
   "metadata": {},
   "source": [
    "\n",
    "##### References\n",
    "\n",
    "[1] https://pynative.com/python-accept-list-input-from-user/\n",
    "\n",
    "https://stackabuse.com/python-get-number-of-elements-in-a-list/\n",
    "\n",
    "[2] https://stackoverflow.com/questions/2600191/how-can-i-count-the-occurrences-of-a-list-item\n",
    "\n",
    "[3] https://realpython.com/python-dicts/\n",
    "\n",
    "[4] https://www.w3schools.com/python/ref_string_split.asp\n",
    "\n"
   ]
  },
  {
   "cell_type": "markdown",
   "metadata": {},
   "source": [
    "## Task 2: Dicerolls function\n",
    "-------------"
   ]
  },
  {
   "cell_type": "code",
   "execution_count": 11,
   "metadata": {},
   "outputs": [],
   "source": [
    "#Define `dice_roll(k)` for a \"k\" number rolls of a dice\n",
    "\n",
    "def dice_roll(k):\n",
    "    sum = 0\n",
    "    for i in range(0,k):\n",
    "        dice = random.randint(1,6)\n",
    "        #print(dice) # To test function\n",
    "        sum = sum + dice\n",
    "    return(sum)\n",
    "\n",
    "#Define `dice_rolls(k, n)` for a multiple rolls of the same number of dice. \n",
    "def dice_rolls(k, n):\n",
    "    myList = [dice_roll(k) for _ in range(n)]\n",
    "    return(myList)"
   ]
  },
  {
   "cell_type": "code",
   "execution_count": 12,
   "metadata": {},
   "outputs": [
    {
     "data": {
      "text/plain": [
       "21"
      ]
     },
     "execution_count": 12,
     "metadata": {},
     "output_type": "execute_result"
    }
   ],
   "source": [
    "# Test function\n",
    "dice_roll(5)"
   ]
  },
  {
   "cell_type": "markdown",
   "metadata": {},
   "source": [
    "returns total sum of 5 dice rolled. "
   ]
  },
  {
   "cell_type": "code",
   "execution_count": 13,
   "metadata": {},
   "outputs": [
    {
     "data": {
      "text/plain": [
       "[7, 6, 7, 4, 4, 8, 8, 6, 6, 6]"
      ]
     },
     "execution_count": 13,
     "metadata": {},
     "output_type": "execute_result"
    }
   ],
   "source": [
    "#Test function\n",
    "dice_rolls(2, 10)"
   ]
  },
  {
   "cell_type": "markdown",
   "metadata": {},
   "source": [
    "returns list of total sum of 2 dice rolled, 10 times."
   ]
  },
  {
   "cell_type": "code",
   "execution_count": 14,
   "metadata": {},
   "outputs": [
    {
     "data": {
      "text/plain": [
       "{2: 1, 9: 1, 4: 2, 6: 2, 11: 1, 5: 2, 8: 1}"
      ]
     },
     "execution_count": 14,
     "metadata": {},
     "output_type": "execute_result"
    }
   ],
   "source": [
    "#Run dice_rolls with count\n",
    "counts(dice_rolls(2, 10))"
   ]
  },
  {
   "cell_type": "markdown",
   "metadata": {},
   "source": [
    "The above code achievs the desired results however calling the function like this is not what was requested. "
   ]
  },
  {
   "cell_type": "code",
   "execution_count": 15,
   "metadata": {},
   "outputs": [],
   "source": [
    "# Define final Function:\n",
    "def dicerolls(k, n):\n",
    "    count = counts(dice_rolls(k, n))\n",
    "    return(count)"
   ]
  },
  {
   "cell_type": "code",
   "execution_count": 16,
   "metadata": {},
   "outputs": [
    {
     "data": {
      "text/plain": [
       "{10: 2, 5: 3, 3: 1, 2: 1, 11: 1, 8: 1, 9: 1}"
      ]
     },
     "execution_count": 16,
     "metadata": {},
     "output_type": "execute_result"
    }
   ],
   "source": [
    "# Test the function\n",
    "dicerolls(2,10)"
   ]
  },
  {
   "cell_type": "code",
   "execution_count": 17,
   "metadata": {},
   "outputs": [],
   "source": [
    "# define input function - Get input from user\n",
    "def input_diceroll():\n",
    "    k = int(input(\"Enter the number of dice you wish to roll: \"))\n",
    "    n = int(input(\"Enter the number of times you wish to do this: \"))\n",
    "    #return function\n",
    "    return dicerolls(k,n)"
   ]
  },
  {
   "cell_type": "code",
   "execution_count": 18,
   "metadata": {},
   "outputs": [
    {
     "name": "stdout",
     "output_type": "stream",
     "text": [
      "Enter the number of dice you wish to roll: 10\n",
      "Enter the number of times you wish to do this: 2\n"
     ]
    },
    {
     "data": {
      "text/plain": [
       "{30: 1, 37: 1}"
      ]
     },
     "execution_count": 18,
     "metadata": {},
     "output_type": "execute_result"
    }
   ],
   "source": [
    "# test function\n",
    "x = input_diceroll()\n",
    "x"
   ]
  },
  {
   "cell_type": "markdown",
   "metadata": {},
   "source": [
    "The above function allows the user to call the function and input any integer they may need. "
   ]
  },
  {
   "cell_type": "code",
   "execution_count": 57,
   "metadata": {},
   "outputs": [
    {
     "data": {
      "text/plain": [
       "Text(0.5, 1.0, 'Dice_rolls function')"
      ]
     },
     "execution_count": 57,
     "metadata": {},
     "output_type": "execute_result"
    },
    {
     "data": {
      "image/png": "[encoded data removed]",
      "text/plain": [
       "<Figure size 684x468 with 1 Axes>"
      ]
     },
     "metadata": {},
     "output_type": "display_data"
    }
   ],
   "source": [
    "# set the style\n",
    "sns.set_style(\"white\")\n",
    "\n",
    "\n",
    "# create the plot\n",
    "sns.distplot(dice_rolls(2,1000), kde=True, color='green')\n",
    "plt.xlabel(\"sum of flips\") \n",
    "plt.ylabel(\"Number of results in each\")\n",
    "plt.title(\"Dice_rolls function\", fontsize=15)"
   ]
  },
  {
   "cell_type": "markdown",
   "metadata": {},
   "source": [
    "research why distribution is high at 12."
   ]
  },
  {
   "cell_type": "markdown",
   "metadata": {},
   "source": [
    "## Task 3: numpy.random.binomial\n",
    "-------------\n"
   ]
  },
  {
   "cell_type": "markdown",
   "metadata": {},
   "source": [
    "The following is ............."
   ]
  },
  {
   "cell_type": "code",
   "execution_count": 27,
   "metadata": {
    "scrolled": true
   },
   "outputs": [
    {
     "data": {
      "text/plain": [
       "array([49, 49, 48, 47, 44, 54, 58, 50, 49, 57, 58, 53, 48, 48, 57, 51, 54,\n",
       "       54, 45, 53, 48, 49, 57, 49, 54, 50, 51, 44, 53, 48, 48, 43, 61, 43,\n",
       "       47, 38, 48, 46, 46, 53, 53, 58, 48, 53, 45, 53, 42, 56, 42, 42, 44,\n",
       "       52, 62, 55, 55, 49, 44, 48, 51, 48, 51, 49, 50, 50, 50, 56, 54, 47,\n",
       "       45, 44, 49, 52, 44, 53, 51, 46, 60, 53, 49, 51, 44, 47, 50, 47, 48,\n",
       "       47, 42, 45, 46, 50, 48, 46, 45, 51, 49, 52, 51, 53, 63, 45, 55, 49,\n",
       "       38, 57, 51, 50, 47, 55, 55, 45, 49, 41, 54, 56, 56, 48, 55, 61, 52,\n",
       "       56, 51, 44, 45, 42, 51, 53, 56, 45, 42, 52, 44, 48, 47, 48, 49, 50,\n",
       "       46, 45, 46, 48, 40, 42, 53, 54, 47, 53, 48, 44, 50, 64, 55, 47, 50,\n",
       "       56, 49, 44, 52, 55, 49, 47, 49, 47, 50, 52, 52, 52, 52, 52, 54, 55,\n",
       "       47, 51, 50, 50, 49, 55, 44, 53, 54, 55, 47, 53, 52, 49, 52, 49, 48,\n",
       "       56, 44, 52, 56, 55, 49, 50, 55, 47, 54, 48, 51, 47, 50, 49, 53, 47,\n",
       "       43, 45, 51, 45, 54, 40, 50, 53, 54, 56, 49, 44, 48, 50, 51, 48, 49,\n",
       "       46, 44, 49, 47, 54, 44, 60, 52, 55, 55, 48, 57, 50, 50, 52, 50, 56,\n",
       "       50, 47, 61, 42, 46, 49, 45, 50, 52, 55, 46, 48, 53, 52, 48, 50, 52,\n",
       "       51, 49, 52, 51, 44, 49, 58, 52, 46, 48, 53, 46, 53, 54, 43, 40, 46,\n",
       "       51, 45, 48, 52, 49, 41, 47, 52, 53, 51, 46, 50, 39, 45, 67, 50, 59,\n",
       "       46, 41, 55, 45, 59, 48, 47, 55, 43, 50, 33, 58, 53, 41, 51, 51, 54,\n",
       "       40, 53, 52, 58, 47, 42, 46, 48, 48, 40, 51, 53, 52, 49, 45, 55, 54,\n",
       "       48, 53, 51, 47, 54, 49, 57, 46, 55, 46, 51, 55, 50, 47, 50, 55, 48,\n",
       "       53, 43, 50, 44, 52, 42, 54, 50, 54, 44, 47, 58, 50, 49, 59, 45, 45,\n",
       "       54, 63, 40, 52, 48, 52, 40, 46, 50, 55, 53, 52, 47, 58, 47, 54, 54,\n",
       "       50, 53, 57, 54, 49, 55, 51, 49, 48, 51, 46, 47, 57, 56, 54, 45, 57,\n",
       "       54, 47, 56, 48, 55, 47, 49, 46, 54, 59, 47, 58, 51, 43, 56, 49, 58,\n",
       "       51, 53, 49, 50, 43, 45, 49, 51, 56, 59, 54, 56, 53, 48, 44, 49, 50,\n",
       "       52, 47, 46, 50, 49, 56, 46, 51, 52, 41, 46, 54, 52, 52, 54, 54, 52,\n",
       "       46, 47, 50, 43, 49, 50, 42, 49, 53, 51, 57, 46, 45, 42, 47, 51, 54,\n",
       "       49, 45, 58, 44, 55, 52, 36, 55, 55, 41, 56, 50, 49, 48, 54, 55, 59,\n",
       "       45, 53, 47, 53, 43, 56, 60, 57, 55, 50, 46, 50, 40, 64, 51, 52, 47,\n",
       "       44, 45, 46, 53, 48, 60, 52, 56, 49, 52, 53, 57, 50, 60, 53, 46, 55,\n",
       "       52, 55, 41, 54, 51, 41, 48, 46, 54, 45, 46, 53, 43, 53, 47, 41, 48,\n",
       "       52, 45, 44, 44, 41, 51, 50, 44, 45, 47, 61, 52, 58, 57, 52, 47, 39,\n",
       "       45, 52, 50, 53, 45, 48, 52, 51, 54, 48, 46, 51, 50, 55, 45, 38, 49,\n",
       "       54, 45, 56, 53, 50, 52, 54, 53, 55, 48, 44, 51, 41, 50, 51, 59, 47,\n",
       "       48, 51, 42, 52, 49, 53, 58, 46, 46, 47, 49, 49, 56, 43, 50, 47, 51,\n",
       "       43, 43, 47, 47, 48, 54, 55, 45, 44, 55, 52, 54, 45, 48, 46, 56, 49,\n",
       "       58, 43, 52, 53, 49, 50, 45, 45, 51, 59, 49, 53, 43, 52, 48, 48, 51,\n",
       "       39, 58, 53, 49, 59, 54, 45, 53, 53, 45, 47, 58, 51, 50, 57, 52, 47,\n",
       "       52, 49, 53, 49, 45, 45, 56, 58, 35, 52, 49, 53, 55, 51, 49, 43, 46,\n",
       "       38, 54, 50, 44, 54, 56, 52, 53, 48, 49, 50, 48, 52, 49, 66, 50, 57,\n",
       "       49, 54, 48, 46, 49, 59, 53, 47, 51, 55, 46, 42, 59, 55, 46, 48, 49,\n",
       "       52, 46, 46, 40, 49, 53, 48, 39, 46, 46, 55, 52, 42, 59, 50, 49, 55,\n",
       "       58, 59, 45, 50, 48, 54, 49, 67, 48, 50, 49, 37, 41, 49, 51, 44, 44,\n",
       "       45, 58, 44, 49, 57, 54, 42, 55, 63, 51, 52, 53, 46, 44, 47, 50, 56,\n",
       "       46, 57, 54, 51, 52, 47, 50, 48, 53, 50, 43, 41, 58, 46, 49, 50, 46,\n",
       "       52, 49, 50, 55, 43, 43, 40, 50, 45, 42, 50, 60, 45, 38, 57, 52, 50,\n",
       "       51, 53, 57, 58, 47, 56, 46, 45, 46, 48, 49, 48, 48, 50, 48, 59, 48,\n",
       "       51, 53, 50, 38, 53, 58, 49, 53, 43, 55, 51, 53, 50, 58, 41, 49, 51,\n",
       "       49, 50, 51, 51, 54, 49, 46, 50, 56, 39, 53, 56, 55, 55, 50, 45, 53,\n",
       "       47, 43, 52, 50, 47, 44, 49, 50, 51, 47, 53, 45, 47, 54, 62, 52, 53,\n",
       "       52, 54, 52, 50, 41, 49, 57, 50, 57, 53, 57, 45, 50, 45, 48, 62, 58,\n",
       "       56, 50, 53, 56, 58, 45, 47, 48, 39, 51, 51, 49, 49, 48, 52, 45, 49,\n",
       "       42, 49, 48, 59, 56, 47, 39, 59, 53, 52, 46, 46, 53, 47, 45, 59, 49,\n",
       "       48, 62, 59, 50, 50, 59, 48, 58, 50, 51, 52, 52, 51, 49, 47, 57, 46,\n",
       "       51, 54, 51, 53, 53, 42, 51, 47, 56, 50, 55, 48, 50, 55, 49, 55, 54,\n",
       "       48, 52, 52, 55, 48, 57, 57, 49, 49, 39, 56, 54, 55, 43, 43, 50, 48,\n",
       "       40, 56, 46, 46, 46, 55, 53, 44, 41, 48, 51, 48, 53, 44, 49, 62, 55,\n",
       "       51, 53, 49, 56, 49, 46, 42, 59, 50, 45, 51, 45, 55, 55, 52, 46, 48,\n",
       "       42, 49, 50, 50, 53, 47, 48, 62, 51, 41, 50, 49, 49, 46],\n",
       "      dtype=int64)"
      ]
     },
     "execution_count": 27,
     "metadata": {},
     "output_type": "execute_result"
    }
   ],
   "source": [
    "rng = np.random.default_rng()\n",
    "n, p = 100, .5  # number of trials, probability of each trial\n",
    "s = rng.binomial(n, p, 1000)\n",
    "# result of flipping a coin 10 times, tested 10000 times.\n",
    "s\n",
    "# plt.hist(s, bins=10, range=None, rwidth=None, color=None, label=\"tEST\")\n"
   ]
  },
  {
   "cell_type": "code",
   "execution_count": 52,
   "metadata": {},
   "outputs": [
    {
     "data": {
      "text/plain": [
       "Text(0.5, 1.0, 'Binomial Distribution')"
      ]
     },
     "execution_count": 52,
     "metadata": {},
     "output_type": "execute_result"
    },
    {
     "data": {
      "image/png": "[encoded data removed]",
      "text/plain": [
       "<Figure size 684x468 with 1 Axes>"
      ]
     },
     "metadata": {},
     "output_type": "display_data"
    }
   ],
   "source": [
    "# set the style\n",
    "sns.set_style(\"white\")\n",
    "\n",
    "\n",
    "# create the plot\n",
    "sns.distplot(s, kde=True, color='green')\n",
    "plt.xlabel(\"Distribution\") \n",
    "plt.ylabel(\"Density\")\n",
    "plt.title(\"Binomial Distribution\", fontsize=15)\n"
   ]
  },
  {
   "cell_type": "markdown",
   "metadata": {},
   "source": [
    "The above graph plots the number of successful trialls against the number of trialls totally. It shows that the distribution is normally distributed when the probability is 0.5.\n",
    "\n",
    "There are many real word instances of binomial distributions. e.g drug trial - it works or doesnt, lottery ticket - you win or dont. It can be used to predict any situation in which success or failure are an option.\n",
    "\n",
    "https://seaborn.pydata.org/generated/seaborn.set_style.html"
   ]
  },
  {
   "cell_type": "markdown",
   "metadata": {},
   "source": [
    "## Task 4: Simpsons Paradox\n",
    "-------------\n",
    "\n",
    "use numpy.linspace\n",
    "\n",
    "https://numpy.org/doc/stable/reference/generated/numpy.linspace.html\n",
    "\n",
    "https://en.wikipedia.org/wiki/Simpson%27s_paradox\n",
    "\n",
    "https://www.britannica.com/topic/Simpsons-paradox/Problem-of-Causality\n"
   ]
  },
  {
   "cell_type": "code",
   "execution_count": 22,
   "metadata": {},
   "outputs": [
    {
     "data": {
      "image/png": "[encoded data removed]",
      "text/plain": [
       "<Figure size 432x288 with 1 Axes>"
      ]
     },
     "metadata": {
      "needs_background": "light"
     },
     "output_type": "display_data"
    }
   ],
   "source": [
    "# Example pulled from numpy.linspace manual\n",
    "\n",
    "import matplotlib.pyplot as plt\n",
    "N = 8\n",
    "y = np.zeros(N)\n",
    "x1 = np.linspace(0, 10, N, endpoint=True)\n",
    "x2 = np.linspace(0, 10, N, endpoint=False)\n",
    "plt.plot(x1, y, 'o')\n",
    "\n",
    "plt.plot(x2, y + 0.5, 'o')\n",
    "\n",
    "plt.ylim([-0.5, 1])\n",
    "\n",
    "plt.show()"
   ]
  },
  {
   "cell_type": "code",
   "execution_count": null,
   "metadata": {},
   "outputs": [],
   "source": []
  }
 ],
 "metadata": {
  "kernelspec": {
   "display_name": "Python 3",
   "language": "python",
   "name": "python3"
  },
  "language_info": {
   "codemirror_mode": {
    "name": "ipython",
    "version": 3
   },
   "file_extension": ".py",
   "mimetype": "text/x-python",
   "name": "python",
   "nbconvert_exporter": "python",
   "pygments_lexer": "ipython3",
   "version": "3.8.3"
  }
 },
 "nbformat": 4,
 "nbformat_minor": 4
}
