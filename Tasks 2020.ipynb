{
 "cells": [
  {
   "cell_type": "markdown",
   "metadata": {},
   "source": [
    "# Fundamentals of Data Analytics\n",
    "\n",
    "## Tasks 2020\n",
    "\n",
    "\n",
    "These are my solutions to the tasks assessments. The Author is Eoin Lees (G00387888@gmit.ie)\n",
    "\n",
    "-----"
   ]
  },
  {
   "cell_type": "code",
   "execution_count": 1,
   "metadata": {},
   "outputs": [],
   "source": [
    "# Import all functions necessary for each task\n",
    "import numpy as np\n",
    "import random\n",
    "import seaborn as sns\n",
    "import matplotlib.pyplot as plt"
   ]
  },
  {
   "cell_type": "markdown",
   "metadata": {},
   "source": [
    "---------------------"
   ]
  },
  {
   "cell_type": "markdown",
   "metadata": {},
   "source": [
    "## Task 1: Counts function\n",
    "\n",
    "This function takes a list as input and returns a dictionary of unique items in the list and the number of times each item appears as values. \n",
    "\n",
    "--------------------"
   ]
  },
  {
   "cell_type": "code",
   "execution_count": 2,
   "metadata": {},
   "outputs": [],
   "source": [
    "# Define Function\n",
    "\n",
    "def counts(x):\n",
    "    # create final list(dict) to be filled in for loop\n",
    "    finalList = {}\n",
    "    # Iterate\n",
    "    for i in x:\n",
    "        # see if i is already in finalList\n",
    "        if i in finalList:\n",
    "            # add one to i count if so\n",
    "            finalList[i] += 1\n",
    "        else:\n",
    "            # create i in finalList and set its value to 1 \n",
    "            finalList[i] = 1\n",
    "    \n",
    "    return finalList    "
   ]
  },
  {
   "cell_type": "markdown",
   "metadata": {},
   "source": [
    "This is how the `counts(x)` function works:\n",
    "\n",
    "* It takes a list as an input \"x\". \n",
    "* It creates a dictionary `finalList` to store all of the inputs.\n",
    "* It checks if each item \"i\" in the input list \"x\" is in the `finalList`\n",
    "    * If it is, it adds 1 to its count.\n",
    "    * if it's not, it creates the item \"i\" in the `finalList` and sets its count to 1.\n",
    "* Once all items are iterated through it returns the `finalList` with each element counted in the correct format. \n",
    "\n",
    "Examples of how this function works are shown below.\n",
    "\n",
    "https://docs.python.org/3/tutorial/datastructures.html\n",
    "\n",
    "https://realpython.com/python-dicts/\n",
    "\n",
    "https://stackabuse.com/python-get-number-of-elements-in-a-list/"
   ]
  },
  {
   "cell_type": "code",
   "execution_count": 23,
   "metadata": {},
   "outputs": [],
   "source": [
    "#Define Lists\n",
    "testListOne = [\"A\", \"A\", \"B\", \"C\", \"A\"]\n",
    "testListTwo = [\"Car\", \"Bar\", \"Toy\", \"Car\", \"Car\", \"Bar\"]\n",
    "testListThree = [\"12\", \"4\", \"12\", \"15\", \"4\", \"4\", \"4\",\"4\"]\n",
    "testListFour = [1,2,3,4,3,2,3,4,5,6,4,3,2]"
   ]
  },
  {
   "cell_type": "code",
   "execution_count": 4,
   "metadata": {},
   "outputs": [
    {
     "data": {
      "text/plain": [
       "{'A': 3, 'B': 1, 'C': 1}"
      ]
     },
     "execution_count": 4,
     "metadata": {},
     "output_type": "execute_result"
    }
   ],
   "source": [
    "# Test list 1\n",
    "counts(testListOne)"
   ]
  },
  {
   "cell_type": "code",
   "execution_count": 5,
   "metadata": {},
   "outputs": [
    {
     "data": {
      "text/plain": [
       "{'Car': 3, 'Bar': 2, 'Toy': 1}"
      ]
     },
     "execution_count": 5,
     "metadata": {},
     "output_type": "execute_result"
    }
   ],
   "source": [
    "# Test list 2\n",
    "counts(testListTwo)"
   ]
  },
  {
   "cell_type": "code",
   "execution_count": 6,
   "metadata": {},
   "outputs": [
    {
     "data": {
      "text/plain": [
       "{'12': 2, '4': 5, '15': 1}"
      ]
     },
     "execution_count": 6,
     "metadata": {},
     "output_type": "execute_result"
    }
   ],
   "source": [
    "# Test list 3\n",
    "counts(testListThree)"
   ]
  },
  {
   "cell_type": "code",
   "execution_count": 24,
   "metadata": {},
   "outputs": [
    {
     "data": {
      "text/plain": [
       "{1: 1, 2: 3, 3: 4, 4: 3, 5: 1, 6: 1}"
      ]
     },
     "execution_count": 24,
     "metadata": {},
     "output_type": "execute_result"
    }
   ],
   "source": [
    "# Test list 4\n",
    "counts(testListFour)"
   ]
  },
  {
   "cell_type": "markdown",
   "metadata": {},
   "source": [
    "### Test Function\n",
    "\n",
    "Below is a cell that calls for an input list to be given. It allows for the `counts(x)` function to be tested in real time. \n",
    "\n",
    "To run it hit \"shift + return\" and it will request an input. \n",
    "\n",
    "For convience here is a sample list to copy and past as input:\n",
    "\n",
    "                        Eoin Eoin Eoin Bob Bob Mary Mary Sue Eoin Mary 1 1 2 45 45 45 45\n",
    "                       \n",
    "You will recieve an output of the following:\n",
    "\n",
    "                        {'Eoin': 4, 'Bob': 2, 'Mary': 3, 'Sue': 1, '1': 2, '2': 1, '45': 4}"
   ]
  },
  {
   "cell_type": "code",
   "execution_count": 7,
   "metadata": {},
   "outputs": [
    {
     "name": "stdout",
     "output_type": "stream",
     "text": [
      "Enter a number of letters, numbers or words seperated by a space: toby tod tod 12 12 tony bob bob\n"
     ]
    },
    {
     "data": {
      "text/plain": [
       "{'toby': 1, 'tod': 2, '12': 2, 'tony': 1, 'bob': 2}"
      ]
     },
     "execution_count": 7,
     "metadata": {},
     "output_type": "execute_result"
    }
   ],
   "source": [
    "# Test List from input [1]\n",
    "List = input(\"Enter a number of letters, numbers or words seperated by a space: \")\n",
    "inputList = List.split()\n",
    "\n",
    "#print(userList)\n",
    "counts(inputList)"
   ]
  },
  {
   "cell_type": "markdown",
   "metadata": {},
   "source": [
    "#### Alternate method\n",
    "----------------"
   ]
  },
  {
   "cell_type": "code",
   "execution_count": 29,
   "metadata": {},
   "outputs": [
    {
     "name": "stdout",
     "output_type": "stream",
     "text": [
      "{'Car': 3, 'Bar': 2, 'Toy': 1}\n"
     ]
    }
   ],
   "source": [
    "num = [\"Car\", \"Bar\", \"Toy\", \"Car\", \"Car\", \"Bar\"]\n",
    "\n",
    "def countsAlt(L):\n",
    "    print(dict((i, L.count(i)) for i in L))\n",
    "countsAlt(num)"
   ]
  },
  {
   "cell_type": "code",
   "execution_count": 30,
   "metadata": {},
   "outputs": [
    {
     "name": "stdout",
     "output_type": "stream",
     "text": [
      "{'A': 3, 'B': 1, 'C': 1}\n"
     ]
    }
   ],
   "source": [
    "countsAlt(testListOne)"
   ]
  },
  {
   "cell_type": "markdown",
   "metadata": {},
   "source": [
    "This alternate method uses the count() function built into python. It is mu"
   ]
  },
  {
   "cell_type": "markdown",
   "metadata": {},
   "source": [
    "Either function can now be called anywhere else on this jupyter workbook. eg. Task 2. \n",
    "\n",
    "---------------------"
   ]
  },
  {
   "cell_type": "markdown",
   "metadata": {},
   "source": [
    "\n",
    "##### References\n",
    "\n",
    "[1] https://pynative.com/python-accept-list-input-from-user/\n",
    "\n",
    "https://stackabuse.com/python-get-number-of-elements-in-a-list/\n",
    "\n",
    "[2] https://stackoverflow.com/questions/2600191/how-can-i-count-the-occurrences-of-a-list-item\n",
    "\n",
    "[3] https://realpython.com/python-dicts/\n",
    "\n",
    "[4] https://www.w3schools.com/python/ref_string_split.asp\n",
    "\n"
   ]
  },
  {
   "cell_type": "markdown",
   "metadata": {},
   "source": [
    "## Task 2: Dicerolls function\n",
    "-------------"
   ]
  },
  {
   "cell_type": "code",
   "execution_count": 31,
   "metadata": {},
   "outputs": [],
   "source": [
    "#Define `dice_roll(k)` for a \"k\" number rolls of a dice\n",
    "\n",
    "def dice_roll(k):\n",
    "    sum = 0\n",
    "    for i in range(0,k):\n",
    "        dice = random.randint(1,6)\n",
    "        #print(dice) # To test function\n",
    "        sum = sum + dice\n",
    "    return(sum)\n",
    "\n",
    "#Define `dice_rolls(k, n)` for a multiple rolls of the same number of dice. \n",
    "def dice_rolls(k, n):\n",
    "    myList = [dice_roll(k) for _ in range(n)]\n",
    "    return(myList)"
   ]
  },
  {
   "cell_type": "code",
   "execution_count": 9,
   "metadata": {},
   "outputs": [
    {
     "data": {
      "text/plain": [
       "20"
      ]
     },
     "execution_count": 9,
     "metadata": {},
     "output_type": "execute_result"
    }
   ],
   "source": [
    "# Test function\n",
    "dice_roll(5)"
   ]
  },
  {
   "cell_type": "markdown",
   "metadata": {},
   "source": [
    "returns total sum of 5 dice rolled. "
   ]
  },
  {
   "cell_type": "code",
   "execution_count": 10,
   "metadata": {},
   "outputs": [
    {
     "data": {
      "text/plain": [
       "[6, 5, 9, 5, 11, 7, 5, 9, 7, 9]"
      ]
     },
     "execution_count": 10,
     "metadata": {},
     "output_type": "execute_result"
    }
   ],
   "source": [
    "#Test function\n",
    "dice_rolls(2, 10)"
   ]
  },
  {
   "cell_type": "markdown",
   "metadata": {},
   "source": [
    "returns list of total sum of 2 dice rolled, 10 times."
   ]
  },
  {
   "cell_type": "code",
   "execution_count": 11,
   "metadata": {},
   "outputs": [
    {
     "data": {
      "text/plain": [
       "{7: 2, 8: 1, 9: 2, 12: 1, 11: 1, 6: 1, 4: 1, 3: 1}"
      ]
     },
     "execution_count": 11,
     "metadata": {},
     "output_type": "execute_result"
    }
   ],
   "source": [
    "#Run dice_rolls with count\n",
    "counts(dice_rolls(2, 10))"
   ]
  },
  {
   "cell_type": "markdown",
   "metadata": {},
   "source": [
    "The above code achievs the desired results however calling the function like this is not what was requested. "
   ]
  },
  {
   "cell_type": "code",
   "execution_count": 12,
   "metadata": {},
   "outputs": [],
   "source": [
    "# Define final Function:\n",
    "def dicerolls(k, n):\n",
    "    count = counts(dice_rolls(k, n))\n",
    "    return(count)"
   ]
  },
  {
   "cell_type": "code",
   "execution_count": 13,
   "metadata": {},
   "outputs": [
    {
     "data": {
      "text/plain": [
       "{8: 2, 4: 2, 3: 1, 5: 2, 6: 1, 2: 1, 11: 1}"
      ]
     },
     "execution_count": 13,
     "metadata": {},
     "output_type": "execute_result"
    }
   ],
   "source": [
    "# Test the function\n",
    "dicerolls(2,10)"
   ]
  },
  {
   "cell_type": "code",
   "execution_count": 14,
   "metadata": {},
   "outputs": [],
   "source": [
    "# define input function - Get input from user\n",
    "def input_diceroll():\n",
    "    k = int(input(\"Enter the number of dice you wish to roll: \"))\n",
    "    n = int(input(\"Enter the number of times you wish to do this: \"))\n",
    "    #return function\n",
    "    return dicerolls(k,n)"
   ]
  },
  {
   "cell_type": "code",
   "execution_count": 15,
   "metadata": {},
   "outputs": [
    {
     "name": "stdout",
     "output_type": "stream",
     "text": [
      "Enter the number of dice you wish to roll: 2\n",
      "Enter the number of times you wish to do this: 45\n"
     ]
    },
    {
     "data": {
      "text/plain": [
       "{6: 3, 12: 1, 11: 5, 10: 5, 7: 12, 8: 8, 9: 5, 5: 4, 4: 2}"
      ]
     },
     "execution_count": 15,
     "metadata": {},
     "output_type": "execute_result"
    }
   ],
   "source": [
    "# test function\n",
    "x = input_diceroll()\n",
    "x"
   ]
  },
  {
   "cell_type": "markdown",
   "metadata": {},
   "source": [
    "The above function allows the user to call the function and input any integer they may need. "
   ]
  },
  {
   "cell_type": "code",
   "execution_count": 16,
   "metadata": {},
   "outputs": [
    {
     "data": {
      "text/plain": [
       "(array([ 33.,  49.,  95.,  91., 144., 149., 139., 120.,  98.,  82.]),\n",
       " array([ 2.,  3.,  4.,  5.,  6.,  7.,  8.,  9., 10., 11., 12.]),\n",
       " <a list of 10 Patch objects>)"
      ]
     },
     "execution_count": 16,
     "metadata": {},
     "output_type": "execute_result"
    },
    {
     "data": {
      "image/png": "[encoded data removed]",
      "text/plain": [
       "<Figure size 432x288 with 1 Axes>"
      ]
     },
     "metadata": {
      "needs_background": "light"
     },
     "output_type": "display_data"
    }
   ],
   "source": [
    "plt.hist(dice_rolls(2,1000))"
   ]
  },
  {
   "cell_type": "markdown",
   "metadata": {},
   "source": [
    "research why distribution is high at 12."
   ]
  },
  {
   "cell_type": "markdown",
   "metadata": {},
   "source": [
    "## Task 3: numpy.random.binomial\n",
    "-------------\n",
    "\n",
    "Pull numpy.random.binomial summary from Programming for Data Analytics project"
   ]
  },
  {
   "cell_type": "markdown",
   "metadata": {},
   "source": [
    "#### Task\n",
    "\n",
    "November 16th, 2020: The `numpy.random.binomial` function can be used to\n",
    "simulate flipping a coin with a 50/50 chance of heads or tails. \n",
    "\n",
    "Interestingly, if a coin is flipped many times then the number of heads is well approximated by a bell-shaped curve. For instance, if we flip a coin 100 times in a row the chance of getting 50 heads is relatively high, the chances of getting 0 or 100 heads is relatively low, and the chances of getting any other number of heads decreases as you move away from 50 in either direction towards 0 or 100. \n",
    "\n",
    "Write some python code that simulates flipping a coin 100 times. Then run this code 1,000 times, keeping track of the number of heads in each of the 1,000 simulations. Select an appropriate plot to depict the resulting list of 1,000 numbers, showing that it roughly follows a bell-shaped curve. You should explain your work in a Markdown cell above the code.\n"
   ]
  },
  {
   "cell_type": "markdown",
   "metadata": {},
   "source": [
    "* ### Distribution 2: binomial\n",
    "\n",
    "**Generator.binomial(n, p, size=None)**\n",
    " \n",
    "Creates a sample from a binomial distributon. The specific paramaters are; n, the number of trialls, and  p, the probability of sucess. \n",
    "\n",
    "\"A binomial distribution can be thought of as simply the probability of a SUCCESS or FAILURE outcome in an experiment or survey that is repeated multiple times.\" [\\[18\\]][18] It is a type of distribution that has two possible outcomes. e.g coin toss - heads or tails. \n",
    "\n",
    "* Parameters \n",
    "    * n: trialls - paramater of the distribution greater than or equal to zero.\n",
    "    * p: probability of success, in the interval [1,0]\n",
    "    * size: output shape\n",
    "\n",
    "* Returns\n",
    "    * out: ndarray or scalar - Drawn samples from the parameterized binomial distribution, where each sample is equal to the number of successes over the n trials.\n",
    "    \n",
    "Note: for more information on this function see numpy documentation. [\\[17\\]][17]\n",
    "\n",
    "Examples\n",
    "\n",
    "\n",
    "\n",
    "\n",
    "[18]: https://www.statisticshowto.com/probability-and-statistics/binomial-theorem/binomial-distribution-formula/\n",
    "\n",
    "\n",
    "[17]: https://numpy.org/doc/stable/reference/random/generated/numpy.random.Generator.binomial.html#numpy.random.Generator.binomial"
   ]
  },
  {
   "cell_type": "code",
   "execution_count": 17,
   "metadata": {
    "scrolled": true
   },
   "outputs": [
    {
     "data": {
      "text/plain": [
       "array([51, 48, 51, 44, 51, 50, 42, 55, 51, 49, 45, 47, 48, 49, 50, 48, 39,\n",
       "       52, 50, 50, 53, 49, 48, 58, 54, 52, 55, 57, 45, 45, 44, 46, 51, 46,\n",
       "       45, 53, 38, 50, 51, 49, 57, 50, 48, 33, 45, 59, 63, 49, 44, 44, 56,\n",
       "       41, 53, 52, 56, 49, 39, 38, 52, 39, 39, 47, 51, 57, 53, 55, 45, 51,\n",
       "       49, 55, 45, 51, 55, 54, 56, 54, 55, 51, 58, 53, 55, 45, 48, 44, 52,\n",
       "       52, 41, 50, 57, 40, 43, 50, 47, 53, 51, 52, 52, 57, 56, 46, 39, 45,\n",
       "       49, 46, 52, 37, 63, 47, 45, 60, 44, 52, 46, 53, 58, 42, 62, 55, 48,\n",
       "       51, 54, 48, 45, 56, 43, 45, 49, 43, 61, 51, 52, 49, 57, 51, 45, 48,\n",
       "       53, 53, 42, 57, 41, 48, 48, 51, 51, 50, 51, 47, 52, 50, 55, 52, 51,\n",
       "       52, 50, 43, 60, 48, 45, 50, 48, 46, 43, 43, 47, 55, 37, 51, 40, 58,\n",
       "       60, 49, 53, 53, 48, 49, 52, 48, 51, 53, 47, 53, 43, 45, 55, 52, 47,\n",
       "       51, 50, 49, 52, 48, 52, 45, 48, 57, 39, 48, 46, 38, 52, 52, 48, 59,\n",
       "       44, 54, 58, 43, 41, 45, 39, 49, 46, 55, 51, 52, 51, 40, 50, 47, 45,\n",
       "       57, 41, 46, 50, 54, 60, 50, 46, 48, 46, 49, 54, 50, 54, 43, 41, 43,\n",
       "       57, 48, 55, 47, 42, 54, 54, 45, 47, 54, 53, 55, 45, 54, 50, 52, 50,\n",
       "       49, 54, 58, 42, 58, 67, 46, 46, 45, 42, 60, 50, 63, 44, 59, 61, 47,\n",
       "       54, 49, 54, 48, 45, 46, 48, 54, 45, 53, 48, 46, 43, 52, 50, 46, 45,\n",
       "       42, 46, 47, 49, 51, 51, 50, 49, 48, 54, 42, 57, 48, 52, 49, 53, 46,\n",
       "       53, 41, 45, 56, 51, 54, 50, 49, 48, 46, 47, 54, 48, 49, 49, 40, 50,\n",
       "       49, 47, 55, 52, 51, 50, 51, 48, 43, 54, 44, 45, 49, 47, 45, 56, 46,\n",
       "       51, 52, 43, 52, 49, 52, 55, 45, 51, 46, 48, 49, 56, 51, 47, 54, 52,\n",
       "       46, 64, 44, 43, 53, 48, 46, 55, 53, 55, 48, 47, 45, 60, 50, 50, 51,\n",
       "       57, 52, 39, 47, 54, 47, 50, 43, 54, 44, 42, 53, 48, 49, 52, 59, 55,\n",
       "       45, 46, 56, 57, 48, 60, 50, 53, 49, 53, 49, 43, 52, 42, 55, 48, 49,\n",
       "       56, 51, 53, 46, 45, 45, 56, 46, 56, 49, 46, 52, 48, 48, 48, 51, 50,\n",
       "       51, 52, 49, 50, 47, 61, 49, 57, 53, 54, 53, 52, 44, 44, 46, 54, 56,\n",
       "       55, 51, 42, 43, 47, 51, 54, 53, 48, 49, 51, 47, 57, 54, 47, 56, 49,\n",
       "       46, 51, 52, 46, 52, 45, 45, 50, 44, 53, 50, 50, 55, 41, 46, 54, 41,\n",
       "       49, 51, 49, 49, 43, 49, 55, 39, 48, 59, 48, 50, 49, 48, 39, 43, 49,\n",
       "       49, 49, 49, 47, 56, 48, 54, 59, 50, 51, 54, 58, 49, 46, 55, 50, 50,\n",
       "       45, 51, 51, 44, 51, 51, 52, 48, 42, 51, 49, 46, 52, 47, 42, 57, 55,\n",
       "       53, 46, 54, 53, 46, 50, 41, 42, 51, 56, 52, 41, 51, 46, 51, 52, 54,\n",
       "       47, 48, 57, 54, 43, 49, 44, 57, 47, 47, 48, 52, 47, 49, 54, 54, 46,\n",
       "       52, 50, 49, 51, 54, 57, 44, 52, 58, 58, 52, 44, 46, 55, 53, 47, 48,\n",
       "       54, 53, 56, 52, 48, 52, 50, 52, 46, 40, 52, 37, 54, 51, 49, 52, 49,\n",
       "       53, 45, 47, 49, 48, 42, 52, 52, 52, 52, 56, 41, 67, 50, 52, 57, 57,\n",
       "       48, 55, 61, 44, 50, 48, 44, 54, 46, 46, 54, 47, 53, 52, 43, 52, 54,\n",
       "       49, 38, 49, 53, 47, 43, 52, 47, 49, 51, 41, 50, 58, 55, 47, 45, 51,\n",
       "       52, 51, 58, 49, 51, 57, 54, 44, 50, 40, 52, 43, 54, 51, 53, 47, 40,\n",
       "       42, 54, 42, 42, 52, 47, 55, 43, 45, 52, 50, 45, 38, 56, 37, 51, 50,\n",
       "       52, 47, 48, 56, 53, 45, 44, 53, 55, 59, 48, 43, 47, 49, 54, 55, 52,\n",
       "       52, 53, 48, 52, 50, 53, 43, 44, 48, 52, 64, 53, 41, 47, 51, 44, 46,\n",
       "       39, 50, 56, 54, 49, 46, 46, 47, 48, 50, 55, 42, 49, 55, 46, 53, 41,\n",
       "       43, 57, 47, 53, 49, 52, 50, 62, 52, 53, 53, 54, 45, 46, 51, 45, 47,\n",
       "       42, 57, 38, 49, 54, 50, 44, 51, 48, 43, 55, 45, 52, 47, 53, 52, 48,\n",
       "       55, 42, 48, 59, 49, 47, 47, 48, 43, 46, 53, 54, 50, 53, 56, 47, 53,\n",
       "       45, 50, 48, 51, 46, 53, 55, 60, 51, 43, 43, 53, 48, 50, 56, 54, 48,\n",
       "       53, 47, 44, 53, 50, 42, 49, 48, 56, 52, 45, 46, 52, 65, 50, 51, 48,\n",
       "       57, 54, 48, 50, 49, 54, 44, 53, 57, 55, 55, 43, 41, 39, 58, 51, 45,\n",
       "       50, 42, 52, 40, 50, 43, 41, 50, 49, 46, 43, 50, 47, 53, 39, 41, 47,\n",
       "       46, 48, 52, 44, 43, 47, 51, 52, 55, 41, 52, 52, 55, 55, 56, 45, 51,\n",
       "       51, 54, 48, 48, 48, 57, 50, 64, 51, 48, 52, 52, 50, 51, 44, 53, 46,\n",
       "       56, 48, 47, 58, 47, 44, 47, 46, 53, 58, 50, 46, 51, 56, 40, 51, 55,\n",
       "       52, 48, 48, 44, 55, 56, 46, 55, 52, 43, 48, 59, 52, 58, 48, 54, 49,\n",
       "       43, 52, 54, 60, 43, 50, 54, 46, 39, 53, 43, 58, 54, 45, 47, 39, 41,\n",
       "       56, 38, 42, 60, 40, 45, 51, 49, 50, 49, 56, 50, 50, 53, 50, 48, 48,\n",
       "       60, 47, 54, 58, 56, 51, 42, 59, 48, 57, 56, 49, 52, 54, 43, 46, 52,\n",
       "       50, 55, 52, 51, 48, 52, 50, 48, 45, 46, 46, 53, 56, 57, 46, 37, 54,\n",
       "       53, 59, 43, 52, 54, 54, 47, 60, 57, 50, 40, 51, 46, 51],\n",
       "      dtype=int64)"
      ]
     },
     "execution_count": 17,
     "metadata": {},
     "output_type": "execute_result"
    }
   ],
   "source": [
    "rng = np.random.default_rng()\n",
    "n, p = 100, .5  # number of trials, probability of each trial\n",
    "s = rng.binomial(n, p, 1000)\n",
    "# result of flipping a coin 10 times, tested 10000 times.\n",
    "s\n",
    "# plt.hist(s, bins=10, range=None, rwidth=None, color=None, label=\"tEST\")\n"
   ]
  },
  {
   "cell_type": "code",
   "execution_count": 18,
   "metadata": {},
   "outputs": [
    {
     "data": {
      "text/plain": [
       "(array([  1.,  27.,  97., 142., 209., 298., 140.,  71.,   9.,   6.]),\n",
       " array([33. , 36.4, 39.8, 43.2, 46.6, 50. , 53.4, 56.8, 60.2, 63.6, 67. ]),\n",
       " <a list of 10 Patch objects>)"
      ]
     },
     "execution_count": 18,
     "metadata": {},
     "output_type": "execute_result"
    },
    {
     "data": {
      "image/png": "[encoded data removed]",
      "text/plain": [
       "<Figure size 432x288 with 1 Axes>"
      ]
     },
     "metadata": {
      "needs_background": "light"
     },
     "output_type": "display_data"
    }
   ],
   "source": [
    "plt.hist(s, bins=10, range=None, rwidth=None, color=None, label=\"tEST\")\n",
    "\n",
    "# matplotlib.pyplot.hist(x, bins=2 range=None, rwidth=None, color=None, label=tEST)"
   ]
  },
  {
   "cell_type": "markdown",
   "metadata": {},
   "source": [
    "The above graph plots the number of successful trialls against the number of trialls totally. It shows that the distribution is normally distributed when the probability is 0.5.\n",
    "\n",
    "There are many real word instances of binomial distributions. e.g drug trial - it works or doesnt, lottery ticket - you win or dont. It can be used to predict any situation in which success or failure are an option."
   ]
  },
  {
   "cell_type": "markdown",
   "metadata": {},
   "source": [
    "## Task 4: Simpsons Paradox\n",
    "-------------\n",
    "\n",
    "use numpy.linspace\n",
    "\n",
    "https://numpy.org/doc/stable/reference/generated/numpy.linspace.html\n",
    "\n",
    "https://en.wikipedia.org/wiki/Simpson%27s_paradox\n",
    "\n",
    "https://www.britannica.com/topic/Simpsons-paradox/Problem-of-Causality\n"
   ]
  },
  {
   "cell_type": "code",
   "execution_count": 19,
   "metadata": {},
   "outputs": [
    {
     "data": {
      "image/png": "[encoded data removed]",
      "text/plain": [
       "<Figure size 432x288 with 1 Axes>"
      ]
     },
     "metadata": {
      "needs_background": "light"
     },
     "output_type": "display_data"
    }
   ],
   "source": [
    "# Example pulled from numpy.linspace manual\n",
    "\n",
    "import matplotlib.pyplot as plt\n",
    "N = 8\n",
    "y = np.zeros(N)\n",
    "x1 = np.linspace(0, 10, N, endpoint=True)\n",
    "x2 = np.linspace(0, 10, N, endpoint=False)\n",
    "plt.plot(x1, y, 'o')\n",
    "\n",
    "plt.plot(x2, y + 0.5, 'o')\n",
    "\n",
    "plt.ylim([-0.5, 1])\n",
    "\n",
    "plt.show()"
   ]
  },
  {
   "cell_type": "code",
   "execution_count": null,
   "metadata": {},
   "outputs": [],
   "source": []
  }
 ],
 "metadata": {
  "kernelspec": {
   "display_name": "Python 3",
   "language": "python",
   "name": "python3"
  },
  "language_info": {
   "codemirror_mode": {
    "name": "ipython",
    "version": 3
   },
   "file_extension": ".py",
   "mimetype": "text/x-python",
   "name": "python",
   "nbconvert_exporter": "python",
   "pygments_lexer": "ipython3",
   "version": "3.8.3"
  }
 },
 "nbformat": 4,
 "nbformat_minor": 4
}
