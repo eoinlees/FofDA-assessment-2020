{
 "cells": [
  {
   "cell_type": "markdown",
   "metadata": {},
   "source": [
    "# <p style=\"text-align: center;\">Fundamentals of Data Analytics: Tasks 2020 </p>\n",
    "<img src=\"https://i0.wp.com/www.creatingentrepreneursinfood.eu/wp-content/uploads/2017/02/GMIT-logo.png\" alt=\"gmit\" style=\"width: 200px;\"/>\n",
    "\n",
    "\n",
    "\n",
    "**<p style=\"text-align: center;\">Eoin Lees - G00387888 - December 18th 2020</p>**\n",
    "\n",
    "--------------\n"
   ]
  },
  {
   "cell_type": "markdown",
   "metadata": {},
   "source": [
    "# Task 1: Counts function\n",
    "---------------------\n",
    "\n",
    "**October 5th, 2020:** Write a Python function called counts that takes a list as\n",
    "input and returns a dictionary of unique items in the list as keys and the number of\n",
    "times each item appears as values. So, the input `['A', 'A', 'B', 'C', 'A']`\n",
    "should have output `{'A': 3, 'B': 1, 'C': 1}`. Your code should not depend\n",
    "on any module from the standard library1 or otherwise. You should research\n",
    "the task first and include a description with references of your algorithm in the\n",
    "notebook.\n",
    "\n",
    "--------------------"
   ]
  },
  {
   "cell_type": "markdown",
   "metadata": {},
   "source": [
    "## Define Function"
   ]
  },
  {
   "cell_type": "code",
   "execution_count": 1,
   "metadata": {},
   "outputs": [],
   "source": [
    "# Define Function\n",
    "\n",
    "def counts(x):\n",
    "    # create final list(dict) to be filled in for loop\n",
    "    finalList = {}\n",
    "    # Iterate\n",
    "    for i in x:\n",
    "        # see if i is already in finalList\n",
    "        if i in finalList:\n",
    "            # add one to i count if so\n",
    "            finalList[i] += 1\n",
    "        else:\n",
    "            # create i in finalList and set its value to 1 \n",
    "            finalList[i] = 1\n",
    "    \n",
    "    return finalList    "
   ]
  },
  {
   "cell_type": "markdown",
   "metadata": {},
   "source": [
    "This is how the `counts(x)` function works:\n",
    "\n",
    "* It takes a list as an input \"x\". \n",
    "* It creates a dictionary `finalList` to store all of the inputs.[[2]](https://realpython.com/python-dicts/)\n",
    "* It checks if each item \"i\" in the input list \"x\" is in the `finalList`\n",
    "    * If it is, it adds 1 to its count.\n",
    "    * if it's not, it creates the item \"i\" in the `finalList` and sets its count to 1. [[3]](https://stackabuse.com/python-get-number-of-elements-in-a-list/)\n",
    "* Once all items are iterated through it returns the `finalList` with each element counted in the correct format. \n",
    "\n",
    "Examples of how this function works are shown below.\n"
   ]
  },
  {
   "cell_type": "markdown",
   "metadata": {},
   "source": [
    "## Test function"
   ]
  },
  {
   "cell_type": "code",
   "execution_count": 2,
   "metadata": {},
   "outputs": [],
   "source": [
    "#Define Lists\n",
    "testListOne = [\"A\", \"A\", \"B\", \"C\", \"A\"]\n",
    "testListTwo = [\"Car\", \"Bar\", \"Toy\", \"Car\", \"Car\", \"Bar\"]\n",
    "testListThree = [\"12\", \"4\", \"12\", \"15\", \"4\", \"4\", \"4\",\"4\"]\n",
    "testListFour = [1,2,3,4,3,2,3,4,5,6,4,3,2]"
   ]
  },
  {
   "cell_type": "code",
   "execution_count": 3,
   "metadata": {},
   "outputs": [
    {
     "data": {
      "text/plain": [
       "{'A': 3, 'B': 1, 'C': 1}"
      ]
     },
     "execution_count": 3,
     "metadata": {},
     "output_type": "execute_result"
    }
   ],
   "source": [
    "# Test list 1\n",
    "counts(testListOne)"
   ]
  },
  {
   "cell_type": "code",
   "execution_count": 4,
   "metadata": {},
   "outputs": [
    {
     "data": {
      "text/plain": [
       "{'Car': 3, 'Bar': 2, 'Toy': 1}"
      ]
     },
     "execution_count": 4,
     "metadata": {},
     "output_type": "execute_result"
    }
   ],
   "source": [
    "# Test list 2\n",
    "counts(testListTwo)"
   ]
  },
  {
   "cell_type": "code",
   "execution_count": 5,
   "metadata": {},
   "outputs": [
    {
     "data": {
      "text/plain": [
       "{'12': 2, '4': 5, '15': 1}"
      ]
     },
     "execution_count": 5,
     "metadata": {},
     "output_type": "execute_result"
    }
   ],
   "source": [
    "# Test list 3\n",
    "counts(testListThree)"
   ]
  },
  {
   "cell_type": "code",
   "execution_count": 6,
   "metadata": {},
   "outputs": [
    {
     "data": {
      "text/plain": [
       "{1: 1, 2: 3, 3: 4, 4: 3, 5: 1, 6: 1}"
      ]
     },
     "execution_count": 6,
     "metadata": {},
     "output_type": "execute_result"
    }
   ],
   "source": [
    "# Test list 4\n",
    "counts(testListFour)"
   ]
  },
  {
   "cell_type": "markdown",
   "metadata": {},
   "source": [
    "### Input function\n",
    "\n",
    "Below is a cell that calls for an input list to be given.[[4]](https://pynative.com/python-accept-list-input-from-user/) It allows for the `counts(x)` function to be tested in real time. It takes the input and splits each word or number into a seperate item in the list. [[5]](https://www.w3schools.com/python/ref_string_split.asp)\n",
    "\n",
    "To run it hit \"shift + return\" and it will request an input. \n",
    "\n",
    "For convience here is a sample list to copy and past as input:\n",
    "\n",
    "                        Eoin Eoin Eoin Bob Bob Mary Mary Sue Eoin Mary 1 1 2 45 45 45 45\n",
    "                       \n",
    "You will recieve an output of the following:\n",
    "\n",
    "                        {'Eoin': 4, 'Bob': 2, 'Mary': 3, 'Sue': 1, '1': 2, '2': 1, '45': 4}"
   ]
  },
  {
   "cell_type": "code",
   "execution_count": 7,
   "metadata": {},
   "outputs": [
    {
     "name": "stdout",
     "output_type": "stream",
     "text": [
      "Enter a number of letters, numbers or words seperated by a space: 12\n"
     ]
    },
    {
     "data": {
      "text/plain": [
       "{'12': 1}"
      ]
     },
     "execution_count": 7,
     "metadata": {},
     "output_type": "execute_result"
    }
   ],
   "source": [
    "# Test List from input [1]\n",
    "List = input(\"Enter a number of letters, numbers or words seperated by a space: \")\n",
    "inputList = List.split()\n",
    "\n",
    "#print(userList)\n",
    "counts(inputList)"
   ]
  },
  {
   "cell_type": "markdown",
   "metadata": {},
   "source": [
    "## Alternate method\n",
    "----------------"
   ]
  },
  {
   "cell_type": "code",
   "execution_count": 8,
   "metadata": {},
   "outputs": [
    {
     "name": "stdout",
     "output_type": "stream",
     "text": [
      "{'Car': 3, 'Bar': 2, 'Toy': 1}\n"
     ]
    }
   ],
   "source": [
    "num = [\"Car\", \"Bar\", \"Toy\", \"Car\", \"Car\", \"Bar\"]\n",
    "\n",
    "def countsAlt(L):\n",
    "    print(dict((i, L.count(i)) for i in L))\n",
    "countsAlt(num)"
   ]
  },
  {
   "cell_type": "code",
   "execution_count": 9,
   "metadata": {},
   "outputs": [
    {
     "name": "stdout",
     "output_type": "stream",
     "text": [
      "{'A': 3, 'B': 1, 'C': 1}\n"
     ]
    }
   ],
   "source": [
    "countsAlt(testListOne)"
   ]
  },
  {
   "cell_type": "markdown",
   "metadata": {},
   "source": [
    "This alternate method uses the count() function built into python. [[1]](https://docs.python.org/3/tutorial/datastructures.html) \n",
    "\n",
    "* list.count(x)\n",
    "        Return the number of times x appears in the list.\n",
    "\n",
    "It is much more straight forward. It functions the same as the above method. "
   ]
  },
  {
   "cell_type": "markdown",
   "metadata": {},
   "source": [
    "## Results\n",
    "\n",
    "Both of the methods take an input list and return an output of unique items with the number of occurances of each item.\n",
    "\n",
    "This was achieved without calling and external functions. \n",
    "\n",
    "They fulfill the brief. \n",
    "\n",
    "## Conclusions\n",
    "\n",
    "Both of these functions achieve the brief. Testing has been undertaken to see if there are any issues with inpuit types,but no issues were discovered.  \n",
    "\n",
    "It is possible to achieve the same results by calling external functions like `numpy.unique` [[6]](https://numpy.org/devdocs/reference/generated/numpy.unique.html) or `collections.Counter()` [[7]](https://docs.python.org/3/library/collections.html#collections.Counter). However it was specifically stated that this was not allowed in the brief. \n",
    "\n",
    "Further work:\n",
    "* Further extensive testing on limits of function may be needed.\n",
    "* A seperate function could be created to have an input without calling for it. \n",
    "\n",
    "Either function can now be called anywhere else on this jupyter workbook. eg. Task 2. \n",
    "\n",
    "---------------------"
   ]
  },
  {
   "cell_type": "markdown",
   "metadata": {},
   "source": [
    "\n",
    "# References - Task 1\n",
    "\n",
    "[1] More on Lists; Python Software Foundation; https://docs.python.org/3/tutorial/datastructures.html\n",
    "\n",
    "[2] Dictionaries in Python; Real Python; https://realpython.com/python-dicts/\n",
    "\n",
    "[3] Python: Get Number of Elements in a List; Stack Abuse; https://stackabuse.com/python-get-number-of-elements-in-a-list/\n",
    "\n",
    "[4] Python Accept list as an input from a user; pynative.com; https://pynative.com/python-accept-list-input-from-user/\n",
    "\n",
    "[5] Python String split() Method; Refsnes Data; https://www.w3schools.com/python/ref_string_split.asp\n",
    "\n",
    "[6] numpy.unique; The SciPy community; https://numpy.org/devdocs/reference/generated/numpy.unique.html\n",
    "\n",
    "[7] collections.Counter; Python Software Foundation; https://docs.python.org/3/library/collections.html#collections.Counter\n",
    "\n",
    "--------------------\n"
   ]
  },
  {
   "cell_type": "markdown",
   "metadata": {},
   "source": [
    "## Task 2: Dicerolls function\n",
    "-------------\n",
    "\n",
    "**November 2nd, 2020:** Write a Python function called dicerolls that simulates\n",
    "rolling dice. Your function should take two parameters: the number of dice k and\n",
    "the number of times to roll the dice n. The function should simulate randomly\n",
    "rolling k dice n times, keeping track of each total face value. It should then return\n",
    "a dictionary with the number of times each possible total face value occurred. So,\n",
    "calling the function as diceroll(k=2, n=1000) should return a dictionary like:\n",
    "`{2:19,3:50,4:82,5:112,6:135,7:174,8:133,9:114,10:75,11:70,12:36}`\n",
    "\n",
    "\n",
    "\n",
    "\n",
    "\n",
    "-------------"
   ]
  },
  {
   "cell_type": "markdown",
   "metadata": {},
   "source": [
    "## Introduction\n",
    "\n",
    "This task can be broken down into three parts: \n",
    "\n",
    "1. Create function to for dice rolls: \n",
    "    * Create function ro return random number between 1 and 6 (dice roll)\n",
    "    * Add ability to roll multiple dice\n",
    "    * Sum total of dice rolled\n",
    "    * Add ability to run function \"n\" times \n",
    "    * Return list of added dice\n",
    "    \n",
    "2. Integrate counts function from task 1. \n",
    "3. Print results to screen in correct format. \n",
    "\n",
    "#### Distribution\n",
    "\n",
    "It is important to ensure that the function matches a dice roll as closely as possible. \n",
    "\n",
    "Therefore it is necessary to investigare the distribution of a  \"fair dice\".  In mathematics we say \"fair dice\" when we mean that there is an equally likely chance of landing on any face. [[10]](https://www.mathsisfun.com/geometry/fair-dice.html)\n",
    "\n",
    "**Uniform distribution - discrete**\n",
    "\n",
    "The uniform distribution (discrete) is one of the simplest probability distributions in statistics. It is a\n",
    "discrete distribution, this means that it takes a finite set of possible, e.g. 1, 2, 3, 4, 5 and 6.[[15]](https://www.ucd.ie/msc/t4media/Uniform%20Distribution.pdf)\n",
    "\n",
    "The values are equally likely to be observed; every one of n values has equal probability 1/n. Another way of saying \"discrete uniform distribution\" would be \"a known, finite number of outcomes equally likely to happen\". [[12]](https://en.wikipedia.org/wiki/Discrete_uniform_distribution)\n",
    "\n",
    "Numpy function: [[11]](https://numpy.org/doc/stable/reference/random/generated/numpy.random.randint.html)\n",
    "    numpy.random.randint(low, high=None, size=None, dtype=int)\n",
    "        * return random integers from low (inclusive) to high (exclusive).\n",
    "        * Return random integers from the “discrete uniform” distribution of the specified dtype in the “half-open” interval [low, high). If high is None (the default), then results are from [0, low).\n",
    "     \n",
    "This distribution seems reasonable to use for this function. \n",
    "\n",
    "**Normal distribution**\n",
    "\n",
    "A normal distribution is a type of probability distribution for a real valued random variable. They are often used in natural or social sciences as they can represent real valued random variables that are not known. It is aslo known as the Gaussian distribution. [[13]](https://en.wikipedia.org/wiki/Normal_distribution)\n",
    "\n",
    "\n",
    "Numpy Function: [[14]](https://docs.scipy.org/doc//numpy-1.10.4/reference/generated/numpy.random.normal.html)\n",
    "    numpy.random.normal(loc=0.0, scale=1.0, size=None)\n",
    "        * Draw random samples from a normal (Gaussian) distribution.\n",
    "        \n",
    "This distribution does not seem reasonable to use for this function. \n",
    "\n",
    "**Binomial distribution**\n",
    "\n",
    "It seems logical to suggest that rolling 2 dice would follow a binomial distribution. But a quick search proves this false. [[9]](https://math.stackexchange.com/questions/1204396/why-is-the-sum-of-the-rolls-of-two-dices-a-binomial-distribution-what-is-define) \n",
    "\n",
    "#### Real wrold\n",
    "\n",
    "In a casino setting the fairness of a dice is taken very seriously. They are classed as casino grade and \"very fair dice\".\n",
    "\n",
    "They have the following features:\n",
    "* partly transparent so you can see any bubbles or weights inside\n",
    "* as close as possible to exact cubes\n",
    "* sharp edges and corners\n",
    "* dots filled in, so the weight is the same on each side\n",
    "\n",
    "\n",
    "For the purpose of this exercise we will attempt to model this class of dice as closely as possible. \n",
    "\n",
    "**Choice:**\n",
    "\n",
    "It seems like the distribution that most closely modely this dice is the uniform distribution (discrete). \n",
    "\n"
   ]
  },
  {
   "cell_type": "markdown",
   "metadata": {},
   "source": [
    "## Import functions"
   ]
  },
  {
   "cell_type": "code",
   "execution_count": 5,
   "metadata": {},
   "outputs": [],
   "source": [
    "# Import all functions necessary\n",
    "import seaborn as sns\n",
    "import numpy as np\n",
    "import random\n",
    "import matplotlib.pyplot as plt"
   ]
  },
  {
   "cell_type": "markdown",
   "metadata": {},
   "source": [
    "## Define Function"
   ]
  },
  {
   "cell_type": "code",
   "execution_count": 36,
   "metadata": {},
   "outputs": [],
   "source": [
    "#Define `dice_roll(k)` for a \"k\" number rolls of a dice\n",
    "\n",
    "def dice_roll(k):\n",
    "    sum = 0\n",
    "    for i in range(0,k):\n",
    "        dice = np.random.randint(1,7)\n",
    "        #print(dice) # To test function\n",
    "        sum = sum + dice\n",
    "    return(sum)\n",
    "\n",
    "#Define `dice_rolls(k, n)` for a multiple rolls of the same number of dice. \n",
    "def dice_rolls(k, n):\n",
    "    myList = [dice_roll(k) for _ in range(n)]\n",
    "    return(myList)"
   ]
  },
  {
   "cell_type": "markdown",
   "metadata": {},
   "source": [
    "The above function used the `numpy.random.randint` function. [[11]](https://numpy.org/doc/stable/reference/random/generated/numpy.random.randint.html) \n",
    "\n",
    "The limits are set at 1 and 7 as the lower is inclusive but the upper is not. \n",
    "\n",
    "The first function `dice_roll(k)` is what actually simulates the dice roll. The `dice_rolls(k, n)` function allows you to chose the number of dice you roll, and adds them. It then allows you to repeat this how ever many times you wish. It creates a list for all of these results. \n"
   ]
  },
  {
   "cell_type": "markdown",
   "metadata": {},
   "source": [
    "## Test function"
   ]
  },
  {
   "cell_type": "code",
   "execution_count": 37,
   "metadata": {},
   "outputs": [
    {
     "data": {
      "text/plain": [
       "19"
      ]
     },
     "execution_count": 37,
     "metadata": {},
     "output_type": "execute_result"
    }
   ],
   "source": [
    "# Test function\n",
    "dice_roll(5)"
   ]
  },
  {
   "cell_type": "markdown",
   "metadata": {},
   "source": [
    "Returns total sum of 5 dice rolled. "
   ]
  },
  {
   "cell_type": "code",
   "execution_count": 38,
   "metadata": {},
   "outputs": [
    {
     "data": {
      "text/plain": [
       "[9, 5, 4, 6, 4, 12, 4, 12, 6, 6]"
      ]
     },
     "execution_count": 38,
     "metadata": {},
     "output_type": "execute_result"
    }
   ],
   "source": [
    "#Test function\n",
    "dice_rolls(2, 10)"
   ]
  },
  {
   "cell_type": "markdown",
   "metadata": {},
   "source": [
    "Returns list of total sum of 2 dice rolled, 10 times."
   ]
  },
  {
   "cell_type": "code",
   "execution_count": 39,
   "metadata": {},
   "outputs": [
    {
     "data": {
      "text/plain": [
       "{3: 1, 5: 1, 11: 1, 9: 2, 6: 2, 10: 2, 7: 1}"
      ]
     },
     "execution_count": 39,
     "metadata": {},
     "output_type": "execute_result"
    }
   ],
   "source": [
    "#Run dice_rolls with count\n",
    "counts(dice_rolls(2, 10))"
   ]
  },
  {
   "cell_type": "markdown",
   "metadata": {},
   "source": [
    "#### Comments\n",
    "The above code achieve the desired results however calling the function like this is not what was requested. "
   ]
  },
  {
   "cell_type": "markdown",
   "metadata": {},
   "source": [
    "## Define diceroll() function"
   ]
  },
  {
   "cell_type": "code",
   "execution_count": 47,
   "metadata": {},
   "outputs": [],
   "source": [
    "# Define final Function:\n",
    "def diceroll(k, n):\n",
    "    count = counts(dice_rolls(k, n))\n",
    "    return(count)"
   ]
  },
  {
   "cell_type": "code",
   "execution_count": 46,
   "metadata": {},
   "outputs": [
    {
     "data": {
      "text/plain": [
       "{8: 3, 5: 2, 4: 2, 6: 1, 9: 1, 10: 1}"
      ]
     },
     "execution_count": 46,
     "metadata": {},
     "output_type": "execute_result"
    }
   ],
   "source": [
    "# Test the function\n",
    "diceroll(2,10)"
   ]
  },
  {
   "cell_type": "markdown",
   "metadata": {},
   "source": [
    "#### Comments\n",
    "The `diceroll(k, n)` function achieves the required functionallity of the task. "
   ]
  },
  {
   "cell_type": "code",
   "execution_count": 42,
   "metadata": {},
   "outputs": [],
   "source": [
    "# define input function - Get input from user\n",
    "def input_diceroll():\n",
    "    k = int(input(\"Enter the number of dice you wish to roll: \"))\n",
    "    n = int(input(\"Enter the number of times you wish to do this: \"))\n",
    "    #return function\n",
    "    return diceroll(k,n)"
   ]
  },
  {
   "cell_type": "code",
   "execution_count": 43,
   "metadata": {},
   "outputs": [
    {
     "name": "stdout",
     "output_type": "stream",
     "text": [
      "Enter the number of dice you wish to roll: 12\n",
      "Enter the number of times you wish to do this: 12\n"
     ]
    },
    {
     "data": {
      "text/plain": [
       "{48: 2, 45: 1, 39: 1, 53: 1, 35: 2, 40: 2, 43: 1, 41: 1, 36: 1}"
      ]
     },
     "execution_count": 43,
     "metadata": {},
     "output_type": "execute_result"
    }
   ],
   "source": [
    "# test function\n",
    "x = input_diceroll()\n",
    "x"
   ]
  },
  {
   "cell_type": "markdown",
   "metadata": {},
   "source": [
    "#### Comments\n",
    "The `input_diceroll()` function allows the user to call the function and input any integer they may need. It can be used to test the function for the purpose of this assignment. "
   ]
  },
  {
   "cell_type": "markdown",
   "metadata": {},
   "source": [
    "## Plot results"
   ]
  },
  {
   "cell_type": "code",
   "execution_count": 45,
   "metadata": {},
   "outputs": [
    {
     "data": {
      "text/plain": [
       "Text(0.5, 1.0, 'Dice_rolls function')"
      ]
     },
     "execution_count": 45,
     "metadata": {},
     "output_type": "execute_result"
    },
    {
     "data": {
      "image/png": "[encoded data removed]",
      "text/plain": [
       "<Figure size 432x288 with 1 Axes>"
      ]
     },
     "metadata": {},
     "output_type": "display_data"
    }
   ],
   "source": [
    "# set the style\n",
    "sns.set_style(\"white\")\n",
    "\n",
    "\n",
    "# create the plot\n",
    "sns.countplot(dice_rolls(2,1000), color='green')\n",
    "plt.xlabel(\"sum of flips\") \n",
    "plt.ylabel(\"Number of results in each\")\n",
    "plt.title(\"Dice_rolls function\", fontsize=15)"
   ]
  },
  {
   "cell_type": "markdown",
   "metadata": {},
   "source": [
    "#### Comments\n",
    "\n",
    "The above graph plots the results of the `diceroll(k, n)` function. It was created using seaborn. \n",
    "\n",
    "Use of seaborn cheatsheet for formatting. [[16]](https://s3.amazonaws.com/assets.datacamp.com/blog_assets/Python_Seaborn_Cheat_Sheet.pdf)\n"
   ]
  },
  {
   "cell_type": "markdown",
   "metadata": {},
   "source": [
    "## Results\n",
    "\n",
    "The `diceroll(k, n)` Achieves the requested functionality of Task 2. \n",
    "\n",
    "It successfully takes two parameters, k= number of dice and n= number of times to roll the dice, and returns them in a dictionary with the number of times each possible total face value occurred. \n",
    "\n",
    "## Conclusions\n",
    "\n",
    "The function was coded successfully.\n",
    "\n",
    "Plotting the results of 1000 dice rolls of two dice and plotting it reveals a distribution like this: [[9]](https://math.stackexchange.com/questions/1204396/why-is-the-sum-of-the-rolls-of-two-dices-a-binomial-distribution-what-is-define)\n",
    "<br>\n",
    "<br>\n",
    "<img src=\"https://i.stack.imgur.com/DNhaf.png\" alt=\"dice\" style=\"width: 400px ;\"/>\n",
    "\n",
    "#### Why is it normally distributed?\n",
    "\n",
    "**Central Limit Theorem**  [[17]](https://en.wikipedia.org/wiki/Central_limit_theorem)\n",
    "\n",
    "After some research being unsure of why this was occuring I came across this theorem that cleared it up. \n",
    "\n",
    "\"In probability theory, the central limit theorem (CLT) establishes that, in many situations, when independent random variables are added, their properly normalized sum tends toward a normal distribution (informally a bell curve) even if the original variables themselves are not normally distributed.\"\n"
   ]
  },
  {
   "cell_type": "markdown",
   "metadata": {},
   "source": [
    "\n",
    "# References - Task 2\n",
    "\n",
    "[8] Generate pseudo-random numbers; https://docs.python.org/3/library/random.html\n",
    "\n",
    "[9] Why is the sum of the rolls of two dices a Binomial Distribution?;  Stack Exchange Inc; https://math.stackexchange.com/questions/1204396/why-is-the-sum-of-the-rolls-of-two-dices-a-binomial-distribution-what-is-define\n",
    "\n",
    "[10] Fair Dice; MathsIsFun.com; https://www.mathsisfun.com/geometry/fair-dice.html\n",
    "\n",
    "[11] numpy.random.randint; The SciPy community; https://numpy.org/doc/stable/reference/random/generated/numpy.random.randint.html\n",
    "\n",
    "[12] Discrete uniform distribution; Wikipedia; https://en.wikipedia.org/wiki/Discrete_uniform_distribution\n",
    "\n",
    "[13] Normal Distribution;  Wikipedia;  https://en.wikipedia.org/wiki/Normal_distribution\n",
    "\n",
    "[14] numpy.random.normal; The SciPy community; https://docs.scipy.org/doc//numpy-1.10.4/reference/generated/numpy.random.normal.html\n",
    "\n",
    "[15] Uniform Distribution (Discrete); UCD Maths support centre; https://www.ucd.ie/msc/t4media/Uniform%20Distribution.pdf\n",
    "\n",
    "[16] Python For Data Science Cheat Sheet; Datacamp; https://s3.amazonaws.com/assets.datacamp.com/blog_assets/Python_Seaborn_Cheat_Sheet.pdf\n",
    "\n",
    "[17] Central limit theorem; Wikipedia;  https://en.wikipedia.org/wiki/Central_limit_theorem\n",
    "\n",
    "---------------------------"
   ]
  },
  {
   "cell_type": "markdown",
   "metadata": {},
   "source": [
    "## Task 3: numpy.random.binomial\n",
    "-------------\n",
    "\n",
    "**November 16th, 2020:** The numpy.random.binomial function can be used to\n",
    "simulate flipping a coin with a 50/50 chance of heads or tails. Interestingly, if a\n",
    "coin is flipped many times then the number of heads is well approximated by a\n",
    "bell-shaped curve. For instance, if we flip a coin 100 times in a row the chance of\n",
    "getting 50 heads is relatively high, the chances of getting 0 or 100 heads is relatively\n",
    "low, and the chances of getting any other number of heads decreases as you move\n",
    "away from 50 in either direction towards 0 or 100. Write some python code that\n",
    "simulates flipping a coin 100 times. Then run this code 1,000 times, keeping track\n",
    "of the number of heads in each of the 1,000 simulations. Select an appropriate\n",
    "plot to depict the resulting list of 1,000 numbers, showing that it roughly follows\n",
    "a bell-shaped curve. You should explain your work in a Markdown cell above the\n",
    "code.\n",
    "\n",
    "-----------"
   ]
  },
  {
   "cell_type": "markdown",
   "metadata": {},
   "source": [
    "## Introduction\n",
    "\n",
    "https://numpy.org/doc/stable/reference/random/generated/numpy.random.binomial.html\n"
   ]
  },
  {
   "cell_type": "markdown",
   "metadata": {},
   "source": [
    "## Import Functions"
   ]
  },
  {
   "cell_type": "code",
   "execution_count": 2,
   "metadata": {},
   "outputs": [],
   "source": [
    "# Import all functions necessary\n",
    "import numpy as np\n"
   ]
  },
  {
   "cell_type": "markdown",
   "metadata": {},
   "source": [
    "## Define function"
   ]
  },
  {
   "cell_type": "code",
   "execution_count": 6,
   "metadata": {
    "scrolled": true
   },
   "outputs": [
    {
     "data": {
      "text/plain": [
       "array([41, 57, 49, 55, 49, 53, 50, 51, 51, 61, 52, 45, 47, 45, 56, 44, 46,\n",
       "       48, 55, 49, 46, 46, 47, 47, 55, 61, 48, 56, 37, 45, 47, 55, 44, 50,\n",
       "       50, 49, 58, 50, 55, 44, 46, 48, 48, 59, 51, 55, 52, 47, 51, 59, 49,\n",
       "       48, 39, 51, 54, 54, 53, 45, 38, 48, 50, 50, 51, 47, 48, 54, 53, 50,\n",
       "       42, 47, 50, 41, 49, 51, 46, 51, 58, 50, 55, 59, 47, 48, 51, 58, 47,\n",
       "       60, 53, 64, 52, 47, 46, 54, 45, 50, 58, 44, 54, 45, 54, 52, 53, 50,\n",
       "       47, 52, 62, 52, 49, 47, 49, 42, 50, 51, 50, 54, 52, 52, 48, 46, 47,\n",
       "       42, 54, 54, 46, 43, 50, 51, 49, 58, 51, 50, 58, 54, 54, 50, 53, 51,\n",
       "       48, 49, 56, 57, 51, 49, 50, 45, 56, 50, 59, 47, 43, 47, 48, 51, 44,\n",
       "       52, 50, 56, 51, 44, 48, 48, 46, 42, 48, 58, 62, 51, 47, 44, 48, 53,\n",
       "       50, 55, 47, 37, 48, 44, 52, 47, 53, 44, 56, 52, 61, 56, 48, 45, 50,\n",
       "       43, 52, 56, 43, 51, 49, 49, 53, 53, 56, 52, 49, 51, 49, 49, 45, 55,\n",
       "       53, 53, 54, 49, 48, 55, 47, 53, 44, 44, 57, 49, 52, 54, 51, 42, 55,\n",
       "       52, 47, 48, 48, 47, 36, 53, 57, 44, 56, 41, 60, 58, 46, 49, 45, 56,\n",
       "       56, 57, 59, 46, 47, 46, 43, 45, 43, 53, 38, 55, 48, 49, 37, 48, 51,\n",
       "       47, 48, 49, 53, 48, 45, 51, 52, 44, 45, 50, 49, 54, 45, 48, 47, 45,\n",
       "       57, 50, 47, 49, 47, 48, 50, 43, 49, 51, 52, 47, 43, 57, 54, 50, 50,\n",
       "       53, 41, 45, 56, 50, 58, 61, 45, 42, 50, 51, 45, 46, 58, 56, 57, 43,\n",
       "       49, 54, 45, 48, 42, 52, 57, 57, 50, 55, 42, 53, 45, 55, 51, 45, 52,\n",
       "       51, 55, 53, 50, 53, 49, 42, 51, 58, 48, 47, 47, 62, 53, 46, 46, 45,\n",
       "       56, 50, 42, 43, 42, 49, 54, 55, 55, 52, 56, 45, 48, 56, 62, 46, 52,\n",
       "       47, 38, 51, 42, 43, 52, 55, 51, 50, 53, 47, 52, 48, 49, 49, 55, 48,\n",
       "       42, 49, 44, 45, 47, 50, 48, 50, 53, 52, 56, 49, 48, 50, 51, 51, 50,\n",
       "       56, 45, 43, 52, 52, 57, 55, 47, 48, 51, 52, 51, 54, 60, 51, 58, 50,\n",
       "       51, 42, 49, 49, 50, 56, 53, 49, 54, 43, 49, 47, 50, 51, 50, 55, 45,\n",
       "       54, 45, 45, 53, 54, 55, 49, 48, 46, 52, 51, 49, 56, 53, 50, 42, 42,\n",
       "       52, 49, 54, 55, 56, 49, 51, 45, 34, 53, 44, 55, 46, 49, 46, 45, 42,\n",
       "       52, 46, 45, 49, 40, 54, 46, 56, 44, 50, 55, 45, 51, 54, 46, 45, 47,\n",
       "       49, 46, 53, 47, 48, 50, 48, 50, 49, 54, 56, 44, 45, 52, 47, 47, 54,\n",
       "       51, 42, 43, 51, 61, 51, 54, 50, 51, 54, 47, 48, 48, 56, 44, 51, 58,\n",
       "       49, 53, 54, 49, 50, 55, 45, 44, 42, 45, 45, 54, 51, 51, 54, 49, 52,\n",
       "       52, 49, 50, 50, 45, 50, 55, 48, 37, 51, 60, 46, 48, 47, 45, 49, 59,\n",
       "       62, 49, 51, 44, 46, 50, 52, 46, 42, 53, 59, 59, 47, 39, 48, 47, 49,\n",
       "       51, 54, 52, 50, 53, 52, 48, 54, 59, 61, 52, 48, 55, 55, 57, 49, 54,\n",
       "       48, 48, 56, 53, 44, 56, 52, 53, 50, 51, 50, 59, 58, 55, 47, 58, 48,\n",
       "       48, 39, 53, 43, 54, 60, 55, 51, 59, 53, 52, 64, 52, 59, 48, 53, 55,\n",
       "       45, 52, 53, 49, 54, 46, 49, 50, 50, 41, 57, 45, 63, 62, 38, 57, 51,\n",
       "       41, 51, 43, 44, 52, 49, 42, 53, 50, 45, 47, 54, 51, 51, 57, 46, 56,\n",
       "       46, 54, 49, 45, 52, 47, 40, 44, 43, 49, 50, 47, 48, 47, 58, 55, 53,\n",
       "       52, 54, 46, 46, 50, 47, 47, 45, 46, 45, 52, 53, 53, 45, 51, 47, 55,\n",
       "       46, 47, 47, 52, 53, 55, 47, 52, 52, 46, 51, 40, 54, 47, 43, 54, 45,\n",
       "       53, 54, 44, 51, 47, 49, 51, 51, 52, 50, 46, 54, 52, 44, 45, 52, 53,\n",
       "       49, 55, 54, 47, 61, 48, 47, 45, 56, 48, 43, 54, 61, 52, 53, 51, 50,\n",
       "       45, 50, 54, 47, 47, 45, 44, 51, 52, 44, 50, 51, 44, 44, 48, 53, 50,\n",
       "       52, 52, 54, 51, 56, 55, 44, 45, 43, 49, 45, 51, 46, 51, 56, 52, 49,\n",
       "       56, 44, 44, 51, 50, 48, 46, 53, 50, 55, 50, 52, 37, 51, 47, 34, 56,\n",
       "       58, 46, 49, 54, 53, 50, 52, 43, 46, 54, 53, 45, 45, 44, 50, 48, 59,\n",
       "       49, 50, 46, 48, 50, 48, 46, 41, 54, 45, 57, 48, 53, 51, 47, 46, 56,\n",
       "       44, 42, 47, 50, 53, 52, 47, 50, 44, 44, 42, 52, 52, 49, 39, 46, 65,\n",
       "       45, 52, 54, 53, 55, 53, 54, 49, 50, 50, 48, 46, 45, 49, 53, 53, 47,\n",
       "       46, 45, 47, 50, 56, 46, 48, 52, 39, 58, 51, 52, 56, 54, 47, 54, 52,\n",
       "       37, 51, 45, 48, 57, 52, 51, 48, 40, 56, 59, 48, 60, 47, 41, 55, 55,\n",
       "       47, 48, 48, 47, 47, 51, 48, 57, 55, 52, 49, 57, 43, 55, 44, 47, 48,\n",
       "       42, 58, 61, 50, 51, 55, 50, 42, 52, 50, 43, 50, 46, 44, 46, 50, 56,\n",
       "       50, 48, 52, 44, 55, 47, 52, 51, 56, 54, 48, 47, 52, 53, 41, 51, 49,\n",
       "       48, 50, 45, 51, 39, 51, 47, 51, 49, 40, 46, 47, 50, 51, 57, 56, 46,\n",
       "       51, 55, 57, 58, 53, 46, 47, 51, 53, 51, 53, 58, 52, 52, 46, 49, 53,\n",
       "       44, 49, 42, 37, 49, 40, 51, 48, 52, 42, 53, 44, 54, 41, 42, 53, 49,\n",
       "       55, 41, 48, 54, 52, 43, 51, 44, 47, 50, 35, 43, 53, 57],\n",
       "      dtype=int64)"
      ]
     },
     "execution_count": 6,
     "metadata": {},
     "output_type": "execute_result"
    }
   ],
   "source": [
    "rng = np.random.default_rng()\n",
    "n, p = 100, .5  # number of trials, probability of each trial\n",
    "s = rng.binomial(n, p, 1000)\n",
    "# result of flipping a coin 10 times, tested 10000 times.\n",
    "s\n",
    "# plt.hist(s, bins=10, range=None, rwidth=None, color=None, label=\"tEST\")\n"
   ]
  },
  {
   "cell_type": "markdown",
   "metadata": {},
   "source": [
    "## Test Function"
   ]
  },
  {
   "cell_type": "code",
   "execution_count": null,
   "metadata": {},
   "outputs": [],
   "source": []
  },
  {
   "cell_type": "code",
   "execution_count": null,
   "metadata": {},
   "outputs": [],
   "source": []
  },
  {
   "cell_type": "markdown",
   "metadata": {},
   "source": [
    "## Plot Results"
   ]
  },
  {
   "cell_type": "code",
   "execution_count": 11,
   "metadata": {},
   "outputs": [
    {
     "data": {
      "text/plain": [
       "Text(0.5, 1.0, 'Binomial Distribution')"
      ]
     },
     "execution_count": 11,
     "metadata": {},
     "output_type": "execute_result"
    },
    {
     "data": {
      "image/png": "[encoded data removed]",
      "text/plain": [
       "<Figure size 432x288 with 1 Axes>"
      ]
     },
     "metadata": {},
     "output_type": "display_data"
    }
   ],
   "source": [
    "# set the style\n",
    "sns.set_style(\"white\")\n",
    "\n",
    "\n",
    "# create the plot\n",
    "sns.distplot(s, kde=False, color='green')\n",
    "plt.xlabel(\"Distribution\") \n",
    "plt.ylabel(\"Density\")\n",
    "plt.title(\"Binomial Distribution\", fontsize=15)\n"
   ]
  },
  {
   "cell_type": "markdown",
   "metadata": {},
   "source": [
    "The above graph plots the number of successful trialls against the number of trialls totally. It shows that the distribution is normally distributed when the probability is 0.5.\n",
    "\n",
    "There are many real word instances of binomial distributions. e.g drug trial - it works or doesnt, lottery ticket - you win or dont. It can be used to predict any situation in which success or failure are an option.\n",
    "\n",
    "https://seaborn.pydata.org/generated/seaborn.set_style.html"
   ]
  },
  {
   "cell_type": "markdown",
   "metadata": {},
   "source": [
    "## Results\n",
    "\n",
    "\n",
    "\n",
    "## Conclusions\n",
    "\n",
    " ## Central limit theorem\n",
    " \n",
    " \n",
    " https://en.wikipedia.org/wiki/Central_limit_theorem\n"
   ]
  },
  {
   "cell_type": "markdown",
   "metadata": {},
   "source": [
    "\n",
    "# References - Task 3\n",
    "\n",
    "\n",
    "-----------------\n",
    "[1] python-accept-list-input-from-user; pynative; https://pynative.com/python-accept-list-input-from-user/\n",
    "\n",
    "\n",
    "\n",
    "\n",
    "------------------------"
   ]
  },
  {
   "cell_type": "markdown",
   "metadata": {},
   "source": [
    "## Task 4: Simpsons Paradox\n",
    "-------------\n",
    "\n",
    "\"Simpsons Paradox is a phenomenon in probability and statistics, in which a trend appears in several different groups of data but disappears or reverses when these groups are combined.\" https://en.wikipedia.org/wiki/Simpson%27s_paradox\n",
    "\n",
    "It is named after Edward H. Simpson after he described it in a paper in 1951. It had been previously observed. \n",
    "\n",
    "It is a common phenomonon in statistics. One of the best known examples is the \"UC Berkley gender bias\" where if you take the percentage of applicants accempted into the university it seems as if Women are discriminated against. However if you take a more detailed look into individual departments it shows that this is actually a result of more women choosing compettivie programs and the pooled and corrected data showed a \"small but statistically significant bias in favor of women\" https://homepage.stat.uiowa.edu/~mbognar/1030/Bickel-Berkeley.pdf\n",
    "\n",
    "\n",
    "Below is some data and plots to explain the phenomenon. \n"
   ]
  },
  {
   "cell_type": "markdown",
   "metadata": {},
   "source": [
    "First we will plot a set of values and find its "
   ]
  },
  {
   "cell_type": "code",
   "execution_count": null,
   "metadata": {},
   "outputs": [],
   "source": [
    "# Set style\n",
    "plt.style.use(\"ggplot\")"
   ]
  },
  {
   "cell_type": "code",
   "execution_count": null,
   "metadata": {},
   "outputs": [],
   "source": [
    "# Create points\n",
    "\n",
    "N = 30 # Number of points created\n",
    "x1 = np.linspace(0, 10, N) # create x values\n",
    "a = -1 # generate negative slope\n",
    "b = 1\n",
    "y1 = a*x1 + b # create corrosponding y values\n",
    "\n",
    "\n",
    "x1 # Show x1 values\n"
   ]
  },
  {
   "cell_type": "code",
   "execution_count": null,
   "metadata": {},
   "outputs": [],
   "source": [
    "y1 # show y values"
   ]
  },
  {
   "cell_type": "code",
   "execution_count": null,
   "metadata": {},
   "outputs": [],
   "source": [
    "# plot data\n",
    "\n",
    "plt.plot(x1, y1, 'gx')\n",
    "plt.show()\n"
   ]
  },
  {
   "cell_type": "markdown",
   "metadata": {},
   "source": [
    "The plot above shows a posotive slope on the x axis. \n",
    "https://numpy.org/doc/stable/reference/generated/numpy.linspace.html\n",
    "\n",
    "--------------"
   ]
  },
  {
   "cell_type": "code",
   "execution_count": null,
   "metadata": {},
   "outputs": [],
   "source": [
    "# Create points\n",
    "\n",
    "x1 = np.linspace(0, 10, 30) # create x values\n",
    "a = -1 # generate negative slope\n",
    "b = 1\n",
    "y = (a * x1) + b # create corrosponding y values\n",
    "noise = np.random.normal(0, 0.2, len(x1))\n",
    "y1 = y + noise \n",
    "\n",
    "\n",
    "plt.plot(x1, y1, 'gx', label=\"plot 1\")\n",
    "\n",
    "plt.show()\n"
   ]
  },
  {
   "cell_type": "markdown",
   "metadata": {},
   "source": [
    "Adding in random noise using `numpy.random.normal` we can create a more realistic data set for a better demonstration of the effect. It gives a data set that is more representive of the realworld. "
   ]
  },
  {
   "cell_type": "code",
   "execution_count": null,
   "metadata": {},
   "outputs": [],
   "source": [
    "coeffs1 = np.polyfit(x1, y1, 1)\n",
    "plt.plot(x1, y1, 'gx', label=\"plot 1\")\n",
    "plt.plot(x1, coeffs1[0] * x1 + coeffs1[1], \"g-\", label=\"Best fit\")"
   ]
  },
  {
   "cell_type": "markdown",
   "metadata": {},
   "source": [
    "Using `np.polyfit()` we can get the coeffeciants of x and y and use them to plot the best fit line of the data as shown above. "
   ]
  },
  {
   "cell_type": "code",
   "execution_count": null,
   "metadata": {},
   "outputs": [],
   "source": [
    "y1"
   ]
  },
  {
   "cell_type": "markdown",
   "metadata": {},
   "source": [
    "check y values to see where next a value needs to be. For the correct phenomen the first y2 value will need to be above -1. \n",
    "\n",
    "Set \"a\" as -0.1. "
   ]
  },
  {
   "cell_type": "code",
   "execution_count": null,
   "metadata": {},
   "outputs": [],
   "source": [
    "# Graph 3 more functions \n",
    "\n",
    "plt.figure(figsize=(20,6)) # set figure size\n",
    "\n",
    "plt.subplot(1,3,1) \n",
    "N = 30 # Number of points created\n",
    "x2 = np.linspace(10, 20, N) # create x values\n",
    "a = -0.1 # generate negative slope\n",
    "b = 2\n",
    "y = a * x2 + b # create corrosponding y values\n",
    "noise = np.random.normal(0, 0.2, len(x2))\n",
    "y2 = y + noise \n",
    "\n",
    "coeffs2 = np.polyfit(x2, y2, 1)\n",
    "plt.plot(x2, y2, 'yx', label=\"plot 2\")\n",
    "plt.plot(x2, coeffs2[0] * x2 + coeffs2[1], \"y-\", label=\"Best fit\")\n",
    "\n",
    "\n",
    "\n",
    "plt.subplot(1,3,2) \n",
    "\n",
    "N = 30 # Number of points created\n",
    "x3 = np.linspace(20, 30, N) # create x values\n",
    "a = -0.3 # generate negative slope\n",
    "b = 10\n",
    "y = a * x3 + b # create corrosponding y values\n",
    "noise = np.random.normal(0, 0.2, len(x3))\n",
    "y3 = y + noise\n",
    "\n",
    "coeffs3 = np.polyfit(x3, y3, 1)\n",
    "plt.plot(x3, y3, 'bx', label=\"plot 3\")\n",
    "plt.plot(x3, coeffs3[0] * x3 + coeffs3[1], \"b-\", label=\"Best fit\")\n",
    "\n",
    "plt.subplot(1,3,3) \n",
    "\n",
    "N = 30 # Number of points created\n",
    "x4 = np.linspace(30, 40, N) # create x values\n",
    "a = -0.4 # generate negative slope\n",
    "b = 25\n",
    "y = a * x4 + b # create corrosponding y values\n",
    "noise = np.random.normal(0, 0.2, len(x4))\n",
    "y4 = y + noise \n",
    "\n",
    "coeffs4 = np.polyfit(x4, y4, 1)\n",
    "plt.plot(x4, y4, 'cx', label=\"plot 4\")\n",
    "plt.plot(x4, coeffs4[0] * x4 + coeffs4[1], \"c-\", label=\"Best fit\")"
   ]
  },
  {
   "cell_type": "markdown",
   "metadata": {},
   "source": [
    "This shows all 3 graphs, each showing similar slopes. It would be possible to comclude that this is...."
   ]
  },
  {
   "cell_type": "code",
   "execution_count": null,
   "metadata": {},
   "outputs": [],
   "source": [
    "# Graph all data on one graph\n",
    "plt.figure(figsize=(20,10)) \n",
    "\n",
    "\n",
    "plt.plot(x1, y1, 'gx', label=\"x1,y1\")\n",
    "plt.plot(x2, y2, 'yx', label=\"x2,y2\")\n",
    "plt.plot(x3, y3, 'bx', label=\"x3,y3\")\n",
    "plt.plot(x4, y4, 'cx', label=\"x4,y4\")\n",
    "plt.legend()"
   ]
  },
  {
   "cell_type": "markdown",
   "metadata": {},
   "source": [
    "<b>\n",
    "\n",
    "#### Combine data sets"
   ]
  },
  {
   "cell_type": "code",
   "execution_count": null,
   "metadata": {},
   "outputs": [],
   "source": [
    "# Concatenate all x and y values\n",
    "x_con = np.concatenate((x1, x2, x3, x4))\n",
    "y_con = np.concatenate((y1, y2, y3, y4))\n",
    "\n",
    "# Calculate coefficients\n",
    "coeffs = np.polyfit(x_con, y_con, 1)\n",
    "coeffs"
   ]
  },
  {
   "cell_type": "code",
   "execution_count": null,
   "metadata": {},
   "outputs": [],
   "source": [
    "#Plot all data sets with combined best fit line\n",
    "plt.figure(figsize=(20,10))\n",
    "\n",
    "plt.plot(x1, y1, 'gx', label=\"x1,y1\")\n",
    "plt.plot(x1, coeffs1[0] * x1 + coeffs1[1], \"g-\", label=\"Best fit 1\")\n",
    "plt.plot(x2, y2, 'yx', label=\"x2,y2\")\n",
    "plt.plot(x2, coeffs2[0] * x2 + coeffs2[1], \"y-\", label=\"Best fit 2\")\n",
    "plt.plot(x3, y3, 'bx', label=\"x3,y3\")\n",
    "plt.plot(x3, coeffs3[0] * x3 + coeffs3[1], \"b-\", label=\"Best fit 3\")\n",
    "plt.plot(x4, y4, 'cx', label=\"x4,y4\")\n",
    "plt.plot(x4, coeffs4[0] * x4 + coeffs4[1], \"c-\", label=\"Best fit 4\")\n",
    "\n",
    "# create combined best fit line\n",
    "plt.plot(x_array, coeffs[0] * x_array + coeffs[1], 'm-', label='Best fit Combined')\n",
    "plt.legend();"
   ]
  },
  {
   "cell_type": "code",
   "execution_count": null,
   "metadata": {},
   "outputs": [],
   "source": [
    "# Add best fit line. "
   ]
  },
  {
   "cell_type": "markdown",
   "metadata": {},
   "source": [
    "## Results\n",
    "\n",
    "Reversal of trend. \n",
    "\n",
    "Proof of simpsons paradox. \n",
    "\n",
    "Posotive corrolation vs negative correlation\n",
    "\n",
    "mirrors results of paper..... \n",
    "\n",
    "\n",
    "\n",
    "## Conclusions\n"
   ]
  },
  {
   "cell_type": "markdown",
   "metadata": {},
   "source": [
    "\n",
    "# References - Task 4\n",
    "\n",
    "\n",
    "-----------------\n",
    "[1] python-accept-list-input-from-user; pynative; https://pynative.com/python-accept-list-input-from-user/\n",
    "\n",
    "\n",
    "\n",
    "\n",
    "------------------------"
   ]
  }
 ],
 "metadata": {
  "kernelspec": {
   "display_name": "Python 3",
   "language": "python",
   "name": "python3"
  },
  "language_info": {
   "codemirror_mode": {
    "name": "ipython",
    "version": 3
   },
   "file_extension": ".py",
   "mimetype": "text/x-python",
   "name": "python",
   "nbconvert_exporter": "python",
   "pygments_lexer": "ipython3",
   "version": "3.8.3"
  }
 },
 "nbformat": 4,
 "nbformat_minor": 4
}
