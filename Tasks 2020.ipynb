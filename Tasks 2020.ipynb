{
 "cells": [
  {
   "cell_type": "markdown",
   "metadata": {},
   "source": [
    "# <p style=\"text-align: center;\">Fundamentals of Data Analytics: Tasks 2020 </p>\n",
    "<img src=\"https://i0.wp.com/www.creatingentrepreneursinfood.eu/wp-content/uploads/2017/02/GMIT-logo.png\" alt=\"gmit\" style=\"width: 200px;\"/>\n",
    "\n",
    "\n",
    "\n",
    "**<p style=\"text-align: center;\">Eoin Lees - G00387888 - December 18th 2020</p>**\n",
    "\n",
    "--------------\n"
   ]
  },
  {
   "cell_type": "markdown",
   "metadata": {},
   "source": [
    "# Task 1: Counts function\n",
    "---------------------\n",
    "\n",
    "**October 5th, 2020:** Write a Python function called counts that takes a list as\n",
    "input and returns a dictionary of unique items in the list as keys and the number of\n",
    "times each item appears as values. So, the input `['A', 'A', 'B', 'C', 'A']`\n",
    "should have output `{'A': 3, 'B': 1, 'C': 1}`. Your code should not depend\n",
    "on any module from the standard library1 or otherwise. You should research\n",
    "the task first and include a description with references of your algorithm in the\n",
    "notebook.\n",
    "\n",
    "--------------------"
   ]
  },
  {
   "cell_type": "markdown",
   "metadata": {},
   "source": [
    "## Define Function"
   ]
  },
  {
   "cell_type": "code",
   "execution_count": 1,
   "metadata": {},
   "outputs": [],
   "source": [
    "# Define Function\n",
    "\n",
    "def counts(x):\n",
    "    # create final list(dict) to be filled in for loop\n",
    "    finalList = {}\n",
    "    # Iterate\n",
    "    for i in x:\n",
    "        # see if i is already in finalList\n",
    "        if i in finalList:\n",
    "            # add one to i count if so\n",
    "            finalList[i] += 1\n",
    "        else:\n",
    "            # create i in finalList and set its value to 1 \n",
    "            finalList[i] = 1\n",
    "    \n",
    "    return finalList    "
   ]
  },
  {
   "cell_type": "markdown",
   "metadata": {},
   "source": [
    "This is how the `counts(x)` function works:\n",
    "\n",
    "* It takes a list as an input \"x\". \n",
    "* It creates a dictionary `finalList` to store all of the inputs.[[2]](https://realpython.com/python-dicts/)\n",
    "* It checks if each item \"i\" in the input list \"x\" is in the `finalList`\n",
    "    * If it is, it adds 1 to its count.\n",
    "    * if it's not, it creates the item \"i\" in the `finalList` and sets its count to 1. [[3]](https://stackabuse.com/python-get-number-of-elements-in-a-list/)\n",
    "* Once all items are iterated through it returns the `finalList` with each element counted in the correct format. \n",
    "\n",
    "Examples of how this function works are shown below.\n"
   ]
  },
  {
   "cell_type": "markdown",
   "metadata": {},
   "source": [
    "## Test function"
   ]
  },
  {
   "cell_type": "code",
   "execution_count": 2,
   "metadata": {},
   "outputs": [],
   "source": [
    "#Define Lists\n",
    "testListOne = [\"A\", \"A\", \"B\", \"C\", \"A\"]\n",
    "testListTwo = [\"Car\", \"Bar\", \"Toy\", \"Car\", \"Car\", \"Bar\"]\n",
    "testListThree = [\"12\", \"4\", \"12\", \"15\", \"4\", \"4\", \"4\",\"4\"]\n",
    "testListFour = [1,2,3,4,3,2,3,4,5,6,4,3,2]"
   ]
  },
  {
   "cell_type": "code",
   "execution_count": 3,
   "metadata": {},
   "outputs": [
    {
     "data": {
      "text/plain": [
       "{'A': 3, 'B': 1, 'C': 1}"
      ]
     },
     "execution_count": 3,
     "metadata": {},
     "output_type": "execute_result"
    }
   ],
   "source": [
    "# Test list 1\n",
    "counts(testListOne)"
   ]
  },
  {
   "cell_type": "code",
   "execution_count": 4,
   "metadata": {},
   "outputs": [
    {
     "data": {
      "text/plain": [
       "{'Car': 3, 'Bar': 2, 'Toy': 1}"
      ]
     },
     "execution_count": 4,
     "metadata": {},
     "output_type": "execute_result"
    }
   ],
   "source": [
    "# Test list 2\n",
    "counts(testListTwo)"
   ]
  },
  {
   "cell_type": "code",
   "execution_count": 5,
   "metadata": {},
   "outputs": [
    {
     "data": {
      "text/plain": [
       "{'12': 2, '4': 5, '15': 1}"
      ]
     },
     "execution_count": 5,
     "metadata": {},
     "output_type": "execute_result"
    }
   ],
   "source": [
    "# Test list 3\n",
    "counts(testListThree)"
   ]
  },
  {
   "cell_type": "code",
   "execution_count": 6,
   "metadata": {},
   "outputs": [
    {
     "data": {
      "text/plain": [
       "{1: 1, 2: 3, 3: 4, 4: 3, 5: 1, 6: 1}"
      ]
     },
     "execution_count": 6,
     "metadata": {},
     "output_type": "execute_result"
    }
   ],
   "source": [
    "# Test list 4\n",
    "counts(testListFour)"
   ]
  },
  {
   "cell_type": "markdown",
   "metadata": {},
   "source": [
    "### Input function\n",
    "\n",
    "Below is a cell that calls for an input list to be given.[[4]](https://pynative.com/python-accept-list-input-from-user/) It allows for the `counts(x)` function to be tested in real time. It takes the input and splits each word or number into a seperate item in the list. [[5]](https://www.w3schools.com/python/ref_string_split.asp)\n",
    "\n",
    "To run it hit \"shift + return\" and it will request an input. \n",
    "\n",
    "For convience here is a sample list to copy and past as input:\n",
    "\n",
    "                        Eoin Eoin Eoin Bob Bob Mary Mary Sue Eoin Mary 1 1 2 45 45 45 45\n",
    "                       \n",
    "You will recieve an output of the following:\n",
    "\n",
    "                        {'Eoin': 4, 'Bob': 2, 'Mary': 3, 'Sue': 1, '1': 2, '2': 1, '45': 4}"
   ]
  },
  {
   "cell_type": "code",
   "execution_count": 7,
   "metadata": {},
   "outputs": [
    {
     "name": "stdout",
     "output_type": "stream",
     "text": [
      "Enter a number of letters, numbers or words seperated by a space: 12\n"
     ]
    },
    {
     "data": {
      "text/plain": [
       "{'12': 1}"
      ]
     },
     "execution_count": 7,
     "metadata": {},
     "output_type": "execute_result"
    }
   ],
   "source": [
    "# Test List from input [1]\n",
    "List = input(\"Enter a number of letters, numbers or words seperated by a space: \")\n",
    "inputList = List.split()\n",
    "\n",
    "#print(userList)\n",
    "counts(inputList)"
   ]
  },
  {
   "cell_type": "markdown",
   "metadata": {},
   "source": [
    "## Alternate method\n",
    "----------------"
   ]
  },
  {
   "cell_type": "code",
   "execution_count": 8,
   "metadata": {},
   "outputs": [
    {
     "name": "stdout",
     "output_type": "stream",
     "text": [
      "{'Car': 3, 'Bar': 2, 'Toy': 1}\n"
     ]
    }
   ],
   "source": [
    "num = [\"Car\", \"Bar\", \"Toy\", \"Car\", \"Car\", \"Bar\"]\n",
    "\n",
    "def countsAlt(L):\n",
    "    print(dict((i, L.count(i)) for i in L))\n",
    "countsAlt(num)"
   ]
  },
  {
   "cell_type": "code",
   "execution_count": 9,
   "metadata": {},
   "outputs": [
    {
     "name": "stdout",
     "output_type": "stream",
     "text": [
      "{'A': 3, 'B': 1, 'C': 1}\n"
     ]
    }
   ],
   "source": [
    "countsAlt(testListOne)"
   ]
  },
  {
   "cell_type": "markdown",
   "metadata": {},
   "source": [
    "This alternate method uses the count() function built into python. [[1]](https://docs.python.org/3/tutorial/datastructures.html) \n",
    "\n",
    "* list.count(x)\n",
    "        Return the number of times x appears in the list.\n",
    "\n",
    "It is much more straight forward. It functions the same as the above method. "
   ]
  },
  {
   "cell_type": "markdown",
   "metadata": {},
   "source": [
    "## Results\n",
    "\n",
    "Both of the methods take an input list and return an output of unique items with the number of occurances of each item.\n",
    "\n",
    "This was achieved without calling and external functions. \n",
    "\n",
    "They fulfill the brief. \n",
    "\n",
    "## Conclusions\n",
    "\n",
    "Both of these functions achieve the brief. Testing has been undertaken to see if there are any issues with inpuit types,but no issues were discovered.  \n",
    "\n",
    "It is possible to achieve the same results by calling external functions like `numpy.unique` [[6]](https://numpy.org/devdocs/reference/generated/numpy.unique.html) or `collections.Counter()` [[7]](https://docs.python.org/3/library/collections.html#collections.Counter). However it was specifically stated that this was not allowed in the brief. \n",
    "\n",
    "Further work:\n",
    "* Further extensive testing on limits of function may be needed.\n",
    "* A seperate function could be created to have an input without calling for it. \n",
    "\n",
    "Either function can now be called anywhere else on this jupyter workbook. eg. Task 2. \n",
    "\n",
    "---------------------"
   ]
  },
  {
   "cell_type": "markdown",
   "metadata": {},
   "source": [
    "\n",
    "# References - Task 1\n",
    "\n",
    "[1] More on Lists; Python Software Foundation; https://docs.python.org/3/tutorial/datastructures.html\n",
    "\n",
    "[2] Dictionaries in Python; Real Python; https://realpython.com/python-dicts/\n",
    "\n",
    "[3] Python: Get Number of Elements in a List; Stack Abuse; https://stackabuse.com/python-get-number-of-elements-in-a-list/\n",
    "\n",
    "[4] Python Accept list as an input from a user; pynative.com; https://pynative.com/python-accept-list-input-from-user/\n",
    "\n",
    "[5] Python String split() Method; Refsnes Data; https://www.w3schools.com/python/ref_string_split.asp\n",
    "\n",
    "[6] numpy.unique; The SciPy community; https://numpy.org/devdocs/reference/generated/numpy.unique.html\n",
    "\n",
    "[7] collections.Counter; Python Software Foundation; https://docs.python.org/3/library/collections.html#collections.Counter\n",
    "\n",
    "--------------------\n"
   ]
  },
  {
   "cell_type": "markdown",
   "metadata": {},
   "source": [
    "## Task 2: Dicerolls function\n",
    "-------------\n",
    "\n",
    "**November 2nd, 2020:** Write a Python function called dicerolls that simulates\n",
    "rolling dice. Your function should take two parameters: the number of dice k and\n",
    "the number of times to roll the dice n. The function should simulate randomly\n",
    "rolling k dice n times, keeping track of each total face value. It should then return\n",
    "a dictionary with the number of times each possible total face value occurred. So,\n",
    "calling the function as diceroll(k=2, n=1000) should return a dictionary like:\n",
    "`{2:19,3:50,4:82,5:112,6:135,7:174,8:133,9:114,10:75,11:70,12:36}`\n",
    "\n",
    "\n",
    "\n",
    "\n",
    "\n",
    "-------------"
   ]
  },
  {
   "cell_type": "markdown",
   "metadata": {},
   "source": [
    "## Introduction\n",
    "\n",
    "This task can be broken down into three parts: \n",
    "\n",
    "1. Create function to for dice rolls: \n",
    "    * Create function ro return random number between 1 and 6 (dice roll)\n",
    "    * Add ability to roll multiple dice\n",
    "    * Sum total of dice rolled\n",
    "    * Add ability to run function \"n\" times \n",
    "    * Return list of added dice\n",
    "    \n",
    "2. Integrate counts function from task 1. \n",
    "3. Print results to screen in correct format. \n",
    "\n",
    "#### Distribution\n",
    "\n",
    "It is important to ensure that the function matches a dice roll as closely as possible. \n",
    "\n",
    "Therefore it is necessary to investigare the distribution of a  \"fair dice\".  In mathematics we say \"fair dice\" when we mean that there is an equally likely chance of landing on any face. [[10]](https://www.mathsisfun.com/geometry/fair-dice.html)\n",
    "\n",
    "**Uniform distribution - discrete**\n",
    "\n",
    "The uniform distribution (discrete) is one of the simplest probability distributions in statistics. It is a\n",
    "discrete distribution, this means that it takes a finite set of possible, e.g. 1, 2, 3, 4, 5 and 6.[[15]](https://www.ucd.ie/msc/t4media/Uniform%20Distribution.pdf)\n",
    "\n",
    "The values are equally likely to be observed; every one of n values has equal probability 1/n. Another way of saying \"discrete uniform distribution\" would be \"a known, finite number of outcomes equally likely to happen\". [[12]](https://en.wikipedia.org/wiki/Discrete_uniform_distribution)\n",
    "\n",
    "Numpy function: [[11]](https://numpy.org/doc/stable/reference/random/generated/numpy.random.randint.html)\n",
    "    numpy.random.randint(low, high=None, size=None, dtype=int)\n",
    "        * return random integers from low (inclusive) to high (exclusive).\n",
    "        * Return random integers from the “discrete uniform” distribution of the specified dtype in the “half-open” interval [low, high). If high is None (the default), then results are from [0, low).\n",
    "     \n",
    "This distribution seems reasonable to use for this function. \n",
    "\n",
    "**Normal distribution**\n",
    "\n",
    "A normal distribution is a type of probability distribution for a real valued random variable. They are often used in natural or social sciences as they can represent real valued random variables that are not known. It is aslo known as the Gaussian distribution. [[13]](https://en.wikipedia.org/wiki/Normal_distribution)\n",
    "\n",
    "\n",
    "Numpy Function: [[14]](https://docs.scipy.org/doc//numpy-1.10.4/reference/generated/numpy.random.normal.html)\n",
    "    numpy.random.normal(loc=0.0, scale=1.0, size=None)\n",
    "        * Draw random samples from a normal (Gaussian) distribution.\n",
    "        \n",
    "This distribution does not seem reasonable to use for this function. \n",
    "\n",
    "**Binomial distribution**\n",
    "\n",
    "It seems logical to suggest that rolling 2 dice would follow a binomial distribution. But a quick search proves this false. [[9]](https://math.stackexchange.com/questions/1204396/why-is-the-sum-of-the-rolls-of-two-dices-a-binomial-distribution-what-is-define) \n",
    "\n",
    "#### Real wrold\n",
    "\n",
    "In a casino setting the fairness of a dice is taken very seriously. They are classed as casino grade and \"very fair dice\".\n",
    "\n",
    "They have the following features:\n",
    "* partly transparent so you can see any bubbles or weights inside\n",
    "* as close as possible to exact cubes\n",
    "* sharp edges and corners\n",
    "* dots filled in, so the weight is the same on each side\n",
    "\n",
    "\n",
    "For the purpose of this exercise we will attempt to model this class of dice as closely as possible. \n",
    "\n",
    "**Choice:**\n",
    "\n",
    "It seems like the distribution that most closely modely this dice is the uniform distribution (discrete). \n",
    "\n"
   ]
  },
  {
   "cell_type": "markdown",
   "metadata": {},
   "source": [
    "## Import functions"
   ]
  },
  {
   "cell_type": "code",
   "execution_count": 10,
   "metadata": {},
   "outputs": [],
   "source": [
    "# Import all functions necessary\n",
    "import seaborn as sns\n",
    "import numpy as np\n",
    "import random\n",
    "import matplotlib.pyplot as plt"
   ]
  },
  {
   "cell_type": "markdown",
   "metadata": {},
   "source": [
    "## Define Function"
   ]
  },
  {
   "cell_type": "code",
   "execution_count": 11,
   "metadata": {},
   "outputs": [],
   "source": [
    "#Define `dice_roll(k)` for a \"k\" number rolls of a dice\n",
    "\n",
    "def dice_roll(k):\n",
    "    sum = 0\n",
    "    for i in range(0,k):\n",
    "        dice = np.random.randint(1,7)\n",
    "        #print(dice) # To test function\n",
    "        sum = sum + dice\n",
    "    return(sum)\n",
    "\n",
    "#Define `dice_rolls(k, n)` for a multiple rolls of the same number of dice. \n",
    "def dice_rolls(k, n):\n",
    "    myList = [dice_roll(k) for _ in range(n)]\n",
    "    return(myList)"
   ]
  },
  {
   "cell_type": "markdown",
   "metadata": {},
   "source": [
    "The above function used the `numpy.random.randint` function. [[11]](https://numpy.org/doc/stable/reference/random/generated/numpy.random.randint.html) \n",
    "\n",
    "The limits are set at 1 and 7 as the lower is inclusive but the upper is not. \n",
    "\n",
    "The first function `dice_roll(k)` is what actually simulates the dice roll. The `dice_rolls(k, n)` function allows you to chose the number of dice you roll, and adds them. It then allows you to repeat this how ever many times you wish. It creates a list for all of these results. \n"
   ]
  },
  {
   "cell_type": "markdown",
   "metadata": {},
   "source": [
    "## Test function"
   ]
  },
  {
   "cell_type": "code",
   "execution_count": 12,
   "metadata": {},
   "outputs": [
    {
     "data": {
      "text/plain": [
       "21"
      ]
     },
     "execution_count": 12,
     "metadata": {},
     "output_type": "execute_result"
    }
   ],
   "source": [
    "# Test function\n",
    "dice_roll(5)"
   ]
  },
  {
   "cell_type": "markdown",
   "metadata": {},
   "source": [
    "Returns total sum of 5 dice rolled. "
   ]
  },
  {
   "cell_type": "code",
   "execution_count": 13,
   "metadata": {},
   "outputs": [
    {
     "data": {
      "text/plain": [
       "[6, 8, 2, 10, 10, 11, 11, 11, 11, 10]"
      ]
     },
     "execution_count": 13,
     "metadata": {},
     "output_type": "execute_result"
    }
   ],
   "source": [
    "#Test function\n",
    "dice_rolls(2, 10)"
   ]
  },
  {
   "cell_type": "markdown",
   "metadata": {},
   "source": [
    "Returns list of total sum of 2 dice rolled, 10 times."
   ]
  },
  {
   "cell_type": "code",
   "execution_count": 14,
   "metadata": {},
   "outputs": [
    {
     "data": {
      "text/plain": [
       "{10: 2, 9: 1, 7: 2, 6: 2, 2: 1, 11: 1, 8: 1}"
      ]
     },
     "execution_count": 14,
     "metadata": {},
     "output_type": "execute_result"
    }
   ],
   "source": [
    "#Run dice_rolls with count\n",
    "counts(dice_rolls(2, 10))"
   ]
  },
  {
   "cell_type": "markdown",
   "metadata": {},
   "source": [
    "#### Comments\n",
    "The above code achieve the desired results however calling the function like this is not what was requested. "
   ]
  },
  {
   "cell_type": "markdown",
   "metadata": {},
   "source": [
    "## Define diceroll() function"
   ]
  },
  {
   "cell_type": "code",
   "execution_count": 15,
   "metadata": {},
   "outputs": [],
   "source": [
    "# Define final Function:\n",
    "def diceroll(k, n):\n",
    "    count = counts(dice_rolls(k, n))\n",
    "    return(count)"
   ]
  },
  {
   "cell_type": "code",
   "execution_count": 16,
   "metadata": {},
   "outputs": [
    {
     "data": {
      "text/plain": [
       "{12: 1, 5: 4, 8: 3, 9: 2}"
      ]
     },
     "execution_count": 16,
     "metadata": {},
     "output_type": "execute_result"
    }
   ],
   "source": [
    "# Test the function\n",
    "diceroll(2,10)"
   ]
  },
  {
   "cell_type": "markdown",
   "metadata": {},
   "source": [
    "#### Comments\n",
    "The `diceroll(k, n)` function achieves the required functionallity of the task. "
   ]
  },
  {
   "cell_type": "code",
   "execution_count": 17,
   "metadata": {},
   "outputs": [],
   "source": [
    "# define input function - Get input from user\n",
    "def input_diceroll():\n",
    "    k = int(input(\"Enter the number of dice you wish to roll: \"))\n",
    "    n = int(input(\"Enter the number of times you wish to do this: \"))\n",
    "    #return function\n",
    "    return diceroll(k,n)"
   ]
  },
  {
   "cell_type": "code",
   "execution_count": 18,
   "metadata": {},
   "outputs": [
    {
     "name": "stdout",
     "output_type": "stream",
     "text": [
      "Enter the number of dice you wish to roll: 2\n",
      "Enter the number of times you wish to do this: 500\n"
     ]
    },
    {
     "data": {
      "text/plain": [
       "{5: 50,\n",
       " 8: 78,\n",
       " 2: 17,\n",
       " 7: 81,\n",
       " 11: 24,\n",
       " 10: 41,\n",
       " 6: 78,\n",
       " 12: 13,\n",
       " 9: 55,\n",
       " 4: 34,\n",
       " 3: 29}"
      ]
     },
     "execution_count": 18,
     "metadata": {},
     "output_type": "execute_result"
    }
   ],
   "source": [
    "# test function\n",
    "x = input_diceroll()\n",
    "x"
   ]
  },
  {
   "cell_type": "markdown",
   "metadata": {},
   "source": [
    "#### Comments\n",
    "The `input_diceroll()` function allows the user to call the function and input any integer they may need. It can be used to test the function for the purpose of this assignment. "
   ]
  },
  {
   "cell_type": "markdown",
   "metadata": {},
   "source": [
    "## Plot results"
   ]
  },
  {
   "cell_type": "code",
   "execution_count": 19,
   "metadata": {},
   "outputs": [
    {
     "data": {
      "text/plain": [
       "Text(0.5, 1.0, 'Dice_rolls function')"
      ]
     },
     "execution_count": 19,
     "metadata": {},
     "output_type": "execute_result"
    },
    {
     "data": {
      "image/png": "[encoded data removed]",
      "text/plain": [
       "<Figure size 432x288 with 1 Axes>"
      ]
     },
     "metadata": {},
     "output_type": "display_data"
    }
   ],
   "source": [
    "# set the style\n",
    "sns.set_style(\"white\")\n",
    "\n",
    "\n",
    "# create the plot\n",
    "sns.countplot(dice_rolls(2,1000), color='green')\n",
    "plt.xlabel(\"sum of flips\") \n",
    "plt.ylabel(\"Number of results in each\")\n",
    "plt.title(\"Dice_rolls function\", fontsize=15)"
   ]
  },
  {
   "cell_type": "markdown",
   "metadata": {},
   "source": [
    "#### Comments\n",
    "\n",
    "The above graph plots the results of the `diceroll(k, n)` function. It was created using seaborn. \n",
    "\n",
    "Use of seaborn cheatsheet for formatting. [[16]](https://s3.amazonaws.com/assets.datacamp.com/blog_assets/Python_Seaborn_Cheat_Sheet.pdf)\n"
   ]
  },
  {
   "cell_type": "markdown",
   "metadata": {},
   "source": [
    "## Results\n",
    "\n",
    "The `diceroll(k, n)` Achieves the requested functionality of Task 2. \n",
    "\n",
    "It successfully takes two parameters, k= number of dice and n= number of times to roll the dice, and returns them in a dictionary with the number of times each possible total face value occurred. \n",
    "\n",
    "## Conclusions\n",
    "\n",
    "The function was coded successfully.\n",
    "\n",
    "Plotting the results of 1000 dice rolls of two dice and plotting it reveals a distribution like this: [[9]](https://math.stackexchange.com/questions/1204396/why-is-the-sum-of-the-rolls-of-two-dices-a-binomial-distribution-what-is-define)\n",
    "<br>\n",
    "<br>\n",
    "<img src=\"https://i.stack.imgur.com/DNhaf.png\" alt=\"dice\" style=\"width: 400px ;\"/>\n",
    "\n",
    "#### Why is it normally distributed?\n",
    "\n",
    "**Central Limit Theorem**  [[17]](https://en.wikipedia.org/wiki/Central_limit_theorem)\n",
    "\n",
    "After some research being unsure of why this was occuring I came across this theorem that cleared it up. \n",
    "\n",
    "\"In probability theory, the central limit theorem (CLT) establishes that, in many situations, when independent random variables are added, their properly normalized sum tends toward a normal distribution (informally a bell curve) even if the original variables themselves are not normally distributed.\"\n",
    "\n",
    "The central Limit theorem is investigated further in Task 3. \n"
   ]
  },
  {
   "cell_type": "markdown",
   "metadata": {},
   "source": [
    "\n",
    "# References - Task 2\n",
    "\n",
    "[8] Generate pseudo-random numbers; https://docs.python.org/3/library/random.html\n",
    "\n",
    "[9] Why is the sum of the rolls of two dices a Binomial Distribution?;  Stack Exchange Inc; https://math.stackexchange.com/questions/1204396/why-is-the-sum-of-the-rolls-of-two-dices-a-binomial-distribution-what-is-define\n",
    "\n",
    "[10] Fair Dice; MathsIsFun.com; https://www.mathsisfun.com/geometry/fair-dice.html\n",
    "\n",
    "[11] numpy.random.randint; The SciPy community; https://numpy.org/doc/stable/reference/random/generated/numpy.random.randint.html\n",
    "\n",
    "[12] Discrete uniform distribution; Wikipedia; https://en.wikipedia.org/wiki/Discrete_uniform_distribution\n",
    "\n",
    "[13] Normal Distribution;  Wikipedia;  https://en.wikipedia.org/wiki/Normal_distribution\n",
    "\n",
    "[14] numpy.random.normal; The SciPy community; https://docs.scipy.org/doc//numpy-1.10.4/reference/generated/numpy.random.normal.html\n",
    "\n",
    "[15] Uniform Distribution (Discrete); UCD Maths support centre; https://www.ucd.ie/msc/t4media/Uniform%20Distribution.pdf\n",
    "\n",
    "[16] Python For Data Science Cheat Sheet; Datacamp; https://s3.amazonaws.com/assets.datacamp.com/blog_assets/Python_Seaborn_Cheat_Sheet.pdf\n",
    "\n",
    "[17] Central limit theorem; Wikipedia;  https://en.wikipedia.org/wiki/Central_limit_theorem\n",
    "\n",
    "---------------------------"
   ]
  },
  {
   "cell_type": "markdown",
   "metadata": {},
   "source": [
    "## Task 3: numpy.random.binomial\n",
    "-------------\n",
    "\n",
    "**November 16th, 2020:** The numpy.random.binomial function can be used to\n",
    "simulate flipping a coin with a 50/50 chance of heads or tails. Interestingly, if a\n",
    "coin is flipped many times then the number of heads is well approximated by a\n",
    "bell-shaped curve. For instance, if we flip a coin 100 times in a row the chance of\n",
    "getting 50 heads is relatively high, the chances of getting 0 or 100 heads is relatively\n",
    "low, and the chances of getting any other number of heads decreases as you move\n",
    "away from 50 in either direction towards 0 or 100. Write some python code that\n",
    "simulates flipping a coin 100 times. Then run this code 1,000 times, keeping track\n",
    "of the number of heads in each of the 1,000 simulations. Select an appropriate\n",
    "plot to depict the resulting list of 1,000 numbers, showing that it roughly follows\n",
    "a bell-shaped curve. You should explain your work in a Markdown cell above the\n",
    "code.\n",
    "\n",
    "-----------"
   ]
  },
  {
   "cell_type": "markdown",
   "metadata": {},
   "source": [
    "## Introduction\n",
    "\n",
    "#### Coin flip\n",
    "\n",
    "A coin flip simulation is a perfect example of a binomial distribution in action. The results of a coin flip are alway either \"heads\" or \"tails\". If the coin is presumed fair it has an equal chance of being either side. I.e a probability of 50%. In python the `numpy.random.binomial` perfectly models this behaviour. \n",
    "\n",
    "**Binomial Distribution**\n",
    "\n",
    "\"The binomial distribution with parameters n and p is the discrete probability distribution of the number of successes in a sequence of n independent experiments, each asking a yes–no question, and each with its own Boolean-valued outcome: success (with probability p) or failure (with probability q = 1 − p).\"[[19]](https://en.wikipedia.org/wiki/Binomial_distribution)\n",
    "\n",
    "In simple terms a binomial distribution takes a number of experiments, and teh probability of success in each single one and returns a series of yes/no results. In the case of the python function below it returns 1's or 0's to represent yes/no. \n",
    "\n",
    "There are many real word instances of binomial distributions. e.g drug trial - it works or doesnt, lottery ticket - you win or dont. It can be used to predict any situation in which success or failure are an option.\n",
    "\n",
    "Function: numpy.random.binomial(n, p, size=None)[[18]](https://numpy.org/doc/stable/reference/random/generated/numpy.random.binomial.html)\n",
    "* Draw samples from a binomial distribution.\n",
    "* Returns: drawn samples from the parameterized binomial distribution, where each sample is equal to the number of successes over the n trials.\n",
    "* Samples are drawn in the interval [0,1].\n",
    "\n",
    "#### Purpose? Task? \n",
    "\n",
    "The purpose of this task is to investigate the results of 100 coin flips 1000 times and explain any phenomenon that are apparent from the results. \n",
    "\n"
   ]
  },
  {
   "cell_type": "markdown",
   "metadata": {},
   "source": [
    "## Import functions"
   ]
  },
  {
   "cell_type": "code",
   "execution_count": 20,
   "metadata": {},
   "outputs": [],
   "source": [
    "# Import all functions necessary\n",
    "import numpy as np"
   ]
  },
  {
   "cell_type": "markdown",
   "metadata": {},
   "source": [
    "## Define function"
   ]
  },
  {
   "cell_type": "code",
   "execution_count": 46,
   "metadata": {
    "scrolled": true
   },
   "outputs": [],
   "source": [
    "def coinFlipTest(n,p,t):\n",
    "    rng = np.random.default_rng()\n",
    "    s = rng.binomial(n, p, t)\n",
    "    return s"
   ]
  },
  {
   "cell_type": "markdown",
   "metadata": {},
   "source": [
    "#### Function explination\n",
    "\n",
    "The above function comed directly from the `numpy.random.binomial` documentation. [[18]](https://numpy.org/doc/stable/reference/random/generated/numpy.random.binomial.html) It uses `numpy.random.default_rng()` To construct a new Generator with the default BitGenerator (PCG64).\n",
    "\n",
    "It then sets the variables as requested in the task:\n",
    "* n (number of trialls) = 100\n",
    "* p (probability of triall) = 0.5 aka 50/50\n",
    "* t (number of simulations) = 1000\n",
    "\n",
    "`coinFlipTest(n,p,t)` is then defined as `rng.binomial(n, p, t)` where n, p and t are from before.\n",
    "\n",
    "The resulting array is the number of \"1\"'s added up in each trial: 1 represents heads, 0 represents tails, or vice versa. They are listed together for all t number of simulations.  "
   ]
  },
  {
   "cell_type": "markdown",
   "metadata": {},
   "source": [
    "## Test Function"
   ]
  },
  {
   "cell_type": "code",
   "execution_count": 49,
   "metadata": {},
   "outputs": [
    {
     "data": {
      "text/plain": [
       "array([1, 1, 0, 0, 0], dtype=int64)"
      ]
     },
     "execution_count": 49,
     "metadata": {},
     "output_type": "execute_result"
    }
   ],
   "source": [
    "# Test 1\n",
    "coinFlipTest(1,0.5,5)"
   ]
  },
  {
   "cell_type": "markdown",
   "metadata": {},
   "source": [
    "This result shows 1 coin flip 5 times. "
   ]
  },
  {
   "cell_type": "code",
   "execution_count": 68,
   "metadata": {
    "scrolled": true
   },
   "outputs": [
    {
     "data": {
      "text/plain": [
       "array([63, 51, 46, 38, 48, 53, 53, 56, 48, 50, 52, 43, 46, 51, 48, 47, 52,\n",
       "       58, 59, 55, 51, 51, 48, 56, 46, 46, 46, 46, 47, 53, 48, 49, 48, 48,\n",
       "       55, 45, 48, 60, 52, 52, 50, 51, 54, 56, 51, 51, 48, 48, 55, 56, 47,\n",
       "       47, 53, 44, 50, 44, 57, 53, 52, 57, 49, 53, 45, 54, 51, 44, 45, 50,\n",
       "       47, 47, 50, 46, 59, 58, 46, 51, 44, 52, 47, 50, 54, 49, 50, 54, 45,\n",
       "       49, 57, 61, 51, 48, 51, 52, 50, 50, 54, 42, 48, 48, 49, 50, 50, 54,\n",
       "       53, 54, 52, 46, 53, 48, 46, 54, 59, 56, 54, 57, 46, 51, 48, 49, 53,\n",
       "       54, 46, 50, 50, 53, 57, 45, 56, 51, 43, 48, 55, 48, 58, 43, 57, 58,\n",
       "       58, 45, 48, 38, 50, 49, 53, 50, 48, 51, 49, 47, 46, 44, 51, 52, 45,\n",
       "       52, 55, 58, 38, 50, 52, 46, 62, 46, 54, 49, 49, 46, 48, 46, 48, 50,\n",
       "       53, 54, 54, 48, 52, 43, 45, 42, 56, 53, 53, 48, 34, 50, 57, 53, 46,\n",
       "       51, 57, 55, 48, 48, 53, 54, 61, 52, 54, 58, 45, 47, 56, 48, 62, 47,\n",
       "       50, 48, 48, 49, 49, 55, 46, 46, 54, 47, 43, 49, 54, 52, 51, 55, 44,\n",
       "       43, 53, 42, 48, 38, 39, 56, 53, 46, 46, 42, 42, 40, 48, 50, 52, 56,\n",
       "       53, 42, 47, 47, 55, 52, 58, 56, 62, 48, 49, 54, 53, 55, 54, 52, 47,\n",
       "       50, 58, 45, 49, 46, 51, 55, 43, 50, 42, 47, 39, 50, 52, 50, 51, 57,\n",
       "       44, 47, 49, 45, 59, 50, 52, 48, 47, 50, 47, 38, 57, 42, 55, 57, 55,\n",
       "       45, 58, 39, 49, 47, 55, 55, 54, 48, 51, 57, 52, 53, 58, 44, 57, 60,\n",
       "       50, 52, 55, 50, 52, 51, 51, 52, 47, 52, 51, 58, 54, 58, 59, 54, 49,\n",
       "       54, 46, 48, 46, 47, 53, 50, 49, 43, 50, 49, 55, 52, 51, 53, 47, 59,\n",
       "       49, 53, 49, 52, 52, 47, 52, 52, 43, 42, 56, 46, 49, 57, 45, 47, 47,\n",
       "       53, 44, 49, 46, 45, 42, 58, 51, 53, 52, 52, 53, 51, 46, 53, 50, 52,\n",
       "       53, 50, 55, 54, 49, 46, 50, 39, 51, 51, 57, 48, 42, 56, 49, 50, 58,\n",
       "       59, 56, 51, 46, 57, 45, 52, 40, 52, 49, 54, 50, 49, 50, 51, 42, 51,\n",
       "       50, 55, 49, 45, 46, 52, 58, 53, 49, 47, 44, 42, 56, 48, 46, 47, 57,\n",
       "       57, 50, 46, 46, 47, 56, 46, 48, 40, 46, 50, 44, 53, 42, 54, 44, 45,\n",
       "       47, 56, 48, 49, 46, 52, 41, 51, 50, 55, 46, 58, 48, 51, 56, 52, 56,\n",
       "       50, 64, 42, 50, 50, 61, 46, 53, 44, 50, 48, 44, 49, 53, 58, 49, 43,\n",
       "       52, 56, 55, 47, 51, 57, 46, 56, 52, 48, 55, 43, 42, 49, 50, 54, 47,\n",
       "       51, 49, 48, 46, 48, 46, 44, 53, 47, 52, 49, 49, 54, 51, 45, 47, 51,\n",
       "       61, 52, 51, 63, 55, 55, 51, 50, 52, 59, 50, 43, 67, 54, 50, 59, 62,\n",
       "       43, 53, 46, 46, 50, 55, 49, 55, 56, 49, 45, 51, 61, 50, 54, 51, 47,\n",
       "       49, 44, 51, 52, 41, 57, 54, 49, 47, 58, 48, 49, 54, 46, 50, 49, 46,\n",
       "       53, 50, 57, 48, 56, 49, 59, 51, 48, 52, 42, 46, 47, 52, 49, 50, 50,\n",
       "       47, 52, 57, 48, 53, 39, 54, 51, 50, 50, 43, 52, 53, 50, 61, 48, 44,\n",
       "       50, 50, 49, 43, 54, 51, 52, 46, 54, 61, 52, 49, 53, 47, 53, 52, 47,\n",
       "       55, 52, 48, 43, 51, 56, 48, 55, 50, 51, 52, 56, 53, 50, 52, 49, 53,\n",
       "       51, 49, 55, 45, 51, 51, 50, 51, 49, 52, 62, 60, 48, 46, 43, 56, 48,\n",
       "       51, 54, 53, 58, 50, 58, 51, 42, 42, 49, 52, 48, 45, 34, 56, 47, 53,\n",
       "       48, 43, 47, 51, 49, 45, 55, 51, 56, 39, 45, 58, 50, 49, 53, 52, 45,\n",
       "       51, 57, 55, 45, 46, 40, 56, 43, 60, 56, 52, 40, 50, 47, 50, 53, 62,\n",
       "       57, 49, 47, 51, 57, 39, 51, 53, 56, 50, 48, 51, 56, 48, 58, 51, 49,\n",
       "       55, 49, 55, 48, 55, 54, 54, 58, 54, 44, 55, 50, 58, 46, 48, 54, 46,\n",
       "       46, 48, 50, 48, 44, 46, 47, 50, 47, 46, 54, 49, 56, 51, 46, 50, 49,\n",
       "       45, 39, 52, 52, 46, 45, 43, 45, 53, 56, 42, 42, 48, 55, 54, 50, 48,\n",
       "       51, 47, 51, 57, 49, 45, 42, 47, 54, 53, 56, 58, 50, 40, 40, 58, 42,\n",
       "       44, 50, 52, 55, 52, 57, 52, 42, 49, 48, 47, 40, 47, 59, 48, 49, 49,\n",
       "       47, 50, 49, 47, 46, 48, 59, 49, 50, 54, 46, 44, 52, 45, 48, 51, 57,\n",
       "       48, 46, 50, 51, 49, 44, 57, 62, 49, 43, 50, 47, 47, 45, 47, 61, 46,\n",
       "       44, 53, 52, 51, 45, 52, 50, 51, 57, 46, 43, 50, 47, 47, 50, 55, 42,\n",
       "       43, 50, 56, 43, 51, 40, 55, 54, 52, 52, 52, 51, 43, 52, 51, 51, 58,\n",
       "       52, 55, 52, 49, 48, 53, 54, 49, 49, 43, 46, 42, 59, 56, 49, 44, 53,\n",
       "       47, 54, 57, 49, 49, 52, 45, 53, 49, 46, 39, 44, 56, 48, 49, 51, 51,\n",
       "       54, 46, 49, 51, 49, 52, 55, 39, 47, 46, 49, 50, 45, 43, 52, 53, 48,\n",
       "       42, 58, 47, 52, 56, 59, 41, 54, 53, 57, 49, 49, 53, 48, 51, 54, 55,\n",
       "       53, 50, 46, 44, 56, 49, 49, 53, 48, 49, 54, 58, 48, 47, 58, 52, 52,\n",
       "       45, 56, 50, 49, 49, 52, 49, 47, 56, 50, 58, 57, 46, 56, 47, 54, 50,\n",
       "       48, 50, 41, 55, 53, 46, 52, 45, 48, 52, 51, 52, 51, 49, 45, 53, 52,\n",
       "       48, 62, 50, 53, 52, 49, 49, 48, 52, 51, 50, 49, 52, 54],\n",
       "      dtype=int64)"
      ]
     },
     "execution_count": 68,
     "metadata": {},
     "output_type": "execute_result"
    }
   ],
   "source": [
    "# Test 2: flipping a coin 100 times, tested 1000 times.\n",
    "n, p, t = 100, .5, 1000  # number of trials, probability of each trial, number of simulations\n",
    "coinFlipTest(n,p,t)"
   ]
  },
  {
   "cell_type": "markdown",
   "metadata": {},
   "source": [
    "This is the array required for the Task. "
   ]
  },
  {
   "cell_type": "code",
   "execution_count": 95,
   "metadata": {
    "scrolled": true
   },
   "outputs": [
    {
     "data": {
      "text/plain": [
       "array([51, 54, 49, 50, 47, 51, 60, 44, 42, 46, 47, 46, 54, 46, 47, 55, 55,\n",
       "       48, 55, 59, 50, 51, 43, 53, 48, 38, 60, 47, 55, 41, 53, 55, 46, 54,\n",
       "       50, 54, 48, 47, 53, 58, 55, 53, 52, 50, 50, 38, 48, 54, 47, 47, 48,\n",
       "       52, 51, 45, 50, 49, 47, 47, 42, 42, 46, 49, 50, 54, 51, 54, 66, 47,\n",
       "       51, 41, 48, 48, 54, 44, 56, 54, 44, 43, 51, 65, 54, 45, 53, 52, 39,\n",
       "       42, 45, 51, 53, 52, 65, 49, 62, 51, 47, 47, 48, 60, 41, 45, 52, 52,\n",
       "       47, 43, 50, 42, 43, 48, 47, 49, 56, 43, 50, 49, 54, 60, 45, 46, 44,\n",
       "       53, 46, 58, 49, 48, 41, 53, 51, 48, 52, 45, 51, 50, 54, 50, 48, 49,\n",
       "       44, 55, 52, 47, 53, 52, 62, 53, 41, 57, 51, 49, 53, 57, 52, 47, 49,\n",
       "       60, 46, 58, 52, 34, 45, 53, 46, 54, 45, 50, 54, 46, 51, 51, 49, 56,\n",
       "       48, 42, 53, 53, 49, 40, 47, 61, 55, 53, 53, 52, 52, 41, 44, 56, 49,\n",
       "       59, 47, 57, 52, 50, 45, 48, 52, 56, 49, 43, 51, 55, 55, 50, 51, 42,\n",
       "       47, 51, 48, 50, 43, 50, 45, 56, 53, 51, 51, 51, 55, 49, 55, 49, 55,\n",
       "       50, 55, 49, 45, 48, 52, 48, 50, 52, 53, 52, 50, 56, 55, 53, 46, 48,\n",
       "       48, 39, 51, 49, 55, 56, 47, 52, 58, 42, 41, 49, 50, 49, 48, 50, 40,\n",
       "       49, 55, 48, 56, 48, 52, 56, 58, 52, 47, 53, 44, 47, 61, 51, 56, 48,\n",
       "       48, 60, 56, 51, 46, 59, 37, 46, 47, 60, 49, 59, 46, 45, 60, 52, 43,\n",
       "       51, 46, 49, 54, 56, 47, 52, 45, 42, 48, 51, 49, 45, 52, 57, 54, 53,\n",
       "       54, 50, 59, 42, 50, 41, 36, 54, 52, 47, 44, 61, 42, 48, 51, 47, 52,\n",
       "       43, 51, 55, 48, 41, 43, 45, 49, 53, 53, 50, 51, 51, 48, 50, 45, 48,\n",
       "       47, 43, 50, 47, 48, 47, 50, 49, 47, 45, 54, 49, 43, 46, 53, 46, 53,\n",
       "       46, 41, 54, 52, 54, 46, 39, 49, 52, 45, 58, 56, 54, 52, 55, 47, 46,\n",
       "       43, 51, 49, 51, 45, 47, 50, 55, 49, 49, 42, 56, 46, 51, 51, 46, 50,\n",
       "       51, 46, 38, 61, 54, 46, 56, 52, 52, 51, 40, 47, 48, 45, 59, 43, 38,\n",
       "       44, 42, 53, 49, 55, 53, 34, 51, 50, 56, 49, 46, 51, 52, 52, 58, 47,\n",
       "       51, 55, 44, 51, 41, 49, 48, 56, 50, 52, 51, 49, 49, 45, 46, 53, 47,\n",
       "       53, 53, 54, 51, 38, 48, 57, 47, 49, 52, 53, 45, 53, 46, 45, 42, 58,\n",
       "       47, 64, 54, 44, 49, 48, 48, 53, 54, 51, 50, 48, 43, 48, 63, 52, 49,\n",
       "       54, 51, 52, 42, 60, 47, 54, 53, 50, 42, 43, 57, 53, 56, 45, 52, 54,\n",
       "       43, 57, 61, 51, 43, 47, 58, 53, 44, 53, 47, 45, 53, 53, 44, 49, 53,\n",
       "       50, 47, 56, 47, 48, 57, 56, 44, 49, 47, 52, 47, 43, 46, 48, 45, 54,\n",
       "       48, 52, 52, 57, 49, 45, 48, 51, 50, 55, 47, 47, 46, 42, 46, 48, 49,\n",
       "       57, 48, 59, 50, 50, 45, 45, 50, 43, 55, 52, 50, 61, 52, 47, 53, 42,\n",
       "       61, 48, 45, 55, 48, 51, 46, 43, 48, 43, 49, 51, 47, 42, 49, 33, 45,\n",
       "       51, 43, 52, 53, 48, 63, 55, 53, 59, 60, 38, 50, 49, 49, 50, 45, 51,\n",
       "       41, 46, 44, 58, 60, 54, 49, 57, 53, 41, 50, 44, 50, 50, 62, 52, 47,\n",
       "       47, 48, 57, 57, 49, 45, 49, 49, 58, 53, 48, 43, 48, 52, 51, 49, 43,\n",
       "       48, 42, 44, 50, 44, 56, 58, 49, 58, 49, 50, 47, 47, 53, 60, 50, 54,\n",
       "       45, 46, 44, 43, 61, 49, 53, 53, 51, 52, 50, 47, 56, 46, 50, 59, 43,\n",
       "       43, 54, 56, 55, 53, 50, 50, 56, 50, 47, 50, 50, 47, 45, 51, 49, 54,\n",
       "       47, 51, 43, 38, 47, 52, 51, 55, 50, 49, 47, 46, 50, 54, 53, 47, 52,\n",
       "       51, 48, 54, 47, 54, 56, 54, 55, 49, 58, 47, 46, 51, 55, 52, 44, 57,\n",
       "       49, 52, 64, 55, 46, 50, 57, 51, 56, 61, 49, 45, 51, 54, 55, 46, 51,\n",
       "       44, 51, 52, 48, 55, 54, 37, 55, 45, 35, 55, 49, 42, 46, 58, 55, 48,\n",
       "       52, 54, 47, 55, 49, 54, 50, 44, 47, 48, 52, 51, 44, 43, 50, 38, 51,\n",
       "       50, 57, 50, 49, 48, 48, 44, 50, 48, 58, 53, 54, 52, 56, 54, 48, 49,\n",
       "       43, 45, 48, 50, 55, 55, 51, 60, 51, 49, 51, 52, 54, 57, 48, 47, 51,\n",
       "       46, 51, 48, 51, 38, 60, 51, 48, 51, 46, 56, 52, 50, 37, 47, 54, 42,\n",
       "       52, 48, 52, 59, 46, 45, 52, 54, 41, 54, 49, 51, 43, 46, 42, 54, 45,\n",
       "       49, 53, 57, 49, 42, 49, 50, 50, 59, 43, 44, 48, 56, 42, 53, 49, 49,\n",
       "       61, 64, 51, 62, 50, 40, 59, 54, 53, 50, 49, 53, 57, 48, 43, 58, 49,\n",
       "       47, 54, 48, 54, 44, 51, 52, 50, 48, 58, 47, 57, 48, 53, 44, 48, 49,\n",
       "       49, 50, 45, 43, 47, 57, 46, 50, 44, 55, 47, 45, 55, 48, 50, 46, 55,\n",
       "       45, 52, 55, 44, 55, 63, 50, 50, 46, 49, 58, 50, 45, 49, 48, 48, 52,\n",
       "       54, 46, 49, 47, 54, 64, 49, 54, 57, 58, 47, 54, 38, 53, 50, 48, 53,\n",
       "       60, 49, 50, 50, 52, 50, 52, 48, 49, 46, 53, 55, 39, 41, 45, 51, 43,\n",
       "       41, 48, 48, 52, 54, 41, 52, 55, 50, 42, 49, 48, 54, 44, 59, 57, 46,\n",
       "       59, 51, 52, 55, 63, 50, 48, 49, 54, 59, 46, 50, 46, 53, 53, 45, 45,\n",
       "       46, 53, 61, 46, 52, 44, 49, 54, 63, 51, 49, 55, 47, 51],\n",
       "      dtype=int64)"
      ]
     },
     "execution_count": 95,
     "metadata": {},
     "output_type": "execute_result"
    }
   ],
   "source": [
    "# Save results of array in variable\n",
    "n, p, t = 100, .5, 1000  # number of trials, probability of each trial, number of simulations\n",
    "s = coinFlipTest(n,p,t)\n",
    "s"
   ]
  },
  {
   "cell_type": "markdown",
   "metadata": {},
   "source": [
    "## Plot Results"
   ]
  },
  {
   "cell_type": "markdown",
   "metadata": {},
   "source": [
    "### Plot 1000 simulations"
   ]
  },
  {
   "cell_type": "code",
   "execution_count": 93,
   "metadata": {},
   "outputs": [
    {
     "data": {
      "text/plain": [
       "Text(0.5, 1.0, 'Binomial Distribution')"
      ]
     },
     "execution_count": 93,
     "metadata": {},
     "output_type": "execute_result"
    },
    {
     "data": {
      "image/png": "[encoded data removed]",
      "text/plain": [
       "<Figure size 432x288 with 1 Axes>"
      ]
     },
     "metadata": {},
     "output_type": "display_data"
    }
   ],
   "source": [
    "# set the style\n",
    "sns.set_style(\"white\")\n",
    "\n",
    "\n",
    "# create the plot\n",
    "sns.distplot(s, kde=False, color='green')\n",
    "plt.xlabel(\"Distribution\") \n",
    "plt.ylabel(\"Density\")\n",
    "plt.title(\"Binomial Distribution\", fontsize=15)\n"
   ]
  },
  {
   "cell_type": "markdown",
   "metadata": {},
   "source": [
    "### Plot 100000 simulations"
   ]
  },
  {
   "cell_type": "code",
   "execution_count": 94,
   "metadata": {},
   "outputs": [
    {
     "data": {
      "text/plain": [
       "Text(0.5, 1.0, 'Binomial Distribution')"
      ]
     },
     "execution_count": 94,
     "metadata": {},
     "output_type": "execute_result"
    },
    {
     "data": {
      "image/png": "[encoded data removed]",
      "text/plain": [
       "<Figure size 432x288 with 1 Axes>"
      ]
     },
     "metadata": {},
     "output_type": "display_data"
    }
   ],
   "source": [
    "# Save results of array in variable\n",
    "n, p, t = 100, .5, 100000  # number of trials, probability of each trial, number of simulations\n",
    "s = coinFlipTest(n,p,t)\n",
    "s\n",
    "# set the style\n",
    "sns.set_style(\"white\")\n",
    "\n",
    "\n",
    "# create the plot\n",
    "sns.distplot(s, kde=False, color='green')\n",
    "plt.xlabel(\"Distribution\") \n",
    "plt.ylabel(\"Density\")\n",
    "plt.title(\"Binomial Distribution\", fontsize=15)\n"
   ]
  },
  {
   "cell_type": "markdown",
   "metadata": {},
   "source": [
    "### Plot analysis\n",
    "\n",
    "The distribution is centred around 50. It falls off on either side. The shape of distribution is bell shaped,  but hassome random fluctuations. The width of the bell is about 20. From foot-to-foot it is 40. All of the 1000 trials shown here have resulted in between 35 and 70 heads. [[20]](http://pi3.sites.sheffield.ac.uk/tutorials/week-9)\n",
    "\n",
    "The above graph plots the number of successful trialls against the number of trialls totally. It shows that the distribution is normally distributed when the probability is 0.5.\n",
    "\n",
    "The graph was plotted using seaborn.[[21]](https://seaborn.pydata.org/generated/seaborn.set_style.html) It was selected as it easily displays the phenomenon of the bell shaped curve for a binomial distribution. \n",
    "\n"
   ]
  },
  {
   "cell_type": "markdown",
   "metadata": {},
   "source": [
    "## Results\n",
    "\n",
    "The plots shos the data plotted with a normal distribution, with some noise. \n",
    "It shows how the majority of the 100 coin flips resulted in 50 heads, 50 tails with the trailing off eaqually in each direction matching the bell curve. \n",
    "\n",
    "As the sample size increases the noise dissappears and the curve is more apparent as you see in teh second plot.  \n",
    "\n",
    "## Analysis\n",
    "\n",
    "The results of the coin flip simulation reflect a common phenomenon in probability theory: The Central Limit Theorem.[[17]](https://en.wikipedia.org/wiki/Central_limit_theorem) \n",
    "\n",
    "#### Central limit theorem \n",
    "\n",
    "The Central Limit Theorem states that the sampling distribution of the sample means approaches a normal distribution as the sample size gets larger — no matter what the shape of the population distribution. This fact holds especially true for sample sizes over 30. [[22]](https://www.statisticshowto.com/probability-and-statistics/normal-distributions/central-limit-theorem-definition-examples/)\n",
    "\n",
    "## Conclusions\n",
    "\n",
    "This phenomenon can be quite usefull in real world situations. Many real world situations have a normal distribuition, so knowing this theorem it is possible to use different distributions to model backwords using machine learning techniques. \n"
   ]
  },
  {
   "cell_type": "markdown",
   "metadata": {},
   "source": [
    "\n",
    "# References - Task 3\n",
    "\n",
    "[17] Central limit theorem; Wikipedia;  https://en.wikipedia.org/wiki/Central_limit_theorem\n",
    "\n",
    "[18] numpy.random.binomial; The SciPy community; https://numpy.org/doc/stable/reference/random/generated/numpy.random.binomial.html\n",
    "\n",
    "[19] Binomial Distribution; Wikipedia; https://en.wikipedia.org/wiki/Binomial_distribution\n",
    "\n",
    "[20] Tossing a Coin and the Bell Curve; The Pi-Cubed Programming Challenge; http://pi3.sites.sheffield.ac.uk/tutorials/week-9\n",
    "\n",
    "[21] seaborn.set_style; seaborn; https://seaborn.pydata.org/generated/seaborn.set_style.html\n",
    "\n",
    "[22] https://www.statisticshowto.com/probability-and-statistics/normal-distributions/central-limit-theorem-definition-examples/\n",
    "\n",
    "\n",
    "------------------------"
   ]
  },
  {
   "cell_type": "markdown",
   "metadata": {},
   "source": [
    "## Task 4: Simpsons Paradox\n",
    "-------------\n",
    "***November 30th, 2020:*** Simpson’s paradox is a well-known statistical paradox\n",
    "where a trend evident in a number of groups reverses when the groups are combined\n",
    "into one big data set. Use numpy to create four data sets, each with an `x` array\n",
    "and a corresponding `y` array, to demonstrate Simpson’s paradox. You might\n",
    "create your `x` arrays using `numpy.linspace` and create the `y` array for each\n",
    "`x` using notation like `y = a * x + b` where you choose the `a` and `b` for each\n",
    "`x` , `y` pair to demonstrate the paradox. You might see the Wikipedia page for\n",
    "Simpson’s paradox for inspiration.\n",
    "\n",
    "\n",
    "\n",
    "----------------\n"
   ]
  },
  {
   "cell_type": "markdown",
   "metadata": {},
   "source": [
    "## Introduction\n",
    "\n",
    "\"Simpsons Paradox is a phenomenon in probability and statistics, in which a trend appears in several different groups of data but disappears or reverses when these groups are combined.\" [[23]](https://en.wikipedia.org/wiki/Simpson%27s_paradox)\n",
    "\n",
    "It is named after Edward H. Simpson after he described it in a paper in 1951. It had been previously observed. \n",
    "\n",
    "It is a common phenomonon in statistics. One of the best known examples is the \"UC Berkley gender bias\" where if you take the percentage of applicants accempted into the university it seems as if Women are discriminated against. However if you take a more detailed look into individual departments it shows that this is actually a result of more women choosing compettivie programs and the pooled and corrected data showed a \"small but statistically significant bias in favor of women\" [[24]](https://homepage.stat.uiowa.edu/~mbognar/1030/Bickel-Berkeley.pdf)\n",
    "\n",
    "Below is some data and plots to explain the phenomenon. \n"
   ]
  },
  {
   "cell_type": "markdown",
   "metadata": {},
   "source": [
    "## Create data"
   ]
  },
  {
   "cell_type": "code",
   "execution_count": 23,
   "metadata": {},
   "outputs": [],
   "source": [
    "# Set style\n",
    "plt.style.use(\"ggplot\")"
   ]
  },
  {
   "cell_type": "code",
   "execution_count": 24,
   "metadata": {},
   "outputs": [
    {
     "data": {
      "text/plain": [
       "array([ 0.        ,  0.34482759,  0.68965517,  1.03448276,  1.37931034,\n",
       "        1.72413793,  2.06896552,  2.4137931 ,  2.75862069,  3.10344828,\n",
       "        3.44827586,  3.79310345,  4.13793103,  4.48275862,  4.82758621,\n",
       "        5.17241379,  5.51724138,  5.86206897,  6.20689655,  6.55172414,\n",
       "        6.89655172,  7.24137931,  7.5862069 ,  7.93103448,  8.27586207,\n",
       "        8.62068966,  8.96551724,  9.31034483,  9.65517241, 10.        ])"
      ]
     },
     "execution_count": 24,
     "metadata": {},
     "output_type": "execute_result"
    }
   ],
   "source": [
    "# Create points\n",
    "\n",
    "N = 30 # Number of points created\n",
    "x1 = np.linspace(0, 10, N) # create x values\n",
    "a = -1 # generate negative slope\n",
    "b = 1\n",
    "y1 = a*x1 + b # create corrosponding y values\n",
    "\n",
    "\n",
    "x1 # Show x1 values\n"
   ]
  },
  {
   "cell_type": "code",
   "execution_count": 25,
   "metadata": {},
   "outputs": [
    {
     "data": {
      "text/plain": [
       "array([ 1.        ,  0.65517241,  0.31034483, -0.03448276, -0.37931034,\n",
       "       -0.72413793, -1.06896552, -1.4137931 , -1.75862069, -2.10344828,\n",
       "       -2.44827586, -2.79310345, -3.13793103, -3.48275862, -3.82758621,\n",
       "       -4.17241379, -4.51724138, -4.86206897, -5.20689655, -5.55172414,\n",
       "       -5.89655172, -6.24137931, -6.5862069 , -6.93103448, -7.27586207,\n",
       "       -7.62068966, -7.96551724, -8.31034483, -8.65517241, -9.        ])"
      ]
     },
     "execution_count": 25,
     "metadata": {},
     "output_type": "execute_result"
    }
   ],
   "source": [
    "y1 # show y values"
   ]
  },
  {
   "cell_type": "code",
   "execution_count": 26,
   "metadata": {},
   "outputs": [
    {
     "data": {
      "image/png": "[encoded data removed]",
      "text/plain": [
       "<Figure size 432x288 with 1 Axes>"
      ]
     },
     "metadata": {},
     "output_type": "display_data"
    }
   ],
   "source": [
    "# plot data\n",
    "\n",
    "plt.plot(x1, y1, 'gx')\n",
    "plt.show()\n"
   ]
  },
  {
   "cell_type": "markdown",
   "metadata": {},
   "source": [
    "## Data and plot\n",
    "\n",
    "The data was created using the `numpy.linspace` function. [[25]](https://numpy.org/doc/stable/reference/generated/numpy.linspace.html) It allows points to be created evenly spaced over the desired interval. \n",
    "\n",
    "`numpy.linspace(start, stop, num=50, endpoint=True, retstep=False, dtype=None, axis=0)`\n",
    "* Return evenly spaced numbers over a specified interval.\n",
    "* Returns num evenly spaced samples, calculated over the interval [start, stop].\n",
    "* Yhe endpoint of the interval can optionally be excluded.\n",
    "\n",
    "\n",
    "The plot above shows a negative slope on the x axis. \n"
   ]
  },
  {
   "cell_type": "markdown",
   "metadata": {},
   "source": [
    "## Create noise"
   ]
  },
  {
   "cell_type": "code",
   "execution_count": 27,
   "metadata": {},
   "outputs": [
    {
     "data": {
      "image/png": "[encoded data removed]",
      "text/plain": [
       "<Figure size 432x288 with 1 Axes>"
      ]
     },
     "metadata": {},
     "output_type": "display_data"
    }
   ],
   "source": [
    "# Create points\n",
    "\n",
    "x1 = np.linspace(0, 10, 30) # create x values\n",
    "a = -1 # generate negative slope\n",
    "b = 1\n",
    "y = (a * x1) + b # create corrosponding y values\n",
    "noise = np.random.normal(0, 0.2, len(x1))\n",
    "y1 = y + noise \n",
    "\n",
    "\n",
    "plt.plot(x1, y1, 'gx', label=\"plot 1\")\n",
    "\n",
    "plt.show()\n"
   ]
  },
  {
   "cell_type": "markdown",
   "metadata": {},
   "source": [
    "Adding in random noise using `numpy.random.normal` [[14]](https://docs.scipy.org/doc//numpy-1.10.4/reference/generated/numpy.random.normal.html) we can create a more realistic data set for a better demonstration of the effect. It gives a data set that is more representive of the realworld. \n"
   ]
  },
  {
   "cell_type": "markdown",
   "metadata": {},
   "source": [
    "## Add best fit line"
   ]
  },
  {
   "cell_type": "code",
   "execution_count": 28,
   "metadata": {},
   "outputs": [
    {
     "data": {
      "text/plain": [
       "[<matplotlib.lines.Line2D at 0x22ea0deb040>]"
      ]
     },
     "execution_count": 28,
     "metadata": {},
     "output_type": "execute_result"
    },
    {
     "data": {
      "image/png": "[encoded data removed]",
      "text/plain": [
       "<Figure size 432x288 with 1 Axes>"
      ]
     },
     "metadata": {},
     "output_type": "display_data"
    }
   ],
   "source": [
    "coeffs1 = np.polyfit(x1, y1, 1)\n",
    "plt.plot(x1, y1, 'gx', label=\"plot 1\")\n",
    "plt.plot(x1, coeffs1[0] * x1 + coeffs1[1], \"g-\", label=\"Best fit\")"
   ]
  },
  {
   "cell_type": "markdown",
   "metadata": {},
   "source": [
    "Using `np.polyfit()`[[26]](https://numpy.org/doc/stable/reference/generated/numpy.polyfit.html) we can get the coeffeciants of x and y and use them to plot the best fit line of the data as shown above. \n",
    "\n",
    "`numpy.polyfit(x, y, deg, rcond=None, full=False, w=None, cov=False)`\n",
    "* Least squares polynomial fit.\n",
    "* Fit a polynomial `p(x) = p[0] * x**deg + ... + p[deg]` of degree deg to points (x, y).\n",
    "\n"
   ]
  },
  {
   "cell_type": "markdown",
   "metadata": {},
   "source": [
    "## Investigate slope"
   ]
  },
  {
   "cell_type": "code",
   "execution_count": 29,
   "metadata": {},
   "outputs": [
    {
     "data": {
      "text/plain": [
       "array([ 1.18708675,  0.41010026,  0.79945614, -0.04922014, -0.10333935,\n",
       "       -0.559053  , -1.05528295, -1.32428217, -1.81119584, -2.1525029 ,\n",
       "       -2.5302634 , -2.73499245, -3.19281219, -3.59135522, -4.01339038,\n",
       "       -4.0147778 , -4.50782055, -5.08820896, -5.12176843, -5.53347394,\n",
       "       -5.9029105 , -6.09981707, -6.83104402, -7.05949405, -7.30508826,\n",
       "       -7.646772  , -7.9726239 , -8.17836612, -8.76007611, -9.18368382])"
      ]
     },
     "execution_count": 29,
     "metadata": {},
     "output_type": "execute_result"
    }
   ],
   "source": [
    "y1"
   ]
  },
  {
   "cell_type": "markdown",
   "metadata": {},
   "source": [
    "check y values to see where next a value needs to be. For the correct phenomen the first y2 value will need to be above -1. \n",
    "\n",
    "Set \"a\" as -0.1. "
   ]
  },
  {
   "cell_type": "markdown",
   "metadata": {},
   "source": [
    "## Plot 3 more functions"
   ]
  },
  {
   "cell_type": "code",
   "execution_count": 30,
   "metadata": {},
   "outputs": [
    {
     "data": {
      "text/plain": [
       "[<matplotlib.lines.Line2D at 0x22ea0ecca60>]"
      ]
     },
     "execution_count": 30,
     "metadata": {},
     "output_type": "execute_result"
    },
    {
     "data": {
      "image/png": "[encoded data removed]",
      "text/plain": [
       "<Figure size 1440x432 with 3 Axes>"
      ]
     },
     "metadata": {},
     "output_type": "display_data"
    }
   ],
   "source": [
    "# Graph 3 more functions \n",
    "\n",
    "plt.figure(figsize=(20,6)) # set figure size\n",
    "\n",
    "plt.subplot(1,3,1) \n",
    "N = 30 # Number of points created\n",
    "x2 = np.linspace(10, 20, N) # create x values\n",
    "a = -0.1 # generate negative slope\n",
    "b = 2\n",
    "y = a * x2 + b # create corrosponding y values\n",
    "noise = np.random.normal(0, 0.2, len(x2))\n",
    "y2 = y + noise \n",
    "\n",
    "coeffs2 = np.polyfit(x2, y2, 1)\n",
    "plt.plot(x2, y2, 'yx', label=\"plot 2\")\n",
    "plt.plot(x2, coeffs2[0] * x2 + coeffs2[1], \"y-\", label=\"Best fit\")\n",
    "\n",
    "\n",
    "\n",
    "plt.subplot(1,3,2) \n",
    "\n",
    "N = 30 # Number of points created\n",
    "x3 = np.linspace(20, 30, N) # create x values\n",
    "a = -0.3 # generate negative slope\n",
    "b = 10\n",
    "y = a * x3 + b # create corrosponding y values\n",
    "noise = np.random.normal(0, 0.2, len(x3))\n",
    "y3 = y + noise\n",
    "\n",
    "coeffs3 = np.polyfit(x3, y3, 1)\n",
    "plt.plot(x3, y3, 'bx', label=\"plot 3\")\n",
    "plt.plot(x3, coeffs3[0] * x3 + coeffs3[1], \"b-\", label=\"Best fit\")\n",
    "\n",
    "plt.subplot(1,3,3) \n",
    "\n",
    "N = 30 # Number of points created\n",
    "x4 = np.linspace(30, 40, N) # create x values\n",
    "a = -0.4 # generate negative slope\n",
    "b = 25\n",
    "y = a * x4 + b # create corrosponding y values\n",
    "noise = np.random.normal(0, 0.2, len(x4))\n",
    "y4 = y + noise \n",
    "\n",
    "coeffs4 = np.polyfit(x4, y4, 1)\n",
    "plt.plot(x4, y4, 'cx', label=\"plot 4\")\n",
    "plt.plot(x4, coeffs4[0] * x4 + coeffs4[1], \"c-\", label=\"Best fit\")"
   ]
  },
  {
   "cell_type": "markdown",
   "metadata": {},
   "source": [
    "## Initial analysis\n",
    "\n",
    "From the above 4 plots you could easily conclude that the resulting data has an overall negative slope. \n",
    "\n",
    "However it is worth plotting them all on the same plot to gain a further insight. "
   ]
  },
  {
   "cell_type": "markdown",
   "metadata": {},
   "source": [
    "## Combination Plot"
   ]
  },
  {
   "cell_type": "code",
   "execution_count": 31,
   "metadata": {},
   "outputs": [
    {
     "data": {
      "text/plain": [
       "<matplotlib.legend.Legend at 0x22ea135f8b0>"
      ]
     },
     "execution_count": 31,
     "metadata": {},
     "output_type": "execute_result"
    },
    {
     "data": {
      "image/png": "[encoded data removed]",
      "text/plain": [
       "<Figure size 1440x720 with 1 Axes>"
      ]
     },
     "metadata": {},
     "output_type": "display_data"
    }
   ],
   "source": [
    "# Graph all data on one graph\n",
    "plt.figure(figsize=(20,10)) \n",
    "\n",
    "\n",
    "plt.plot(x1, y1, 'gx', label=\"x1,y1\")\n",
    "plt.plot(x2, y2, 'yx', label=\"x2,y2\")\n",
    "plt.plot(x3, y3, 'bx', label=\"x3,y3\")\n",
    "plt.plot(x4, y4, 'cx', label=\"x4,y4\")\n",
    "plt.legend()"
   ]
  },
  {
   "cell_type": "markdown",
   "metadata": {},
   "source": [
    "## Plot analysis\n",
    "\n",
    "This plot shows all of the data previously plotted in one using `matplotlib.pyplot.plot`. [[27]](https://matplotlib.org/3.3.3/api/_as_gen/matplotlib.pyplot.plot.html) It gives reason to do further analysis on the data set as a single entity rather than four individual sets of data. "
   ]
  },
  {
   "cell_type": "markdown",
   "metadata": {},
   "source": [
    "\n",
    "## Combine data sets + plot results"
   ]
  },
  {
   "cell_type": "code",
   "execution_count": 97,
   "metadata": {},
   "outputs": [
    {
     "data": {
      "text/plain": [
       "array([ 0.4091961 , -5.66786648])"
      ]
     },
     "execution_count": 97,
     "metadata": {},
     "output_type": "execute_result"
    }
   ],
   "source": [
    "# Concatenate all x and y values\n",
    "x_con = np.concatenate((x1, x2, x3, x4))\n",
    "y_con = np.concatenate((y1, y2, y3, y4))\n",
    "\n",
    "# Calculate coefficients\n",
    "coeffs = np.polyfit(x_con, y_con, 1)\n",
    "coeffs"
   ]
  },
  {
   "cell_type": "markdown",
   "metadata": {},
   "source": [
    "## numpy.concatenate\n",
    "\n",
    "Allows us to join a sequence of arrays along an existing axis.[[28]](https://numpy.org/doc/stable/reference/generated/numpy.concatenate.html)\n",
    "\n",
    "`numpy.concatenate((a1, a2, ...), axis=0, out=None)`\n",
    "\n",
    "## coefficients of the slope\n",
    "\n",
    "Once again we calculate the coefficients of the slope of the combined datasets line using `np.polyfit`[[26]](https://numpy.org/doc/stable/reference/generated/numpy.polyfit.html)\n"
   ]
  },
  {
   "cell_type": "code",
   "execution_count": 101,
   "metadata": {},
   "outputs": [
    {
     "data": {
      "image/png": "[encoded data removed]",
      "text/plain": [
       "<Figure size 1440x720 with 1 Axes>"
      ]
     },
     "metadata": {},
     "output_type": "display_data"
    }
   ],
   "source": [
    "#Plot all data sets with combined best fit line\n",
    "plt.figure(figsize=(20,10))\n",
    "\n",
    "plt.plot(x1, y1, 'gx', label=\"x1,y1\")\n",
    "plt.plot(x1, coeffs1[0] * x1 + coeffs1[1], \"g-\", label=\"Best fit 1\")\n",
    "plt.plot(x2, y2, 'yx', label=\"x2,y2\")\n",
    "plt.plot(x2, coeffs2[0] * x2 + coeffs2[1], \"y-\", label=\"Best fit 2\")\n",
    "plt.plot(x3, y3, 'bx', label=\"x3,y3\")\n",
    "plt.plot(x3, coeffs3[0] * x3 + coeffs3[1], \"b-\", label=\"Best fit 3\")\n",
    "plt.plot(x4, y4, 'cx', label=\"x4,y4\")\n",
    "plt.plot(x4, coeffs4[0] * x4 + coeffs4[1], \"c-\", label=\"Best fit 4\")\n",
    "\n",
    "# create combined best fit line\n",
    "plt.plot(x_con, coeffs[0] * x_con + coeffs[1], 'r-', label='Best fit Combined')\n",
    "plt.legend();"
   ]
  },
  {
   "cell_type": "markdown",
   "metadata": {},
   "source": [
    "## Results\n",
    "\n",
    "The results reveal the overall slope of the data plotted to be sloping in the posotive direction on the x axis. This is called a positive correlation. \n",
    "\n",
    "\"A positive correlation is a relationship between two variables in which both variables move in the same direction.\" [[29]](https://www.simplypsychology.org/correlation.html)\n",
    "\n",
    "It shows a reversal of  the initial trend identified in the first four sets of data plotted individualy.  \n",
    "\n",
    "It is a simple demonstration of Simpsons paradox. \n",
    "\n",
    "\n",
    "## Conclusions\n",
    "\n",
    "It is once again important to have a good understanding of your data set when undertaking an analysis. This helps guide you towards the correct interpretation of the data. Phenomena like this one appear in data from time to time, so a detailed analysis and investigation is always necessary. \n",
    "\n",
    "It also leads you to question any statistics that may be put forward in popular media today. Data like this could easily be manipulated to put forward a view that benifits one party or another. Having a decent understanding of statistics is an important tool going forward in any data analysis career. "
   ]
  },
  {
   "cell_type": "markdown",
   "metadata": {},
   "source": [
    "\n",
    "# References - Task 4\n",
    "\n",
    "-----------------\n",
    "[23] Simpsons paradox; Wikipedia; https://en.wikipedia.org/wiki/Simpson%27s_paradox\n",
    "\n",
    "[24] Sex Bias in Graduate Admissions:\n",
    "Data from Berkeley; P. J. Bickel, E. A. Hammel, J. W. O'Connel; SCIENCE, VOL. 187; https://homepage.stat.uiowa.edu/~mbognar/1030/Bickel-Berkeley.pdf\n",
    "\n",
    "[25] numpy.linspace; The SciPy community; https://numpy.org/doc/stable/reference/generated/numpy.linspace.html\n",
    "\n",
    "[14] numpy.random.normal; The SciPy community; https://docs.scipy.org/doc//numpy-1.10.4/reference/generated/numpy.random.normal.html\n",
    "\n",
    "[26] numpy.polyfit; The SciPy community; https://numpy.org/doc/stable/reference/generated/numpy.polyfit.html\n",
    "\n",
    "[27] matplotlib.pyplot.plot; The Matplotlib development team.; https://matplotlib.org/3.3.3/api/_as_gen/matplotlib.pyplot.plot.html\n",
    "\n",
    "[28] numpy.concatenate; The SciPy community; https://numpy.org/doc/stable/reference/generated/numpy.concatenate.html\n",
    "\n",
    "[29] Correlation Definitions; Simply Psychology; https://www.simplypsychology.org/correlation.html\n",
    "\n",
    "\n",
    "------------------------"
   ]
  }
 ],
 "metadata": {
  "kernelspec": {
   "display_name": "Python 3",
   "language": "python",
   "name": "python3"
  },
  "language_info": {
   "codemirror_mode": {
    "name": "ipython",
    "version": 3
   },
   "file_extension": ".py",
   "mimetype": "text/x-python",
   "name": "python",
   "nbconvert_exporter": "python",
   "pygments_lexer": "ipython3",
   "version": "3.8.3"
  }
 },
 "nbformat": 4,
 "nbformat_minor": 4
}
