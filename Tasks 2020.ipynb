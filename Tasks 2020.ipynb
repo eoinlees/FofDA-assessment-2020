{
 "cells": [
  {
   "cell_type": "markdown",
   "metadata": {},
   "source": [
    "# Fundamentals of Data Analytics\n",
    "\n",
    "## Tasks 2020\n",
    "\n",
    "\n",
    "These are my solutions to the tasks assessments. The Author is Eoin Lees (G00387888@gmit.ie)\n",
    "\n",
    "-----"
   ]
  },
  {
   "cell_type": "code",
   "execution_count": 79,
   "metadata": {},
   "outputs": [],
   "source": [
    "# Import all functions necessary for each task\n",
    "import numpy as np\n",
    "import random\n",
    "import seaborn as sns\n",
    "import matplotlib.pyplot as plt"
   ]
  },
  {
   "cell_type": "markdown",
   "metadata": {},
   "source": [
    "---------------------"
   ]
  },
  {
   "cell_type": "markdown",
   "metadata": {},
   "source": [
    "## Task 1: Counts function\n",
    "\n",
    "This function takes a list as input and returns a dictionary of unique items in the list and the number of times each item appears as values. \n",
    "\n",
    "--------------------"
   ]
  },
  {
   "cell_type": "code",
   "execution_count": 8,
   "metadata": {},
   "outputs": [],
   "source": [
    "# Define Function\n",
    "\n",
    "def counts(x):\n",
    "    # create final list(dict) to be filled in for loop\n",
    "    finalList = {}\n",
    "    # Iterate\n",
    "    for i in x:\n",
    "        # see if i is already in finalList\n",
    "        if i in finalList:\n",
    "            # add one to i count if so\n",
    "            finalList[i] += 1\n",
    "        else:\n",
    "            # create i in finalList and set its value to 1 \n",
    "            finalList[i] = 1\n",
    "    \n",
    "    return finalList    "
   ]
  },
  {
   "cell_type": "markdown",
   "metadata": {},
   "source": [
    "This is how the `counts(x)` function works:\n",
    "\n",
    "* It takes a list as an input \"x\". \n",
    "* It creates a dictionary `finalList` to store all of the inputs.\n",
    "* It checks if each item \"i\" in the input list \"x\" is in the `finalList`\n",
    "    * If it is, it adds 1 to its count.\n",
    "    * if it's not, it creates the item \"i\" in the `finalList` and sets its count to 1.\n",
    "* Once all items are iterated through it returns the `finalList` with each element counted in the correct format. \n",
    "\n",
    "Examples of how this function works are shown below.\n",
    "\n",
    "https://docs.python.org/3/tutorial/datastructures.html\n",
    "\n",
    "https://realpython.com/python-dicts/\n",
    "\n",
    "https://stackabuse.com/python-get-number-of-elements-in-a-list/"
   ]
  },
  {
   "cell_type": "code",
   "execution_count": 2,
   "metadata": {},
   "outputs": [],
   "source": [
    "#Define Lists\n",
    "testListOne = [\"A\", \"A\", \"B\", \"C\", \"A\"]\n",
    "testListTwo = [\"Car\", \"Bar\", \"Toy\", \"Car\", \"Car\", \"Bar\"]\n",
    "testListThree = [\"12\", \"4\", \"12\", \"15\", \"4\", \"4\", \"4\",\"4\"]"
   ]
  },
  {
   "cell_type": "code",
   "execution_count": 4,
   "metadata": {},
   "outputs": [
    {
     "data": {
      "text/plain": [
       "{'A': 3, 'B': 1, 'C': 1}"
      ]
     },
     "execution_count": 4,
     "metadata": {},
     "output_type": "execute_result"
    }
   ],
   "source": [
    "# Test list 1\n",
    "counts(testListOne)"
   ]
  },
  {
   "cell_type": "code",
   "execution_count": 5,
   "metadata": {},
   "outputs": [
    {
     "data": {
      "text/plain": [
       "{'Car': 3, 'Bar': 2, 'Toy': 1}"
      ]
     },
     "execution_count": 5,
     "metadata": {},
     "output_type": "execute_result"
    }
   ],
   "source": [
    "# Test list 2\n",
    "counts(testListTwo)"
   ]
  },
  {
   "cell_type": "code",
   "execution_count": 6,
   "metadata": {},
   "outputs": [
    {
     "data": {
      "text/plain": [
       "{'12': 2, '4': 5, '15': 1}"
      ]
     },
     "execution_count": 6,
     "metadata": {},
     "output_type": "execute_result"
    }
   ],
   "source": [
    "# Test list 3\n",
    "counts(testListThree)"
   ]
  },
  {
   "cell_type": "markdown",
   "metadata": {},
   "source": [
    "### Test Function\n",
    "\n",
    "Below is a cell that calls for an input list to be given. It allows for the `counts(x)` function to be tested in real time. \n",
    "\n",
    "To run it hit \"shift + return\" and it will request an input. \n",
    "\n",
    "For convience here is a sample list to copy and past as input:\n",
    "\n",
    "                        Eoin Eoin Eoin Bob Bob Mary Mary Sue Eoin Mary 1 1 2 45 45 45 45\n",
    "                       \n",
    "You will recieve an output of the following:\n",
    "\n",
    "                        {'Eoin': 4, 'Bob': 2, 'Mary': 3, 'Sue': 1, '1': 2, '2': 1, '45': 4}"
   ]
  },
  {
   "cell_type": "code",
   "execution_count": 9,
   "metadata": {},
   "outputs": [
    {
     "name": "stdout",
     "output_type": "stream",
     "text": [
      "Enter a number of letters, numbers or words seperated by a space: Eoin Eoin Eoin Bob Bob Mary Mary Sue Eoin Mary 1 1 2 45 45 45 45\n"
     ]
    },
    {
     "data": {
      "text/plain": [
       "{'Eoin': 4, 'Bob': 2, 'Mary': 3, 'Sue': 1, '1': 2, '2': 1, '45': 4}"
      ]
     },
     "execution_count": 9,
     "metadata": {},
     "output_type": "execute_result"
    }
   ],
   "source": [
    "# Test List from input [1]\n",
    "List = input(\"Enter a number of letters, numbers or words seperated by a space: \")\n",
    "inputList = List.split()\n",
    "\n",
    "#print(userList)\n",
    "counts(inputList)"
   ]
  },
  {
   "cell_type": "markdown",
   "metadata": {},
   "source": [
    "This function can now be called anywhere else on this jupyter workbook. eg. Task 2. \n",
    "\n",
    "---------------------"
   ]
  },
  {
   "cell_type": "markdown",
   "metadata": {},
   "source": [
    "\n",
    "##### References\n",
    "\n",
    "[1] https://pynative.com/python-accept-list-input-from-user/\n",
    "\n",
    "https://stackabuse.com/python-get-number-of-elements-in-a-list/\n",
    "\n",
    "[2] https://stackoverflow.com/questions/2600191/how-can-i-count-the-occurrences-of-a-list-item\n",
    "\n",
    "[3] https://realpython.com/python-dicts/\n",
    "\n",
    "[4] https://www.w3schools.com/python/ref_string_split.asp\n",
    "\n"
   ]
  },
  {
   "cell_type": "markdown",
   "metadata": {},
   "source": [
    "## Task 2: Dicerolls function\n",
    "-------------"
   ]
  },
  {
   "cell_type": "code",
   "execution_count": 54,
   "metadata": {},
   "outputs": [],
   "source": [
    "#Define `dice_roll(k)` for a \"k\" number rolls of a dice\n",
    "def dice_roll(k):\n",
    "    sum = 0\n",
    "    for i in range(0,k):\n",
    "        dice = random.randint(1,6)\n",
    "        #print(dice) # To test function\n",
    "        sum = sum + dice\n",
    "    return(sum)\n",
    "\n",
    "#Define `dice_rolls(k, n)` for a multiple rolls of the same number of dice. \n",
    "def dice_rolls(k, n):\n",
    "    myList = [dice_roll(k) for _ in range(n)]\n",
    "    return(myList)\n",
    "  \n",
    "    \n",
    "    # numOfDice = int(input(\"How many dice ?\"))\n",
    "# numOfRolls    = int(input(\"How many rolls?\"))\n",
    "    \n",
    "\n",
    "\n",
    "#counts(dice_rolls(15,10))\n",
    "# def dicerolls(k, n):\n",
    "   # k = numOfDice\n",
    "   #n = numOfRolls\n",
    "    \n",
    "# numOfDice = int(input(\"How many dice ?\"))\n",
    "# numOfRolls    = int(input(\"How many rolls?\"))"
   ]
  },
  {
   "cell_type": "code",
   "execution_count": 55,
   "metadata": {},
   "outputs": [
    {
     "data": {
      "text/plain": [
       "17"
      ]
     },
     "execution_count": 55,
     "metadata": {},
     "output_type": "execute_result"
    }
   ],
   "source": [
    "# Test function\n",
    "dice_roll(5)\n"
   ]
  },
  {
   "cell_type": "markdown",
   "metadata": {},
   "source": [
    "returns total sum of 5 dice rolled. "
   ]
  },
  {
   "cell_type": "code",
   "execution_count": 56,
   "metadata": {},
   "outputs": [
    {
     "data": {
      "text/plain": [
       "[5, 3, 3, 5, 7, 9, 7, 6, 3, 10]"
      ]
     },
     "execution_count": 56,
     "metadata": {},
     "output_type": "execute_result"
    }
   ],
   "source": [
    "#Test function\n",
    "dice_rolls(2, 10)"
   ]
  },
  {
   "cell_type": "markdown",
   "metadata": {},
   "source": [
    "returns list of total sum of 2 dice rolled, 10 times."
   ]
  },
  {
   "cell_type": "code",
   "execution_count": 57,
   "metadata": {},
   "outputs": [
    {
     "data": {
      "text/plain": [
       "{6: 1, 5: 1, 11: 2, 7: 2, 9: 1, 10: 2, 8: 1}"
      ]
     },
     "execution_count": 57,
     "metadata": {},
     "output_type": "execute_result"
    }
   ],
   "source": [
    "#Run dice_rolls with count\n",
    "counts(dice_rolls(2, 10))"
   ]
  },
  {
   "cell_type": "markdown",
   "metadata": {},
   "source": [
    "The above code achievs the desired results however calling the function like this is not what was requested. "
   ]
  },
  {
   "cell_type": "code",
   "execution_count": 61,
   "metadata": {},
   "outputs": [],
   "source": [
    "# Define final Function:\n",
    "def dicerolls(k, n):\n",
    "    count = counts(dice_rolls(k, n))\n",
    "    return(count)"
   ]
  },
  {
   "cell_type": "code",
   "execution_count": 62,
   "metadata": {},
   "outputs": [
    {
     "data": {
      "text/plain": [
       "{9: 3, 8: 2, 5: 3, 7: 2}"
      ]
     },
     "execution_count": 62,
     "metadata": {},
     "output_type": "execute_result"
    }
   ],
   "source": [
    "# Test the function\n",
    "dicerolls(2,10)"
   ]
  },
  {
   "cell_type": "code",
   "execution_count": 67,
   "metadata": {},
   "outputs": [],
   "source": [
    "# define input function - Get input from user\n",
    "def input_diceroll():\n",
    "    k = int(input(\"Enter the number of dice you wish to roll: \"))\n",
    "    n = int(input(\"Enter the number of times you wish to do this: \"))\n",
    "    #return function\n",
    "    return dicerolls(k,n)"
   ]
  },
  {
   "cell_type": "code",
   "execution_count": 69,
   "metadata": {},
   "outputs": [
    {
     "name": "stdout",
     "output_type": "stream",
     "text": [
      "Enter the number of dice you wish to roll: 3\n",
      "Enter the number of times you wish to do this: 40\n"
     ]
    },
    {
     "data": {
      "text/plain": [
       "{9: 3, 8: 4, 11: 8, 10: 7, 15: 2, 6: 4, 5: 3, 16: 2, 12: 3, 13: 3, 7: 1}"
      ]
     },
     "execution_count": 69,
     "metadata": {},
     "output_type": "execute_result"
    }
   ],
   "source": [
    "# test function\n",
    "x = input_diceroll()\n",
    "x"
   ]
  },
  {
   "cell_type": "markdown",
   "metadata": {},
   "source": [
    "The above function allows the user to call the function and input any integer they may need. "
   ]
  },
  {
   "cell_type": "code",
   "execution_count": 78,
   "metadata": {},
   "outputs": [
    {
     "data": {
      "text/plain": [
       "(array([ 26.,  50.,  66., 119., 141., 186., 143., 105.,  83.,  81.]),\n",
       " array([ 2.,  3.,  4.,  5.,  6.,  7.,  8.,  9., 10., 11., 12.]),\n",
       " <a list of 10 Patch objects>)"
      ]
     },
     "execution_count": 78,
     "metadata": {},
     "output_type": "execute_result"
    },
    {
     "data": {
      "image/png": "[encoded data removed]",
      "text/plain": [
       "<Figure size 432x288 with 1 Axes>"
      ]
     },
     "metadata": {
      "needs_background": "light"
     },
     "output_type": "display_data"
    }
   ],
   "source": [
    "plt.hist(dice_rolls(2,1000))"
   ]
  },
  {
   "cell_type": "markdown",
   "metadata": {},
   "source": [
    "research why distribution is high at 12."
   ]
  },
  {
   "cell_type": "markdown",
   "metadata": {},
   "source": [
    "## Task 3: numpy.random.binomial\n",
    "-------------\n",
    "\n",
    "Pull numpy.random.binomial summary from Programming for Data Analytics project"
   ]
  },
  {
   "cell_type": "markdown",
   "metadata": {},
   "source": [
    "#### Task\n",
    "\n",
    "November 16th, 2020: The `numpy.random.binomial` function can be used to\n",
    "simulate flipping a coin with a 50/50 chance of heads or tails. \n",
    "\n",
    "Interestingly, if a coin is flipped many times then the number of heads is well approximated by a bell-shaped curve. For instance, if we flip a coin 100 times in a row the chance of getting 50 heads is relatively high, the chances of getting 0 or 100 heads is relatively low, and the chances of getting any other number of heads decreases as you move away from 50 in either direction towards 0 or 100. \n",
    "\n",
    "Write some python code that simulates flipping a coin 100 times. Then run this code 1,000 times, keeping track of the number of heads in each of the 1,000 simulations. Select an appropriate plot to depict the resulting list of 1,000 numbers, showing that it roughly follows a bell-shaped curve. You should explain your work in a Markdown cell above the code.\n"
   ]
  },
  {
   "cell_type": "markdown",
   "metadata": {},
   "source": [
    "* ### Distribution 2: binomial\n",
    "\n",
    "**Generator.binomial(n, p, size=None)**\n",
    " \n",
    "Creates a sample from a binomial distributon. The specific paramaters are; n, the number of trialls, and  p, the probability of sucess. \n",
    "\n",
    "\"A binomial distribution can be thought of as simply the probability of a SUCCESS or FAILURE outcome in an experiment or survey that is repeated multiple times.\" [\\[18\\]][18] It is a type of distribution that has two possible outcomes. e.g coin toss - heads or tails. \n",
    "\n",
    "* Parameters \n",
    "    * n: trialls - paramater of the distribution greater than or equal to zero.\n",
    "    * p: probability of success, in the interval [1,0]\n",
    "    * size: output shape\n",
    "\n",
    "* Returns\n",
    "    * out: ndarray or scalar - Drawn samples from the parameterized binomial distribution, where each sample is equal to the number of successes over the n trials.\n",
    "    \n",
    "Note: for more information on this function see numpy documentation. [\\[17\\]][17]\n",
    "\n",
    "Examples\n",
    "\n",
    "\n",
    "\n",
    "\n",
    "[18]: https://www.statisticshowto.com/probability-and-statistics/binomial-theorem/binomial-distribution-formula/\n",
    "\n",
    "\n",
    "[17]: https://numpy.org/doc/stable/reference/random/generated/numpy.random.Generator.binomial.html#numpy.random.Generator.binomial"
   ]
  },
  {
   "cell_type": "code",
   "execution_count": null,
   "metadata": {
    "scrolled": true
   },
   "outputs": [],
   "source": [
    "rng = np.random.default_rng()\n",
    "n, p = 100, .5  # number of trials, probability of each trial\n",
    "s = rng.binomial(n, p, 1000)\n",
    "# result of flipping a coin 10 times, tested 10000 times.\n",
    "s\n",
    "# plt.hist(s, bins=10, range=None, rwidth=None, color=None, label=\"tEST\")\n"
   ]
  },
  {
   "cell_type": "code",
   "execution_count": null,
   "metadata": {},
   "outputs": [],
   "source": [
    "plt.hist(s, bins=10, range=None, rwidth=None, color=None, label=\"tEST\")\n",
    "\n",
    "# matplotlib.pyplot.hist(x, bins=2 range=None, rwidth=None, color=None, label=tEST)"
   ]
  },
  {
   "cell_type": "markdown",
   "metadata": {},
   "source": [
    "The above graph plots the number of successful trialls against the number of trialls totally. It shows that the distribution is normally distributed when the probability is 0.5.\n",
    "\n",
    "There are many real word instances of binomial distributions. e.g drug trial - it works or doesnt, lottery ticket - you win or dont. It can be used to predict any situation in which success or failure are an option."
   ]
  },
  {
   "cell_type": "markdown",
   "metadata": {},
   "source": [
    "## Task 4: Simpsons Paradox\n",
    "-------------\n",
    "\n",
    "use numpy.linspace\n",
    "\n",
    "https://numpy.org/doc/stable/reference/generated/numpy.linspace.html\n",
    "\n",
    "https://en.wikipedia.org/wiki/Simpson%27s_paradox\n",
    "\n",
    "https://www.britannica.com/topic/Simpsons-paradox/Problem-of-Causality\n"
   ]
  },
  {
   "cell_type": "code",
   "execution_count": null,
   "metadata": {},
   "outputs": [],
   "source": [
    "# Example pulled from numpy.linspace manual\n",
    "\n",
    "import matplotlib.pyplot as plt\n",
    "N = 8\n",
    "y = np.zeros(N)\n",
    "x1 = np.linspace(0, 10, N, endpoint=True)\n",
    "x2 = np.linspace(0, 10, N, endpoint=False)\n",
    "plt.plot(x1, y, 'o')\n",
    "\n",
    "plt.plot(x2, y + 0.5, 'o')\n",
    "\n",
    "plt.ylim([-0.5, 1])\n",
    "\n",
    "plt.show()"
   ]
  },
  {
   "cell_type": "code",
   "execution_count": null,
   "metadata": {},
   "outputs": [],
   "source": []
  }
 ],
 "metadata": {
  "kernelspec": {
   "display_name": "Python 3",
   "language": "python",
   "name": "python3"
  },
  "language_info": {
   "codemirror_mode": {
    "name": "ipython",
    "version": 3
   },
   "file_extension": ".py",
   "mimetype": "text/x-python",
   "name": "python",
   "nbconvert_exporter": "python",
   "pygments_lexer": "ipython3",
   "version": "3.8.3"
  }
 },
 "nbformat": 4,
 "nbformat_minor": 4
}
