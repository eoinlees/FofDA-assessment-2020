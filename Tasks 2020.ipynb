{
 "cells": [
  {
   "cell_type": "markdown",
   "metadata": {},
   "source": [
    "# Tasks 2020\n",
    "\n",
    "These are my solutions to the tasks assessments. The Author is Eoin Lees (G00387888@gmit.ie)\n",
    "\n",
    "-----"
   ]
  },
  {
   "cell_type": "code",
   "execution_count": 1,
   "metadata": {},
   "outputs": [],
   "source": [
    "# Import all functions necessary for each task\n",
    "import numpy as np\n",
    "import random\n",
    "import matplotlib.pyplot as plt"
   ]
  },
  {
   "cell_type": "markdown",
   "metadata": {},
   "source": [
    "## Task 1: Counts function\n",
    "\n",
    "This function takes a list as input and returns a dictionary of unique items in the list and teh number of times each item appears as values. \n",
    "\n",
    "Ideas: For Loops? do research\n",
    "\n",
    "Question:\n",
    "\n",
    "October 5th, 2020: Write a Python function called counts that takes a list as\n",
    "input and returns a dictionary of unique items in the list as keys and the number of\n",
    "times each item appears as values. So, the input ['A', 'A', 'B', 'C', 'A']\n",
    "should have output  {'A': 3, 'B': 1, 'C': 1}  . Your code should not depend\n",
    "on any module from the standard library or otherwise. You should research the task\n",
    "first and include a description with references of your algorithm in the notebook.\n",
    "\n"
   ]
  },
  {
   "cell_type": "code",
   "execution_count": null,
   "metadata": {},
   "outputs": [],
   "source": []
  },
  {
   "cell_type": "code",
   "execution_count": 2,
   "metadata": {},
   "outputs": [
    {
     "name": "stdout",
     "output_type": "stream",
     "text": [
      "Enter a number of letters, numbers or words seperated by a space: 12\n",
      "{'12': 1}\n"
     ]
    }
   ],
   "source": [
    "List = input(\"Enter a number of letters, numbers or words seperated by a space: \")\n",
    "userList = List.split()\n",
    "\n",
    "#print(List)\n",
    "def counts(List):\n",
    "    print(dict((i, userList.count(i)) for i in userList))\n",
    "counts(userList)"
   ]
  },
  {
   "cell_type": "code",
   "execution_count": 3,
   "metadata": {},
   "outputs": [
    {
     "name": "stdout",
     "output_type": "stream",
     "text": [
      "{'12': 1}\n"
     ]
    }
   ],
   "source": [
    "counts(\"5 9 4 6 Bus Bus bus\")"
   ]
  },
  {
   "cell_type": "code",
   "execution_count": null,
   "metadata": {},
   "outputs": [],
   "source": []
  },
  {
   "cell_type": "markdown",
   "metadata": {},
   "source": [
    "\n",
    "##### References\n",
    "\n",
    "[1] https://pynative.com/python-accept-list-input-from-user/\n",
    "\n",
    "[2] https://stackoverflow.com/questions/2600191/how-can-i-count-the-occurrences-of-a-list-item\n",
    "\n",
    "[3] https://realpython.com/python-dicts/"
   ]
  },
  {
   "cell_type": "markdown",
   "metadata": {},
   "source": [
    "## Task 2: Dicerolls function\n",
    "-------------"
   ]
  },
  {
   "cell_type": "code",
   "execution_count": 4,
   "metadata": {},
   "outputs": [
    {
     "data": {
      "text/plain": [
       "[19, 15, 17, 13, 21, 19, 15, 26, 18, 12]"
      ]
     },
     "execution_count": 4,
     "metadata": {},
     "output_type": "execute_result"
    }
   ],
   "source": [
    "import random\n",
    "\n",
    "def dice_roll(k):\n",
    "    sum = 0\n",
    "    for i in range(0,k):\n",
    "        dice = random.randint(1,6)\n",
    "        #print(dice) # To test function\n",
    "        sum = sum + dice\n",
    "    return(sum)\n",
    "\n",
    "\n",
    "def dicerolls(k, n):\n",
    "    myList = [dice_roll(k) for _ in range(n)]\n",
    "    return(myList)\n",
    "\n",
    "dicerolls(5, 10)\n",
    "\n",
    "#counts(dice_rolls(15,10))\n",
    "# def dicerolls(k, n):\n",
    "   # k = numOfDice\n",
    "   #n = numOfRolls\n",
    "    \n",
    "# numOfDice = int(input(\"How many dice ?\"))\n",
    "# numOfRolls    = int(input(\"How many rolls?\"))"
   ]
  },
  {
   "cell_type": "code",
   "execution_count": 5,
   "metadata": {},
   "outputs": [
    {
     "name": "stdout",
     "output_type": "stream",
     "text": [
      "{'12': 1}\n"
     ]
    }
   ],
   "source": [
    "counts(dicerolls(2, 1000))"
   ]
  },
  {
   "cell_type": "code",
   "execution_count": null,
   "metadata": {},
   "outputs": [],
   "source": []
  },
  {
   "cell_type": "code",
   "execution_count": null,
   "metadata": {},
   "outputs": [],
   "source": []
  },
  {
   "cell_type": "markdown",
   "metadata": {},
   "source": [
    "## Task 3: numpy.random.binomial\n",
    "-------------\n",
    "\n",
    "Pull numpy.random.binomial summary from Programming for Data Analytics project"
   ]
  },
  {
   "cell_type": "markdown",
   "metadata": {},
   "source": [
    "#### Task\n",
    "\n",
    "November 16th, 2020: The `numpy.random.binomial` function can be used to\n",
    "simulate flipping a coin with a 50/50 chance of heads or tails. \n",
    "\n",
    "Interestingly, if a coin is flipped many times then the number of heads is well approximated by a bell-shaped curve. For instance, if we flip a coin 100 times in a row the chance of getting 50 heads is relatively high, the chances of getting 0 or 100 heads is relatively low, and the chances of getting any other number of heads decreases as you move away from 50 in either direction towards 0 or 100. \n",
    "\n",
    "Write some python code that simulates flipping a coin 100 times. Then run this code 1,000 times, keeping track of the number of heads in each of the 1,000 simulations. Select an appropriate plot to depict the resulting list of 1,000 numbers, showing that it roughly follows a bell-shaped curve. You should explain your work in a Markdown cell above the code.\n"
   ]
  },
  {
   "cell_type": "markdown",
   "metadata": {},
   "source": [
    "* ### Distribution 2: binomial\n",
    "\n",
    "**Generator.binomial(n, p, size=None)**\n",
    " \n",
    "Creates a sample from a binomial distributon. The specific paramaters are; n, the number of trialls, and  p, the probability of sucess. \n",
    "\n",
    "\"A binomial distribution can be thought of as simply the probability of a SUCCESS or FAILURE outcome in an experiment or survey that is repeated multiple times.\" [\\[18\\]][18] It is a type of distribution that has two possible outcomes. e.g coin toss - heads or tails. \n",
    "\n",
    "* Parameters \n",
    "    * n: trialls - paramater of the distribution greater than or equal to zero.\n",
    "    * p: probability of success, in the interval [1,0]\n",
    "    * size: output shape\n",
    "\n",
    "* Returns\n",
    "    * out: ndarray or scalar - Drawn samples from the parameterized binomial distribution, where each sample is equal to the number of successes over the n trials.\n",
    "    \n",
    "Note: for more information on this function see numpy documentation. [\\[17\\]][17]\n",
    "\n",
    "Examples\n",
    "\n",
    "\n",
    "\n",
    "\n",
    "[18]: https://www.statisticshowto.com/probability-and-statistics/binomial-theorem/binomial-distribution-formula/\n",
    "\n",
    "\n",
    "[17]: https://numpy.org/doc/stable/reference/random/generated/numpy.random.Generator.binomial.html#numpy.random.Generator.binomial"
   ]
  },
  {
   "cell_type": "code",
   "execution_count": 6,
   "metadata": {
    "scrolled": true
   },
   "outputs": [
    {
     "data": {
      "text/plain": [
       "array([49, 45, 43, 42, 53, 52, 51, 53, 56, 48, 56, 48, 45, 57, 51, 48, 48,\n",
       "       43, 43, 41, 49, 57, 56, 45, 54, 49, 50, 48, 52, 56, 54, 51, 42, 49,\n",
       "       44, 41, 55, 41, 52, 55, 52, 59, 50, 58, 50, 50, 56, 46, 47, 49, 47,\n",
       "       52, 57, 43, 50, 40, 48, 48, 55, 46, 49, 51, 46, 56, 49, 57, 54, 53,\n",
       "       49, 56, 45, 59, 44, 45, 47, 42, 58, 49, 49, 52, 58, 54, 48, 55, 46,\n",
       "       48, 54, 51, 54, 51, 51, 58, 61, 46, 59, 48, 50, 48, 46, 57, 43, 55,\n",
       "       55, 55, 52, 44, 48, 45, 46, 62, 57, 37, 46, 41, 56, 51, 50, 45, 56,\n",
       "       51, 53, 50, 45, 49, 60, 51, 43, 47, 55, 51, 48, 57, 52, 46, 44, 47,\n",
       "       53, 57, 53, 50, 51, 52, 45, 48, 53, 62, 52, 52, 50, 51, 61, 57, 54,\n",
       "       46, 46, 44, 57, 48, 52, 51, 47, 47, 48, 47, 47, 57, 46, 49, 50, 50,\n",
       "       57, 52, 48, 53, 58, 46, 51, 53, 54, 47, 54, 46, 52, 48, 51, 47, 52,\n",
       "       47, 47, 61, 51, 50, 50, 53, 38, 53, 46, 51, 52, 44, 51, 62, 42, 50,\n",
       "       49, 49, 53, 53, 53, 51, 51, 57, 41, 48, 43, 46, 45, 45, 58, 59, 55,\n",
       "       57, 57, 56, 53, 48, 51, 45, 43, 51, 56, 55, 51, 47, 56, 50, 57, 46,\n",
       "       43, 61, 43, 47, 58, 47, 50, 53, 51, 41, 51, 48, 47, 49, 54, 54, 53,\n",
       "       46, 51, 50, 46, 50, 58, 50, 48, 51, 44, 56, 54, 54, 47, 45, 43, 51,\n",
       "       56, 51, 50, 50, 56, 47, 55, 52, 43, 41, 51, 53, 49, 53, 50, 41, 46,\n",
       "       50, 55, 48, 53, 58, 57, 52, 53, 53, 44, 51, 53, 55, 52, 56, 62, 50,\n",
       "       64, 45, 51, 43, 44, 47, 49, 52, 47, 46, 48, 47, 53, 49, 52, 51, 48,\n",
       "       46, 51, 39, 49, 55, 47, 53, 40, 49, 48, 46, 59, 50, 56, 44, 56, 52,\n",
       "       47, 49, 49, 57, 46, 59, 51, 56, 42, 59, 50, 54, 53, 45, 48, 51, 50,\n",
       "       49, 45, 46, 50, 54, 50, 49, 52, 52, 47, 53, 50, 46, 51, 58, 53, 54,\n",
       "       50, 50, 53, 55, 46, 45, 51, 44, 53, 51, 51, 50, 48, 49, 51, 55, 50,\n",
       "       54, 53, 57, 50, 47, 52, 54, 50, 45, 46, 51, 50, 53, 53, 57, 48, 53,\n",
       "       54, 50, 48, 57, 50, 37, 52, 47, 56, 41, 52, 53, 46, 48, 50, 51, 49,\n",
       "       50, 45, 44, 51, 57, 51, 50, 47, 50, 45, 55, 63, 40, 50, 44, 53, 50,\n",
       "       41, 50, 42, 51, 42, 51, 52, 52, 49, 49, 52, 49, 48, 47, 48, 43, 45,\n",
       "       44, 57, 56, 50, 53, 49, 58, 48, 46, 53, 50, 52, 48, 54, 45, 46, 54,\n",
       "       50, 49, 52, 45, 47, 54, 48, 61, 49, 48, 46, 47, 61, 48, 51, 57, 45,\n",
       "       43, 47, 53, 49, 55, 48, 50, 46, 53, 48, 50, 50, 46, 53, 45, 42, 50,\n",
       "       61, 53, 58, 51, 53, 50, 55, 47, 55, 50, 49, 51, 62, 48, 59, 50, 51,\n",
       "       46, 47, 59, 49, 46, 49, 52, 51, 56, 42, 48, 49, 54, 55, 55, 42, 45,\n",
       "       53, 52, 47, 50, 56, 53, 56, 55, 54, 54, 56, 51, 47, 54, 51, 54, 53,\n",
       "       44, 55, 53, 50, 51, 45, 47, 57, 50, 45, 57, 45, 50, 53, 47, 46, 42,\n",
       "       49, 57, 51, 49, 50, 57, 59, 54, 48, 47, 47, 50, 55, 51, 56, 44, 47,\n",
       "       52, 41, 51, 50, 54, 63, 41, 46, 47, 59, 50, 48, 56, 52, 47, 50, 47,\n",
       "       55, 46, 44, 47, 52, 41, 63, 51, 50, 49, 53, 51, 52, 47, 51, 51, 54,\n",
       "       50, 51, 48, 61, 39, 50, 47, 50, 34, 61, 48, 46, 56, 51, 52, 50, 52,\n",
       "       47, 41, 48, 53, 51, 52, 49, 59, 49, 52, 57, 45, 45, 50, 48, 58, 55,\n",
       "       51, 54, 43, 48, 49, 48, 46, 43, 49, 48, 53, 49, 48, 44, 47, 47, 56,\n",
       "       56, 48, 47, 51, 46, 50, 52, 58, 58, 48, 37, 45, 52, 56, 50, 50, 53,\n",
       "       55, 52, 45, 54, 57, 53, 51, 42, 52, 49, 60, 61, 51, 44, 42, 51, 44,\n",
       "       47, 58, 50, 54, 52, 52, 50, 57, 46, 54, 51, 50, 60, 43, 56, 49, 46,\n",
       "       48, 48, 53, 45, 50, 57, 47, 45, 61, 55, 54, 50, 59, 57, 46, 62, 48,\n",
       "       49, 51, 53, 54, 54, 50, 46, 42, 50, 46, 51, 52, 46, 57, 53, 51, 53,\n",
       "       52, 49, 34, 42, 56, 47, 48, 54, 43, 52, 52, 53, 47, 46, 41, 47, 57,\n",
       "       51, 58, 56, 57, 54, 53, 51, 52, 45, 56, 44, 47, 50, 54, 58, 48, 44,\n",
       "       51, 51, 53, 44, 42, 50, 44, 52, 55, 47, 45, 52, 55, 47, 49, 48, 54,\n",
       "       53, 52, 49, 50, 41, 51, 51, 51, 52, 54, 48, 48, 48, 56, 56, 56, 53,\n",
       "       53, 49, 47, 52, 43, 53, 41, 47, 49, 45, 48, 43, 42, 48, 42, 46, 43,\n",
       "       44, 51, 47, 48, 49, 54, 55, 53, 47, 55, 55, 44, 46, 43, 50, 55, 46,\n",
       "       48, 50, 56, 52, 56, 47, 48, 48, 48, 51, 49, 58, 42, 52, 52, 50, 49,\n",
       "       50, 49, 54, 57, 53, 58, 46, 40, 54, 48, 53, 50, 49, 41, 50, 56, 50,\n",
       "       47, 50, 51, 49, 44, 52, 50, 41, 54, 48, 55, 56, 49, 38, 48, 45, 44,\n",
       "       44, 49, 57, 45, 51, 53, 46, 51, 39, 64, 42, 42, 60, 52, 38, 53, 58,\n",
       "       40, 57, 45, 48, 54, 40, 47, 56, 62, 55, 55, 49, 55, 48, 51, 46, 53,\n",
       "       52, 44, 45, 50, 46, 62, 48, 56, 53, 51, 43, 50, 52, 46, 44, 60, 47,\n",
       "       51, 47, 49, 47, 49, 52, 42, 47, 59, 54, 53, 40, 58, 58, 36, 46, 55,\n",
       "       57, 42, 57, 46, 44, 58, 54, 46, 48, 54, 46, 49, 48, 59],\n",
       "      dtype=int64)"
      ]
     },
     "execution_count": 6,
     "metadata": {},
     "output_type": "execute_result"
    }
   ],
   "source": [
    "rng = np.random.default_rng()\n",
    "n, p = 100, .5  # number of trials, probability of each trial\n",
    "s = rng.binomial(n, p, 1000)\n",
    "# result of flipping a coin 10 times, tested 10000 times.\n",
    "s\n",
    "# plt.hist(s, bins=10, range=None, rwidth=None, color=None, label=\"tEST\")\n"
   ]
  },
  {
   "cell_type": "code",
   "execution_count": 7,
   "metadata": {},
   "outputs": [
    {
     "data": {
      "text/plain": [
       "(array([  3.,   9.,  49.,  98., 209., 251., 188., 125.,  44.,  24.]),\n",
       " array([34., 37., 40., 43., 46., 49., 52., 55., 58., 61., 64.]),\n",
       " <a list of 10 Patch objects>)"
      ]
     },
     "execution_count": 7,
     "metadata": {},
     "output_type": "execute_result"
    },
    {
     "data": {
      "image/png": "[encoded data removed]",
      "text/plain": [
       "<Figure size 432x288 with 1 Axes>"
      ]
     },
     "metadata": {
      "needs_background": "light"
     },
     "output_type": "display_data"
    }
   ],
   "source": [
    "plt.hist(s, bins=10, range=None, rwidth=None, color=None, label=\"tEST\")\n",
    "\n",
    "# matplotlib.pyplot.hist(x, bins=2 range=None, rwidth=None, color=None, label=tEST)"
   ]
  },
  {
   "cell_type": "markdown",
   "metadata": {},
   "source": [
    "The above graph plots the number of successful trialls against the number of trialls totally. It shows that the distribution is normally distributed when the probability is 0.5.\n",
    "\n",
    "There are many real word instances of binomial distributions. e.g drug trial - it works or doesnt, lottery ticket - you win or dont. It can be used to predict any situation in which success or failure are an option."
   ]
  },
  {
   "cell_type": "markdown",
   "metadata": {},
   "source": [
    "## Task 4: Simpsons Paradox\n",
    "-------------\n",
    "\n",
    "use numpy.linspace\n",
    "\n",
    "https://numpy.org/doc/stable/reference/generated/numpy.linspace.html\n",
    "\n",
    "https://en.wikipedia.org/wiki/Simpson%27s_paradox\n",
    "\n",
    "https://www.britannica.com/topic/Simpsons-paradox/Problem-of-Causality\n"
   ]
  },
  {
   "cell_type": "code",
   "execution_count": 8,
   "metadata": {},
   "outputs": [
    {
     "data": {
      "image/png": "[encoded data removed]",
      "text/plain": [
       "<Figure size 432x288 with 1 Axes>"
      ]
     },
     "metadata": {
      "needs_background": "light"
     },
     "output_type": "display_data"
    }
   ],
   "source": [
    "# Example pulled from numpy.linspace manual\n",
    "\n",
    "import matplotlib.pyplot as plt\n",
    "N = 8\n",
    "y = np.zeros(N)\n",
    "x1 = np.linspace(0, 10, N, endpoint=True)\n",
    "x2 = np.linspace(0, 10, N, endpoint=False)\n",
    "plt.plot(x1, y, 'o')\n",
    "\n",
    "plt.plot(x2, y + 0.5, 'o')\n",
    "\n",
    "plt.ylim([-0.5, 1])\n",
    "\n",
    "plt.show()"
   ]
  },
  {
   "cell_type": "code",
   "execution_count": null,
   "metadata": {},
   "outputs": [],
   "source": []
  }
 ],
 "metadata": {
  "kernelspec": {
   "display_name": "Python 3",
   "language": "python",
   "name": "python3"
  },
  "language_info": {
   "codemirror_mode": {
    "name": "ipython",
    "version": 3
   },
   "file_extension": ".py",
   "mimetype": "text/x-python",
   "name": "python",
   "nbconvert_exporter": "python",
   "pygments_lexer": "ipython3",
   "version": "3.8.3"
  }
 },
 "nbformat": 4,
 "nbformat_minor": 4
}
