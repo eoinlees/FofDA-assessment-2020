{
 "cells": [
  {
   "cell_type": "markdown",
   "metadata": {},
   "source": [
    "# Tasks 2020\n",
    "\n",
    "These are my solutions to the tasks assessments. The Author is Eoin Lees (G00387888@gmit.ie)\n",
    "\n",
    "-----"
   ]
  },
  {
   "cell_type": "markdown",
   "metadata": {},
   "source": [
    "## Task 1: Counts function\n",
    "\n",
    "This function takes a list as input and returns a dictionary of unique items in the list and teh number of times each item appears as values. \n",
    "\n",
    "Ideas: For Loops? do research\n",
    "\n",
    "Question:\n",
    "\n",
    "October 5th, 2020: Write a Python function called counts that takes a list as\n",
    "input and returns a dictionary of unique items in the list as keys and the number of\n",
    "times each item appears as values. So, the input ['A', 'A', 'B', 'C', 'A']\n",
    "should have output  {'A': 3, 'B': 1, 'C': 1}  . Your code should not depend\n",
    "on any module from the standard library or otherwise. You should research the task\n",
    "first and include a description with references of your algorithm in the notebook.\n",
    "\n"
   ]
  },
  {
   "cell_type": "code",
   "execution_count": 11,
   "metadata": {},
   "outputs": [
    {
     "name": "stdout",
     "output_type": "stream",
     "text": [
      "None\n"
     ]
    }
   ],
   "source": [
    "def counts(List):\n",
    "    dict((i, userList.count(i)) for i in userList)\n",
    "print(counts())"
   ]
  },
  {
   "cell_type": "code",
   "execution_count": 18,
   "metadata": {},
   "outputs": [
    {
     "name": "stdout",
     "output_type": "stream",
     "text": [
      "Enter a number of letters, numbers or words seperated by a space: 2 2 2 2 2 2 2 2\n",
      "{'2': 8}\n"
     ]
    }
   ],
   "source": [
    "List = input(\"Enter a number of letters, numbers or words seperated by a space: \")\n",
    "\n",
    "def counts(List):\n",
    "    userList = List.split()\n",
    "    print(dict((i, userList.count(i)) for i in userList))\n",
    "counts(List)"
   ]
  },
  {
   "cell_type": "code",
   "execution_count": null,
   "metadata": {},
   "outputs": [],
   "source": []
  },
  {
   "cell_type": "code",
   "execution_count": null,
   "metadata": {},
   "outputs": [],
   "source": []
  },
  {
   "cell_type": "markdown",
   "metadata": {},
   "source": [
    "\n",
    "##### References\n",
    "\n",
    "[1] https://pynative.com/python-accept-list-input-from-user/\n",
    "\n",
    "[2] https://stackoverflow.com/questions/2600191/how-can-i-count-the-occurrences-of-a-list-item\n",
    "\n",
    "[3] https://realpython.com/python-dicts/"
   ]
  },
  {
   "cell_type": "markdown",
   "metadata": {},
   "source": [
    "#### Task 2: Dicerolls function\n",
    "-------------"
   ]
  },
  {
   "cell_type": "code",
   "execution_count": null,
   "metadata": {},
   "outputs": [],
   "source": [
    "import random\n",
    "\n",
    "def dice_roll(rolls):\n",
    "    sum = 0\n",
    "    for i in range(0,rolls):\n",
    "        dice = random.randint(1,6)\n",
    "        print(dice) # To test function\n",
    "        sum = sum + dice\n",
    "    print(sum)\n",
    "\n",
    "dice_roll(5)\n",
    "\n",
    "# def dicerolls(k, n):\n",
    "   # k = numOfDice\n",
    "   #n = numOfRolls\n",
    "    \n",
    "# numOfDice = int(input(\"How many dice ?\"))\n",
    "# numOfRolls    = int(input(\"How many rolls?\"))"
   ]
  },
  {
   "cell_type": "code",
   "execution_count": null,
   "metadata": {},
   "outputs": [],
   "source": []
  },
  {
   "cell_type": "code",
   "execution_count": null,
   "metadata": {},
   "outputs": [],
   "source": []
  }
 ],
 "metadata": {
  "kernelspec": {
   "display_name": "Python 3",
   "language": "python",
   "name": "python3"
  },
  "language_info": {
   "codemirror_mode": {
    "name": "ipython",
    "version": 3
   },
   "file_extension": ".py",
   "mimetype": "text/x-python",
   "name": "python",
   "nbconvert_exporter": "python",
   "pygments_lexer": "ipython3",
   "version": "3.8.3"
  }
 },
 "nbformat": 4,
 "nbformat_minor": 4
}
